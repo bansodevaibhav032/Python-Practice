{
 "cells": [
  {
   "cell_type": "markdown",
   "id": "b9bfd7c0-6950-49b7-8142-6daf15ad3bd5",
   "metadata": {},
   "source": [
    "Sets \n",
    "- Collection of Well defined objects\n",
    "- it can be homogenius and hetrogenius \n",
    "- Sets is Unordered collection of items/objects\n",
    "- Each item/obj is Unique\n",
    "- sets are unchangeble.\n",
    "- Do not allow Duplicate values.\n",
    "- syntax- name_of_set={ , , , ,}"
   ]
  },
  {
   "cell_type": "code",
   "execution_count": 11,
   "id": "4835e24a-5183-4d44-b9f1-0144e2f2a3b4",
   "metadata": {},
   "outputs": [
    {
     "name": "stdout",
     "output_type": "stream",
     "text": [
      "{2, 3, 'vaibhav', 4, 5, 'MCA'}\n"
     ]
    }
   ],
   "source": [
    "a={'vaibhav',3,2,4,'MCA',5,4}\n",
    "print(a)"
   ]
  },
  {
   "cell_type": "code",
   "execution_count": 7,
   "id": "2b5bd9d0-6e80-471a-92c6-9a8ca30ebcd7",
   "metadata": {},
   "outputs": [
    {
     "name": "stdout",
     "output_type": "stream",
     "text": [
      "<class 'dict'>\n"
     ]
    }
   ],
   "source": [
    "vab={}\n",
    "print(type(vab))"
   ]
  },
  {
   "cell_type": "code",
   "execution_count": 6,
   "id": "f0c6fd76-52c2-4bb5-ad9d-967eeca4ede7",
   "metadata": {},
   "outputs": [
    {
     "name": "stdout",
     "output_type": "stream",
     "text": [
      "<class 'set'>\n"
     ]
    }
   ],
   "source": [
    "# Empty set \n",
    "vab=set()\n",
    "print(type(vab))"
   ]
  },
  {
   "cell_type": "code",
   "execution_count": 12,
   "id": "b3013f86-ad71-4b33-a165-523d67b2dcd2",
   "metadata": {},
   "outputs": [
    {
     "name": "stdout",
     "output_type": "stream",
     "text": [
      "2\n",
      "3\n",
      "vaibhav\n",
      "4\n",
      "5\n",
      "MCA\n"
     ]
    }
   ],
   "source": [
    "for i in a:\n",
    "    print(i)"
   ]
  },
  {
   "cell_type": "code",
   "execution_count": null,
   "id": "b80d0e1a-9be5-4495-a32a-62df1f2007fa",
   "metadata": {},
   "outputs": [],
   "source": [
    " "
   ]
  },
  {
   "cell_type": "markdown",
   "id": "df4a52cb-13e3-4f63-a603-8488f6b3adce",
   "metadata": {},
   "source": [
    "Methods "
   ]
  },
  {
   "cell_type": "code",
   "execution_count": 18,
   "id": "e6c2c914-7fc3-4d80-90d0-059d8e30b29d",
   "metadata": {},
   "outputs": [
    {
     "name": "stdout",
     "output_type": "stream",
     "text": [
      "{1, 2, 3, 4, 5, 6, 7}\n",
      "{1, 2, 3, 4, 5, 6, 7} {3, 4, 5, 6}\n"
     ]
    }
   ],
   "source": [
    "#Union and Update\n",
    "\n",
    "s1={1,2,3,7}\n",
    "s2={4,5,6,3}\n",
    "\n",
    "print(s1.union(s2))\n",
    "s1.update(s2)\n",
    "print(s1,s2)"
   ]
  },
  {
   "cell_type": "code",
   "execution_count": 31,
   "id": "a7e38d7f-b0d1-4e3a-9f6a-f1921f82349e",
   "metadata": {},
   "outputs": [
    {
     "name": "stdout",
     "output_type": "stream",
     "text": [
      "{'Sangli', 'Pune'}\n"
     ]
    }
   ],
   "source": [
    "#Interection and update - it will get the similler values in the both the sets\n",
    "\n",
    "c1={'Pune','Mumbai','Sangli'}\n",
    "c2={'Sangli','Satara',\"Pune\"}\n",
    "#print(c1.intersection(c2))\n",
    "# c1.update(c2)\n",
    "# print(c1,c2)\n",
    "c1.intersection_update(c2)\n",
    "print(c1)"
   ]
  },
  {
   "cell_type": "code",
   "execution_count": 32,
   "id": "e148edb7-dcea-4328-880c-91e2efc971c0",
   "metadata": {},
   "outputs": [
    {
     "name": "stdout",
     "output_type": "stream",
     "text": [
      "{'Satara', 'Mumbai'}\n"
     ]
    }
   ],
   "source": [
    "#Symmetric Difference- It will print different value in both the sets \n",
    "\n",
    "c1={'Pune','Mumbai','Sangli'}\n",
    "c2={'Sangli','Satara',\"Pune\"}\n",
    "c3=c1.symmetric_difference(c2)\n",
    "print(c3)"
   ]
  },
  {
   "cell_type": "code",
   "execution_count": 36,
   "id": "d6937f20-f1fa-4d8f-8f7d-93f37dc702bc",
   "metadata": {},
   "outputs": [
    {
     "name": "stdout",
     "output_type": "stream",
     "text": [
      "{'Mumbai', 'Nashik'}\n"
     ]
    }
   ],
   "source": [
    "# Difference and update - Unique value only the first sets\n",
    "\n",
    "c1={'Pune','Mumbai','Sangli','Nashik'}\n",
    "c2={'Sangli','Satara',\"Pune\"}\n",
    "c3=c1.difference(c2)\n",
    "print(c3)"
   ]
  },
  {
   "cell_type": "code",
   "execution_count": 39,
   "id": "aa1b50f8-83ea-4a4f-a317-3436786a55f8",
   "metadata": {},
   "outputs": [
    {
     "name": "stdout",
     "output_type": "stream",
     "text": [
      "True\n"
     ]
    }
   ],
   "source": [
    "# isdisjoint - checks the given set present in another set. return false if present else True\n",
    "\n",
    "#gives True if not present in both \n",
    "c1={'Pune1','Mumbai','Sangli1','Nashik'}\n",
    "c2={'Sangli','Satara',\"Pune\"}\n",
    "c3=c1.isdisjoint(c2)\n",
    "print(c3)\n"
   ]
  },
  {
   "cell_type": "code",
   "execution_count": 41,
   "id": "7ff868fe-f95f-4f29-a292-9cb1f6c71d94",
   "metadata": {},
   "outputs": [
    {
     "name": "stdout",
     "output_type": "stream",
     "text": [
      "False\n"
     ]
    }
   ],
   "source": [
    "#gives false if values present in both \n",
    "\n",
    "c1={'Pune','Mumbai','Sangli','Nashik'}\n",
    "c2={'Sangli','Satara',\"Pune\"}\n",
    "c3=c1.isdisjoint(c2)\n",
    "print(c3)"
   ]
  },
  {
   "cell_type": "code",
   "execution_count": 47,
   "id": "731b9465-9cd4-4ef0-aee9-84679e6008e8",
   "metadata": {},
   "outputs": [
    {
     "name": "stdout",
     "output_type": "stream",
     "text": [
      "True\n",
      "False\n"
     ]
    }
   ],
   "source": [
    "#issuperset - if another set have all the values of above set then true.\n",
    "\n",
    "c1={'Pune','Mumbai','Sangli','Nashik'}\n",
    "c2={'Sangli',\"Pune\"}\n",
    "print(c1.issuperset(c2))\n",
    "c3={'jaipur','delhi'}\n",
    "print(c1.issuperset(c3))"
   ]
  },
  {
   "cell_type": "code",
   "execution_count": 51,
   "id": "fcdca3df-a2f6-4b61-b0fa-b0532934e571",
   "metadata": {},
   "outputs": [
    {
     "name": "stdout",
     "output_type": "stream",
     "text": [
      "True\n",
      "False\n"
     ]
    }
   ],
   "source": [
    "#issubset- it's opposite for superset\n",
    "\n",
    "c1={'Pune','Mumbai','Sangli','Nashik'}\n",
    "c2={'Sangli',\"Pune\"}\n",
    "print(c2.issubset(c1))\n",
    "c3={'jaipur','delhi','Mumbai'}\n",
    "print(c3.issubset(c1))"
   ]
  },
  {
   "cell_type": "code",
   "execution_count": 56,
   "id": "bf2c7c97-0c87-4ca8-a263-db4a63227da2",
   "metadata": {},
   "outputs": [
    {
     "name": "stdout",
     "output_type": "stream",
     "text": [
      "{'Sangli', 'Mumbai', 'Pune'}\n"
     ]
    }
   ],
   "source": [
    "#remove/discard- remove raise error but discard not\n",
    "\n",
    "c1={'Pune','Mumbai','Sangli','Nashik'}\n",
    "c1.remove('Nashik')\n",
    "c1.discard('pune')\n",
    "print(c1)"
   ]
  },
  {
   "cell_type": "code",
   "execution_count": 57,
   "id": "7991944b-91ba-4a74-bbaa-ab6cc51e0782",
   "metadata": {},
   "outputs": [
    {
     "name": "stdout",
     "output_type": "stream",
     "text": [
      "Sangli\n",
      "{'Mumbai', 'Pune', 'Nashik'}\n"
     ]
    }
   ],
   "source": [
    "#Pop- last element removes\n",
    "\n",
    "c1={'Pune','Mumbai','Sangli','Nashik'}\n",
    "ab=c1.pop()\n",
    "print(ab)\n",
    "print(c1)"
   ]
  },
  {
   "cell_type": "code",
   "execution_count": 59,
   "id": "b9519ba9-cd02-467a-8c19-afa43a8d4b5e",
   "metadata": {},
   "outputs": [
    {
     "ename": "NameError",
     "evalue": "name 'c1' is not defined",
     "output_type": "error",
     "traceback": [
      "\u001b[1;31m---------------------------------------------------------------------------\u001b[0m",
      "\u001b[1;31mNameError\u001b[0m                                 Traceback (most recent call last)",
      "Cell \u001b[1;32mIn[59], line 5\u001b[0m\n\u001b[0;32m      3\u001b[0m c1\u001b[38;5;241m=\u001b[39m{\u001b[38;5;124m'\u001b[39m\u001b[38;5;124mPune\u001b[39m\u001b[38;5;124m'\u001b[39m,\u001b[38;5;124m'\u001b[39m\u001b[38;5;124mMumbai\u001b[39m\u001b[38;5;124m'\u001b[39m,\u001b[38;5;124m'\u001b[39m\u001b[38;5;124mSangli\u001b[39m\u001b[38;5;124m'\u001b[39m,\u001b[38;5;124m'\u001b[39m\u001b[38;5;124mNashik\u001b[39m\u001b[38;5;124m'\u001b[39m}\n\u001b[0;32m      4\u001b[0m \u001b[38;5;28;01mdel\u001b[39;00m c1\n\u001b[1;32m----> 5\u001b[0m \u001b[38;5;28mprint\u001b[39m(\u001b[43mc1\u001b[49m)\n",
      "\u001b[1;31mNameError\u001b[0m: name 'c1' is not defined"
     ]
    }
   ],
   "source": [
    "#del - not a method, it is a kayword that Delete entire set\n",
    "\n",
    "c1={'Pune','Mumbai','Sangli','Nashik'}\n",
    "del c1\n",
    "print(c1)"
   ]
  },
  {
   "cell_type": "code",
   "execution_count": 60,
   "id": "17ee24ed-93d9-48f2-a494-054d92da44bb",
   "metadata": {},
   "outputs": [
    {
     "name": "stdout",
     "output_type": "stream",
     "text": [
      "set()\n"
     ]
    }
   ],
   "source": [
    "# clear()- Delete all values inside the set \n",
    "\n",
    "c1={'Pune','Mumbai','Sangli','Nashik'}\n",
    "c1.clear()\n",
    "print(c1)"
   ]
  },
  {
   "cell_type": "code",
   "execution_count": 63,
   "id": "2c0a7fb8-840f-46f0-889f-7fa9a5514103",
   "metadata": {},
   "outputs": [
    {
     "name": "stdout",
     "output_type": "stream",
     "text": [
      "Not Present!\n"
     ]
    }
   ],
   "source": [
    "# checks if items Exists \n",
    "c1={'Pune','Mumbai','Sangli','Nashik'}\n",
    "if 'Pune1' in c1:\n",
    "    print(\"Pune Is Present in the Set!\")\n",
    "else:\n",
    "    print(\"Not Present!\")"
   ]
  },
  {
   "cell_type": "code",
   "execution_count": null,
   "id": "3eb09c56-d317-4be5-ab0f-b1365bd67199",
   "metadata": {},
   "outputs": [],
   "source": []
  }
 ],
 "metadata": {
  "kernelspec": {
   "display_name": "Python 3 (ipykernel)",
   "language": "python",
   "name": "python3"
  },
  "language_info": {
   "codemirror_mode": {
    "name": "ipython",
    "version": 3
   },
   "file_extension": ".py",
   "mimetype": "text/x-python",
   "name": "python",
   "nbconvert_exporter": "python",
   "pygments_lexer": "ipython3",
   "version": "3.12.0"
  },
  "widgets": {
   "application/vnd.jupyter.widget-state+json": {
    "state": {},
    "version_major": 2,
    "version_minor": 0
   }
  }
 },
 "nbformat": 4,
 "nbformat_minor": 5
}
