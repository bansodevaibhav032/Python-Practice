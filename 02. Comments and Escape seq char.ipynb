{
 "cells": [
  {
   "cell_type": "markdown",
   "id": "424380a8-1386-44da-b8c9-2a2f957ea015",
   "metadata": {},
   "source": [
    "Comments"
   ]
  },
  {
   "cell_type": "code",
   "execution_count": 1,
   "id": "4cd2419d-01dd-471c-a735-9962dd359558",
   "metadata": {},
   "outputs": [
    {
     "name": "stdout",
     "output_type": "stream",
     "text": [
      "Hello World !!!\n"
     ]
    }
   ],
   "source": [
    "print(\"Hello World !!!\") #Printing Hello World"
   ]
  },
  {
   "cell_type": "code",
   "execution_count": 2,
   "id": "3f3cb612-ff24-44c3-9c5a-dbf10daf7db2",
   "metadata": {},
   "outputs": [
    {
     "name": "stdout",
     "output_type": "stream",
     "text": [
      "p is greater than 5.\n"
     ]
    }
   ],
   "source": [
    "\"\"\"This is an if-else statement.\n",
    "It will execute a block of code if a specified condition is true.\n",
    "If the condition is false then it will execute another block of code.\"\"\"\n",
    "p = 7\n",
    "if (p > 5):\n",
    "    print(\"p is greater than 5.\")\n",
    "else:\n",
    "    print(\"p is not greater than 5.\")"
   ]
  },
  {
   "cell_type": "markdown",
   "id": "59a2da4e-880f-4ac9-8782-d7faf071473a",
   "metadata": {},
   "source": [
    "Escape Sequence Characters"
   ]
  },
  {
   "cell_type": "code",
   "execution_count": 11,
   "id": "1b209002-5a3c-46fa-bb81-78d148429480",
   "metadata": {},
   "outputs": [
    {
     "name": "stdout",
     "output_type": "stream",
     "text": [
      "This will \"execute\" how 'are' you\n"
     ]
    }
   ],
   "source": [
    "#print(\"This doesnt \"execute\")\n",
    "print(\"This will \\\"execute\\\" how \\'are\\' you\")"
   ]
  },
  {
   "cell_type": "code",
   "execution_count": 3,
   "id": "be8feb1c-b246-4fde-8a36-993a8dd5b176",
   "metadata": {},
   "outputs": [
    {
     "name": "stdout",
     "output_type": "stream",
     "text": [
      "Line 1\n",
      "Line 2\n"
     ]
    }
   ],
   "source": [
    "print(\"Line 1\\nLine 2\")"
   ]
  },
  {
   "cell_type": "code",
   "execution_count": 4,
   "id": "53c363e7-a368-4ff4-8348-3eb70218104b",
   "metadata": {},
   "outputs": [
    {
     "name": "stdout",
     "output_type": "stream",
     "text": [
      "Column 1\tColumn 2\n"
     ]
    }
   ],
   "source": [
    "print(\"Column 1\\tColumn 2\")"
   ]
  },
  {
   "cell_type": "code",
   "execution_count": 5,
   "id": "4865f516-0cd6-4ac6-ae37-1278dc673a7b",
   "metadata": {},
   "outputs": [
    {
     "name": "stdout",
     "output_type": "stream",
     "text": [
      "This is a backslash: \\\n"
     ]
    }
   ],
   "source": [
    "print(\"This is a backslash: \\\\\")"
   ]
  },
  {
   "cell_type": "code",
   "execution_count": 6,
   "id": "1490e063-15a6-412c-95d0-acfacbc79de6",
   "metadata": {},
   "outputs": [
    {
     "name": "stdout",
     "output_type": "stream",
     "text": [
      "Single quoted string: 'Hello'\n",
      "Double quoted string: \"Hello\"\n"
     ]
    }
   ],
   "source": [
    "print('Single quoted string: \\'Hello\\'')\n",
    "print(\"Double quoted string: \\\"Hello\\\"\")"
   ]
  },
  {
   "cell_type": "code",
   "execution_count": 7,
   "id": "6cadaf36-df71-4828-a20f-e59b38f9d2e5",
   "metadata": {},
   "outputs": [
    {
     "name": "stdout",
     "output_type": "stream",
     "text": [
      "HellWorld\n"
     ]
    }
   ],
   "source": [
    "print(\"Hello\\bWorld\")"
   ]
  },
  {
   "cell_type": "code",
   "execution_count": 8,
   "id": "ad15a1b4-ba03-407e-8436-e46ee63b2a4e",
   "metadata": {},
   "outputs": [
    {
     "name": "stdout",
     "output_type": "stream",
     "text": [
      "abc\n"
     ]
    }
   ],
   "source": [
    "print(\"123\\rabc\")"
   ]
  },
  {
   "cell_type": "markdown",
   "id": "a9b69924-a64a-45cc-91cd-acebaef8916c",
   "metadata": {},
   "source": [
    "More Print statement "
   ]
  },
  {
   "cell_type": "code",
   "execution_count": 18,
   "id": "f9fe91e7-32ee-4537-8be2-7c1c465083d9",
   "metadata": {},
   "outputs": [
    {
     "name": "stdout",
     "output_type": "stream",
     "text": [
      "abc xyz, 34 - End of line"
     ]
    }
   ],
   "source": [
    "s = \"abc xyz\"\n",
    "a=34\n",
    "print(s,a, sep=', ', end=' - End of line')"
   ]
  },
  {
   "cell_type": "code",
   "execution_count": null,
   "id": "9669adde-a2eb-45a6-84c1-aac8f2d3e3bd",
   "metadata": {},
   "outputs": [],
   "source": []
  },
  {
   "cell_type": "code",
   "execution_count": null,
   "id": "82765c35-cee5-43fb-a9b6-b1669aba2a67",
   "metadata": {},
   "outputs": [],
   "source": []
  },
  {
   "cell_type": "code",
   "execution_count": null,
   "id": "796f57be-21fc-4353-96ec-3270b15bbbf2",
   "metadata": {},
   "outputs": [],
   "source": []
  }
 ],
 "metadata": {
  "kernelspec": {
   "display_name": "Python 3 (ipykernel)",
   "language": "python",
   "name": "python3"
  },
  "language_info": {
   "codemirror_mode": {
    "name": "ipython",
    "version": 3
   },
   "file_extension": ".py",
   "mimetype": "text/x-python",
   "name": "python",
   "nbconvert_exporter": "python",
   "pygments_lexer": "ipython3",
   "version": "3.12.0"
  },
  "widgets": {
   "application/vnd.jupyter.widget-state+json": {
    "state": {},
    "version_major": 2,
    "version_minor": 0
   }
  }
 },
 "nbformat": 4,
 "nbformat_minor": 5
}
