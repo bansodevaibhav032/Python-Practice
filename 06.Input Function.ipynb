{
 "cells": [
  {
   "cell_type": "markdown",
   "id": "f97521eb-6905-4972-8ca3-55a1f2c7e5bf",
   "metadata": {},
   "source": [
    "Input Function "
   ]
  },
  {
   "cell_type": "code",
   "execution_count": 6,
   "id": "897000f1-4e75-410a-a297-1f6737194820",
   "metadata": {},
   "outputs": [
    {
     "name": "stdin",
     "output_type": "stream",
     "text": [
      "Enter Your name: vaibhav\n"
     ]
    },
    {
     "name": "stdout",
     "output_type": "stream",
     "text": [
      "Welcome  vaibhav\n",
      "<class 'str'>\n"
     ]
    }
   ],
   "source": [
    "a=input(\"Enter Your name:\")\n",
    "print(\"Welcome \",a)\n",
    "print(type(a))"
   ]
  },
  {
   "cell_type": "code",
   "execution_count": 5,
   "id": "62d10872-4287-42cd-8594-252de81dbfd1",
   "metadata": {},
   "outputs": [
    {
     "name": "stdin",
     "output_type": "stream",
     "text": [
      "Enter First Number: 25\n",
      "Enter Second Number: 65\n"
     ]
    },
    {
     "name": "stdout",
     "output_type": "stream",
     "text": [
      "<class 'int'>\n",
      "90\n"
     ]
    }
   ],
   "source": [
    "b=int(input(\"Enter First Number:\"))\n",
    "c=int(input(\"Enter Second Number:\"))\n",
    "bc=b+c\n",
    "print(type(bc))\n",
    "print(bc)"
   ]
  },
  {
   "cell_type": "code",
   "execution_count": 9,
   "id": "6b55682a-5234-49c8-9dc4-80e473ab19e5",
   "metadata": {},
   "outputs": [
    {
     "name": "stdin",
     "output_type": "stream",
     "text": [
      "Enter a Readius of a circle: 3.5\n"
     ]
    },
    {
     "name": "stdout",
     "output_type": "stream",
     "text": [
      "Area of Circle is : 38.465\n"
     ]
    }
   ],
   "source": [
    "#WAP to calculate area of circle \n",
    "\n",
    "rad=float(input(\"Enter a Readius of a circle:\"))\n",
    "area=3.14*rad**2  #or rad*rad \n",
    "print(\"Area of Circle is :\",area)"
   ]
  },
  {
   "cell_type": "code",
   "execution_count": 13,
   "id": "97fc890b-bf04-45a7-b55f-f06cf29398cd",
   "metadata": {},
   "outputs": [
    {
     "name": "stdin",
     "output_type": "stream",
     "text": [
      "Enter the temperature in Fahrenheit:  95\n"
     ]
    },
    {
     "name": "stdout",
     "output_type": "stream",
     "text": [
      "The temperature in Celsius is: 35.0\n"
     ]
    }
   ],
   "source": [
    "#WAP to convert fahrenheit to celsius\n",
    "\n",
    "fah=float(input(\"Enter the temperature in Fahrenheit: \"))\n",
    "cel=(fah-32)*5.0/9.0\n",
    "print(\"The temperature in Celsius is:\", cel)\n"
   ]
  },
  {
   "cell_type": "code",
   "execution_count": 10,
   "id": "4242e9c1-8cf8-41b6-9912-b1d226630c74",
   "metadata": {},
   "outputs": [
    {
     "name": "stdin",
     "output_type": "stream",
     "text": [
      " Enter Length of rectangle :  25\n",
      " Enter breadth of rectangle :  35\n"
     ]
    },
    {
     "name": "stdout",
     "output_type": "stream",
     "text": [
      " Area of Rectangle is : 875.0\n"
     ]
    }
   ],
   "source": [
    "# WAP to find area of rectangle.\n",
    "\n",
    "# area = length * breadth\n",
    "\n",
    "l = float(input(\" Enter Length of rectangle : \"))\n",
    "b = float(input(\" Enter breadth of rectangle : \"))\n",
    "\n",
    "area = l * b\n",
    "print(\" Area of Rectangle is :\", area)"
   ]
  },
  {
   "cell_type": "code",
   "execution_count": 11,
   "id": "2d1d7d5f-28e4-447f-ab5d-cef97094d638",
   "metadata": {},
   "outputs": [
    {
     "name": "stdin",
     "output_type": "stream",
     "text": [
      " Enter Principle Amount :  1000\n",
      " Enter Rate of Interest :  15\n",
      " Enter Period :  5\n"
     ]
    },
    {
     "name": "stdout",
     "output_type": "stream",
     "text": [
      " Simple Interest : 750.0\n",
      " Total Amount :  1750.0\n"
     ]
    }
   ],
   "source": [
    "# WAP to find simple interest.   SI = pnr/100\n",
    "\n",
    "p = int(input(\" Enter Principle Amount : \"))\n",
    "r = float(input(\" Enter Rate of Interest : \"))\n",
    "n = int(input(\" Enter Period In Month : \"))\n",
    "\n",
    "SI = p * r * n / 100\n",
    "print(\" Simple Interest :\", SI)\n",
    "\n",
    "Amount = p + SI\n",
    "print(\" Total Amount : \", Amount)"
   ]
  },
  {
   "cell_type": "code",
   "execution_count": 12,
   "id": "a69a1b47-0174-4e56-a0af-ae1740d23432",
   "metadata": {},
   "outputs": [
    {
     "name": "stdin",
     "output_type": "stream",
     "text": [
      " Enter Principle Amount :  1000\n",
      " Enter Rate of Interest :  15\n",
      " Enter Period in Month :  5\n"
     ]
    },
    {
     "name": "stdout",
     "output_type": "stream",
     "text": [
      " Amount Compounded to : 2011.3571874999993\n"
     ]
    }
   ],
   "source": [
    "# WAP to find compound interest.\n",
    "\n",
    "p = int(input(\" Enter Principle Amount : \"))\n",
    "r = float(input(\" Enter Rate of Interest : \"))\n",
    "n = int(input(\" Enter Period in Month : \"))\n",
    "\n",
    "CI = p * (1 + r/100) ** n\n",
    "\n",
    "print(\" Amount Compounded to :\", CI)"
   ]
  }
 ],
 "metadata": {
  "kernelspec": {
   "display_name": "Python 3 (ipykernel)",
   "language": "python",
   "name": "python3"
  },
  "language_info": {
   "codemirror_mode": {
    "name": "ipython",
    "version": 3
   },
   "file_extension": ".py",
   "mimetype": "text/x-python",
   "name": "python",
   "nbconvert_exporter": "python",
   "pygments_lexer": "ipython3",
   "version": "3.12.0"
  },
  "widgets": {
   "application/vnd.jupyter.widget-state+json": {
    "state": {},
    "version_major": 2,
    "version_minor": 0
   }
  }
 },
 "nbformat": 4,
 "nbformat_minor": 5
}
