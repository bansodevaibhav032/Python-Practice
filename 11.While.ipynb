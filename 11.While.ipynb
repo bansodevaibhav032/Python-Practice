{
 "cells": [
  {
   "cell_type": "markdown",
   "id": "a4475532-c625-4473-9df3-f9114fc6238a",
   "metadata": {},
   "source": [
    "While()"
   ]
  },
  {
   "cell_type": "code",
   "execution_count": 1,
   "id": "9610821c-0cc4-4453-a4a1-f4fb2190ec06",
   "metadata": {},
   "outputs": [
    {
     "name": "stdout",
     "output_type": "stream",
     "text": [
      "0 1 2 3 4 5 "
     ]
    }
   ],
   "source": [
    "i=0\n",
    "while(i<6):\n",
    "    print(i ,end=\" \")\n",
    "    i+=1"
   ]
  },
  {
   "cell_type": "code",
   "execution_count": 7,
   "id": "0b529cef-71e6-4fd9-8891-23aade73ee17",
   "metadata": {},
   "outputs": [
    {
     "name": "stdin",
     "output_type": "stream",
     "text": [
      "Enter a Value: 50\n"
     ]
    },
    {
     "name": "stdout",
     "output_type": "stream",
     "text": [
      "i: 50\n"
     ]
    },
    {
     "name": "stdin",
     "output_type": "stream",
     "text": [
      "Enter a Value: 6\n"
     ]
    },
    {
     "name": "stdout",
     "output_type": "stream",
     "text": [
      "i: 6\n"
     ]
    },
    {
     "name": "stdin",
     "output_type": "stream",
     "text": [
      "Enter a Value: 52\n"
     ]
    },
    {
     "name": "stdout",
     "output_type": "stream",
     "text": [
      "Loop Excuted sucessfully \n",
      "Outside of loop \n"
     ]
    }
   ],
   "source": [
    "i=int(input(\"Enter a Value:\"))\n",
    "while(i<=50):\n",
    "    print(\"i:\",i)\n",
    "    i=int(input(\"Enter a Value:\"))\n",
    "\n",
    "print(\"Loop Excuted sucessfully \\nOutside of loop \")"
   ]
  },
  {
   "cell_type": "code",
   "execution_count": 8,
   "id": "e53478b6-0d23-4904-8924-c07fbca61fd6",
   "metadata": {},
   "outputs": [
    {
     "name": "stdin",
     "output_type": "stream",
     "text": [
      "Enter A value : 10\n"
     ]
    },
    {
     "name": "stdout",
     "output_type": "stream",
     "text": [
      "10\n",
      "15\n",
      "0\n",
      "Average of 10 is 1.5\n"
     ]
    }
   ],
   "source": [
    "# Take Value from User and using loop print their average value on the screen.\n",
    "sum=0\n",
    "x=int(input(\"Enter A value :\"))\n",
    "print(x)\n",
    "while(i>0):\n",
    "    sum=i+sum\n",
    "    i=i-1\n",
    "print(sum)\n",
    "print(i)\n",
    "avg=sum/x\n",
    "print(\"Average of {} is {}\".format(x,avg ))"
   ]
  },
  {
   "cell_type": "code",
   "execution_count": 9,
   "id": "848a4fcc-3bb7-4952-bbfa-cf1bc2048250",
   "metadata": {},
   "outputs": [
    {
     "name": "stdin",
     "output_type": "stream",
     "text": [
      "Enter a last value: 10\n"
     ]
    },
    {
     "name": "stdout",
     "output_type": "stream",
     "text": [
      "4.5\n"
     ]
    }
   ],
   "source": [
    "sum=0\n",
    "val=int(input(\"Enter a last value:\"))\n",
    "for i in range(1,val):\n",
    "    sum=sum+i\n",
    "avg=sum/val\n",
    "print(avg)"
   ]
  },
  {
   "cell_type": "code",
   "execution_count": 6,
   "id": "0266d973-2c96-48b1-8c7a-1702a2fd614d",
   "metadata": {},
   "outputs": [
    {
     "name": "stdin",
     "output_type": "stream",
     "text": [
      "Enter a Value:  55\n",
      "Do you want to continue (y/n):  y\n",
      "Enter a Value:  88\n",
      "Do you want to continue (y/n):  y\n",
      "Enter a Value:  99\n",
      "Do you want to continue (y/n):  y\n",
      "Enter a Value:  11\n",
      "Do you want to continue (y/n):  y\n",
      "Enter a Value:  77\n",
      "Do you want to continue (y/n):  n\n"
     ]
    },
    {
     "name": "stdout",
     "output_type": "stream",
     "text": [
      "Entered values: [55, 88, 99, 11, 77]\n",
      "Average of You Entered Value Is: 66.0\n"
     ]
    }
   ],
   "source": [
    "#Take user input value and calculate the average of Entered Value..\n",
    "sum=0\n",
    "\n",
    "\n",
    "avg=0\n",
    "val=[]\n",
    "\n",
    "while True:\n",
    "    a = int(input(\"Enter a Value: \"))\n",
    "    val.append(a)\n",
    "    \n",
    "    mat = input(\"Do you want to continue (y/n): \").lower() \n",
    "    \n",
    "    if mat != 'y':\n",
    "        break\n",
    "    \n",
    "          \n",
    "length= len(val)\n",
    "if length==1:\n",
    "    print(\"You Only Enter One Value! \\nAverage is not Calculated with one Value.\")\n",
    "else:\n",
    "    for i in val:\n",
    "            sum+=i\n",
    "            avg=sum/length\n",
    "    print(\"Entered values:\", val)\n",
    "    print(\"Average of You Entered Value Is:\", avg)\n",
    "    \n",
    "        \n",
    "        "
   ]
  },
  {
   "cell_type": "code",
   "execution_count": 1,
   "id": "6acbaa45-c0d5-4717-ac39-f954a27e9d28",
   "metadata": {},
   "outputs": [
    {
     "name": "stdin",
     "output_type": "stream",
     "text": [
      "Enter a Number: 10\n"
     ]
    },
    {
     "name": "stdout",
     "output_type": "stream",
     "text": [
      "10\n",
      "9\n",
      "8\n",
      "7\n",
      "6\n",
      "5\n",
      "4\n",
      "3\n",
      "2\n",
      "1\n"
     ]
    }
   ],
   "source": [
    "#Countdown Timer \n",
    "n=int(input(\"Enter a Number:\"))\n",
    "while n>=1:\n",
    "    print(n)\n",
    "    n-=1"
   ]
  },
  {
   "cell_type": "code",
   "execution_count": 8,
   "id": "4322578b-53a5-4a17-bc1b-5fed415f5e33",
   "metadata": {},
   "outputs": [
    {
     "name": "stdin",
     "output_type": "stream",
     "text": [
      "Enter a Number: 40\n"
     ]
    },
    {
     "name": "stdout",
     "output_type": "stream",
     "text": [
      "2\t4\t6\t8\t10\t12\t14\t16\t18\t20\t22\t24\t26\t28\t30\t32\t34\t36\t38\t40\t\n",
      "Sum Of the Even Number 380\n"
     ]
    }
   ],
   "source": [
    "#sum of the positive number \n",
    "\n",
    "a=int(input(\"Enter a Number:\"))\n",
    "sum=0\n",
    "i=0\n",
    "while i<a:\n",
    "    sum+=i\n",
    "    i+=2\n",
    "    print(i,end=\"\\t\")\n",
    "print(\"\\nSum Of the Even Number {}\".format(sum))    \n"
   ]
  },
  {
   "cell_type": "code",
   "execution_count": 28,
   "id": "005fc084-c110-44e7-a9d0-ee499e49e7d8",
   "metadata": {},
   "outputs": [
    {
     "name": "stdout",
     "output_type": "stream",
     "text": [
      "Total Chance Remaining: 10\n"
     ]
    },
    {
     "name": "stdin",
     "output_type": "stream",
     "text": [
      "\n",
      "Enter the Number In Between 1-100: 55\n"
     ]
    },
    {
     "name": "stdout",
     "output_type": "stream",
     "text": [
      "9 Attempt remaing..Keep Trying!\n",
      "\n",
      "TOO HIGH !!\n",
      "\n"
     ]
    },
    {
     "name": "stdin",
     "output_type": "stream",
     "text": [
      "\n",
      "Enter the Number In Between 1-100: 44\n"
     ]
    },
    {
     "name": "stdout",
     "output_type": "stream",
     "text": [
      "8 Attempt remaing..Keep Trying!\n",
      "\n",
      "TOO HIGH !!\n",
      "\n"
     ]
    },
    {
     "name": "stdin",
     "output_type": "stream",
     "text": [
      "\n",
      "Enter the Number In Between 1-100: 33\n"
     ]
    },
    {
     "name": "stdout",
     "output_type": "stream",
     "text": [
      "7 Attempt remaing..Keep Trying!\n",
      "\n",
      "TOO LOW !!\n",
      "\n"
     ]
    },
    {
     "name": "stdin",
     "output_type": "stream",
     "text": [
      "\n",
      "Enter the Number In Between 1-100: 35\n"
     ]
    },
    {
     "name": "stdout",
     "output_type": "stream",
     "text": [
      "6 Attempt remaing..Keep Trying!\n",
      "\n",
      "TOO LOW !!\n",
      "\n"
     ]
    },
    {
     "name": "stdin",
     "output_type": "stream",
     "text": [
      "\n",
      "Enter the Number In Between 1-100: 38\n"
     ]
    },
    {
     "name": "stdout",
     "output_type": "stream",
     "text": [
      "5 Attempt remaing..Keep Trying!\n",
      "\n",
      "TOO LOW !!\n",
      "\n"
     ]
    },
    {
     "name": "stdin",
     "output_type": "stream",
     "text": [
      "\n",
      "Enter the Number In Between 1-100: 40\n"
     ]
    },
    {
     "name": "stdout",
     "output_type": "stream",
     "text": [
      "4 Attempt remaing..Keep Trying!\n",
      "\n",
      "TOO LOW !!\n",
      "\n"
     ]
    },
    {
     "name": "stdin",
     "output_type": "stream",
     "text": [
      "\n",
      "Enter the Number In Between 1-100: 45\n"
     ]
    },
    {
     "name": "stdout",
     "output_type": "stream",
     "text": [
      "3 Attempt remaing..Keep Trying!\n",
      "\n",
      "TOO HIGH !!\n",
      "\n"
     ]
    },
    {
     "name": "stdin",
     "output_type": "stream",
     "text": [
      "\n",
      "Enter the Number In Between 1-100: 42\n"
     ]
    },
    {
     "name": "stdout",
     "output_type": "stream",
     "text": [
      "2 Attempt remaing..Keep Trying!\n",
      "\n",
      "Congrats \n",
      "You Guessed Correct Number 42 is Correct.\n",
      "\n"
     ]
    }
   ],
   "source": [
    "#guess the number in Between 1-100\n",
    "\n",
    "import random\n",
    "\n",
    "tar=random.randint(0,101)\n",
    "ges=0\n",
    "attempt=10\n",
    "print(\"Total Chance Remaining:\",attempt)\n",
    "while attempt>0:\n",
    "    try:   \n",
    "        ges=int(input(\"\\nEnter the Number In Between 1-100:\"))\n",
    "           \n",
    "        attempt-=1\n",
    "        print(\"{} Attempt remaing..Keep Trying!\\n\".format(attempt))\n",
    "        if ges<tar:\n",
    "            print(\"TOO LOW !!\\n\")\n",
    "        elif ges>tar:\n",
    "            print(\"TOO HIGH !!\\n\")\n",
    "        else:\n",
    "            print(\"Congrats \\nYou Guessed Correct Number {} is Correct.\\n\".format(tar))\n",
    "            break\n",
    "    except ValueError:\n",
    "        print(\"Please Enter Valid Number!\")\n",
    "\n",
    "if attempt==0:\n",
    "   print(\"You've reached the maximum number of attempts. \\nThe correct number was {}.\\n\".format(tar))"
   ]
  },
  {
   "cell_type": "code",
   "execution_count": 15,
   "id": "fd3dde6e-6b7f-4fbb-9925-ee41d7cd0825",
   "metadata": {},
   "outputs": [],
   "source": []
  }
 ],
 "metadata": {
  "kernelspec": {
   "display_name": "Python 3 (ipykernel)",
   "language": "python",
   "name": "python3"
  },
  "language_info": {
   "codemirror_mode": {
    "name": "ipython",
    "version": 3
   },
   "file_extension": ".py",
   "mimetype": "text/x-python",
   "name": "python",
   "nbconvert_exporter": "python",
   "pygments_lexer": "ipython3",
   "version": "3.12.0"
  },
  "widgets": {
   "application/vnd.jupyter.widget-state+json": {
    "state": {},
    "version_major": 2,
    "version_minor": 0
   }
  }
 },
 "nbformat": 4,
 "nbformat_minor": 5
}
