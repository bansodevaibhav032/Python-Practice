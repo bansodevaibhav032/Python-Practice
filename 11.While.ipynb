{
 "cells": [
  {
   "cell_type": "markdown",
   "id": "a4475532-c625-4473-9df3-f9114fc6238a",
   "metadata": {},
   "source": [
    "While()"
   ]
  },
  {
   "cell_type": "code",
   "execution_count": null,
   "id": "9610821c-0cc4-4453-a4a1-f4fb2190ec06",
   "metadata": {},
   "outputs": [],
   "source": []
  }
 ],
 "metadata": {
  "kernelspec": {
   "display_name": "Python 3 (ipykernel)",
   "language": "python",
   "name": "python3"
  },
  "language_info": {
   "codemirror_mode": {
    "name": "ipython",
    "version": 3
   },
   "file_extension": ".py",
   "mimetype": "text/x-python",
   "name": "python",
   "nbconvert_exporter": "python",
   "pygments_lexer": "ipython3",
   "version": "3.12.0"
  },
  "widgets": {
   "application/vnd.jupyter.widget-state+json": {
    "state": {},
    "version_major": 2,
    "version_minor": 0
   }
  }
 },
 "nbformat": 4,
 "nbformat_minor": 5
}
