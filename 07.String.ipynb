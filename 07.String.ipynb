{
 "cells": [
  {
   "cell_type": "code",
   "execution_count": 1,
   "id": "f4045a8e-5090-453e-ac14-d283478b7425",
   "metadata": {},
   "outputs": [
    {
     "name": "stdout",
     "output_type": "stream",
     "text": [
      "This is a single-quoted string.\n",
      "This is a double-quoted string.\n",
      "This is a triple-quoted string.\n",
      "It can span multiple lines.\n",
      "This is an escaped string with a new line.\n",
      "This is the second line.\n",
      "This is a raw string.\\nIt won\\'t escape characters.\n",
      "This is a Unicode string.\n",
      "  \n",
      "T\n"
     ]
    }
   ],
   "source": [
    "# Single-quoted string\n",
    "ss='This is a single-quoted string.'\n",
    "print(ss)\n",
    "\n",
    "# Double-quoted string\n",
    "ds =\"This is a double-quoted string.\"\n",
    "print(ds)\n",
    "\n",
    "# Triple-quoted string\n",
    "ts='''This is a triple-quoted string.\n",
    "It can span multiple lines.'''\n",
    "print(ts)\n",
    "\n",
    "# Escape characters within a string\n",
    "es='This is an escaped string with a new line.\\nThis is the second line.'\n",
    "print(es)\n",
    "\n",
    "# Raw string (ignores escape characters)\n",
    "rs=r'This is a raw string.\\nIt won\\'t escape characters.'\n",
    "print(rs)\n",
    "\n",
    "# Unicode string\n",
    "us= u'This is a Unicode string.'\n",
    "print(us)\n",
    "\n",
    "# Empty string\n",
    "e='  '\n",
    "print(e)\n",
    "\n",
    "# Accessing characters in a string\n",
    "print(us[0])\n"
   ]
  },
  {
   "cell_type": "code",
   "execution_count": 3,
   "id": "3b8f0eb9-9458-493d-8607-c837c17ae180",
   "metadata": {},
   "outputs": [
    {
     "name": "stdout",
     "output_type": "stream",
     "text": [
      "Hello, world!\n"
     ]
    }
   ],
   "source": [
    "#Concatinate the string \n",
    "\n",
    "s='Hello, ' + 'world!'\n",
    "print(s)\n"
   ]
  },
  {
   "cell_type": "code",
   "execution_count": 22,
   "id": "2e8d1f49-c6ea-4268-a6a5-fefb05c6ff40",
   "metadata": {},
   "outputs": [
    {
     "name": "stdout",
     "output_type": "stream",
     "text": [
      "world\n",
      "world\n"
     ]
    }
   ],
   "source": [
    "#string Slicing \n",
    "print(s[7:12])\n",
    "print(s[-6:-1])"
   ]
  },
  {
   "cell_type": "code",
   "execution_count": 18,
   "id": "d29b5734-9ace-4da4-b0c9-bc1ae75e68d4",
   "metadata": {},
   "outputs": [
    {
     "name": "stdout",
     "output_type": "stream",
     "text": [
      "13 59\n"
     ]
    }
   ],
   "source": [
    "#string length\n",
    "\n",
    "ab=len(s)\n",
    "ac=len(ts)\n",
    "print(ab,ac)"
   ]
  },
  {
   "cell_type": "code",
   "execution_count": null,
   "id": "b0a63feb-c57f-4dd3-9696-48c638936412",
   "metadata": {},
   "outputs": [],
   "source": []
  },
  {
   "cell_type": "code",
   "execution_count": 15,
   "id": "948c8d3c-5a97-4b8b-90f2-df101735fa6b",
   "metadata": {},
   "outputs": [
    {
     "name": "stdout",
     "output_type": "stream",
     "text": [
      "T\n",
      "h\n",
      "i\n",
      "s\n",
      " \n",
      "i\n",
      "s\n",
      " \n",
      "a\n",
      " \n",
      "t\n",
      "r\n",
      "i\n",
      "p\n",
      "l\n",
      "e\n",
      "-\n",
      "q\n",
      "u\n",
      "o\n",
      "t\n",
      "e\n",
      "d\n",
      " \n",
      "s\n",
      "t\n",
      "r\n",
      "i\n",
      "n\n",
      "g\n",
      ".\n",
      "\n",
      "\n",
      "I\n",
      "t\n",
      " \n",
      "c\n",
      "a\n",
      "n\n",
      " \n",
      "s\n",
      "p\n",
      "a\n",
      "n\n",
      " \n",
      "m\n",
      "u\n",
      "l\n",
      "t\n",
      "i\n",
      "p\n",
      "l\n",
      "e\n",
      " \n",
      "l\n",
      "i\n",
      "n\n",
      "e\n",
      "s\n",
      ".\n"
     ]
    }
   ],
   "source": [
    "#looping through sting\n",
    "for ch in ts:\n",
    "    print(ch)\n"
   ]
  },
  {
   "cell_type": "markdown",
   "id": "2d51e723-9fac-4ce7-a351-dcbcf2711160",
   "metadata": {},
   "source": [
    "String Methods "
   ]
  },
  {
   "cell_type": "code",
   "execution_count": 55,
   "id": "f15af821-73c5-42c1-912b-18d9c34bee97",
   "metadata": {},
   "outputs": [
    {
     "name": "stdout",
     "output_type": "stream",
     "text": [
      "ABCDEFGHIJ\n"
     ]
    }
   ],
   "source": [
    "#Upper\n",
    "str1 = \"AbcDEfghIJ\"\n",
    "print(str1.upper())"
   ]
  },
  {
   "cell_type": "code",
   "execution_count": 24,
   "id": "bec93788-7e5c-4efc-a9e7-f7064c61e3a9",
   "metadata": {},
   "outputs": [
    {
     "name": "stdout",
     "output_type": "stream",
     "text": [
      "abcdefghij\n"
     ]
    }
   ],
   "source": [
    "#Lower\n",
    "print(str1.lower())"
   ]
  },
  {
   "cell_type": "code",
   "execution_count": 28,
   "id": "a06b9b5c-e3ae-4aef-b075-a3634baf2170",
   "metadata": {},
   "outputs": [
    {
     "name": "stdout",
     "output_type": "stream",
     "text": [
      "HEllow World\n"
     ]
    }
   ],
   "source": [
    "#Strip\n",
    "str2 = \" HEllow World     \"\n",
    "print(str2.strip())     #Remove blank Spaces in start and end"
   ]
  },
  {
   "cell_type": "code",
   "execution_count": 35,
   "id": "77dfea0e-e788-457b-b212-0493f8042f50",
   "metadata": {},
   "outputs": [
    {
     "name": "stdout",
     "output_type": "stream",
     "text": [
      "Hello \n"
     ]
    }
   ],
   "source": [
    "#Rstrip\n",
    "str3 = \"Hello !!!\"\n",
    "print(str3.rstrip(\"!\"))"
   ]
  },
  {
   "cell_type": "code",
   "execution_count": 38,
   "id": "a2e5dc60-e0ca-43b8-b87d-48fc08f55dd0",
   "metadata": {},
   "outputs": [
    {
     "name": "stdout",
     "output_type": "stream",
     "text": [
      " HEllow World !% \n",
      " Hi World !% \n"
     ]
    }
   ],
   "source": [
    "#Replace \n",
    "print(str2)\n",
    "print(str2.replace('HEllow','Hi'))"
   ]
  },
  {
   "cell_type": "code",
   "execution_count": 43,
   "id": "ee03709c-83de-4350-b35d-0ba1efd7591a",
   "metadata": {},
   "outputs": [
    {
     "name": "stdout",
     "output_type": "stream",
     "text": [
      "['', 'HEllow', 'World', '!%', '']\n"
     ]
    }
   ],
   "source": [
    "#Split\n",
    "print(str2.split(\" \"))   #convert into list "
   ]
  },
  {
   "cell_type": "code",
   "execution_count": 1,
   "id": "317c4018-1f3d-4df5-804a-55fb3f934d8a",
   "metadata": {},
   "outputs": [
    {
     "name": "stdout",
     "output_type": "stream",
     "text": [
      "Hello\n",
      "Hello world\n"
     ]
    }
   ],
   "source": [
    "#Capitalize (Only First char is Capital)\n",
    "str4 = \"hello\"\n",
    "capStr1 = str4.capitalize()\n",
    "print(capStr1)\n",
    "str5 = \"hello worlD\"\n",
    "capStr2 = str5.capitalize()\n",
    "print(capStr2)"
   ]
  },
  {
   "cell_type": "code",
   "execution_count": 3,
   "id": "16d110fd-eb24-43c9-a97c-ecfce992cd78",
   "metadata": {},
   "outputs": [
    {
     "name": "stdout",
     "output_type": "stream",
     "text": [
      "            Welcome to the MyWorld!!!             \n",
      "............Welcome to the MyWorld!!!.............\n"
     ]
    }
   ],
   "source": [
    "#Center \n",
    "str6 = \"Welcome to the MyWorld!!!\"\n",
    "print(str6.center(50))\n",
    "print(str6.center(50, \".\"))"
   ]
  },
  {
   "cell_type": "code",
   "execution_count": 50,
   "id": "9cb0800b-8d91-4e42-bd50-8892e8be7a59",
   "metadata": {},
   "outputs": [
    {
     "name": "stdout",
     "output_type": "stream",
     "text": [
      "3\n"
     ]
    }
   ],
   "source": [
    "#Count\n",
    "print(str6.count(\"o\"))"
   ]
  },
  {
   "cell_type": "code",
   "execution_count": 58,
   "id": "79c8c977-602f-4fd1-b364-8e5e92de5f27",
   "metadata": {},
   "outputs": [
    {
     "name": "stdout",
     "output_type": "stream",
     "text": [
      "True\n"
     ]
    }
   ],
   "source": [
    "#Endswith\n",
    "print(str6.endswith('!!!'))"
   ]
  },
  {
   "cell_type": "code",
   "execution_count": 62,
   "id": "7b69e2a9-2cff-4e8b-b189-7a6887defb1f",
   "metadata": {},
   "outputs": [
    {
     "name": "stdout",
     "output_type": "stream",
     "text": [
      "14\n"
     ]
    }
   ],
   "source": [
    "#find\n",
    "str7= \"He's name is Dan. He is an honest man.\"\n",
    "print(str7.find(\"an\"))"
   ]
  },
  {
   "cell_type": "code",
   "execution_count": 64,
   "id": "0b61c6bf-4ae1-4e0d-a6e1-46f7b66619b8",
   "metadata": {},
   "outputs": [
    {
     "name": "stdout",
     "output_type": "stream",
     "text": [
      "-1\n"
     ]
    }
   ],
   "source": [
    "print(str7.find(\"Danial\"))  #if value is not their then it will give o/p:-1"
   ]
  },
  {
   "cell_type": "code",
   "execution_count": 66,
   "id": "a7c546c1-5c33-43dd-b408-5658a8019476",
   "metadata": {},
   "outputs": [
    {
     "name": "stdout",
     "output_type": "stream",
     "text": [
      "34\n"
     ]
    }
   ],
   "source": [
    "#index\n",
    "print(str7.index(\"man\"))"
   ]
  },
  {
   "cell_type": "code",
   "execution_count": 67,
   "id": "751a6921-5cdb-4217-98e6-527deeb93024",
   "metadata": {},
   "outputs": [
    {
     "ename": "ValueError",
     "evalue": "substring not found",
     "output_type": "error",
     "traceback": [
      "\u001b[1;31m---------------------------------------------------------------------------\u001b[0m",
      "\u001b[1;31mValueError\u001b[0m                                Traceback (most recent call last)",
      "Cell \u001b[1;32mIn[67], line 1\u001b[0m\n\u001b[1;32m----> 1\u001b[0m \u001b[38;5;28mprint\u001b[39m(\u001b[43mstr7\u001b[49m\u001b[38;5;241;43m.\u001b[39;49m\u001b[43mindex\u001b[49m\u001b[43m(\u001b[49m\u001b[38;5;124;43m\"\u001b[39;49m\u001b[38;5;124;43mani\u001b[39;49m\u001b[38;5;124;43m\"\u001b[39;49m\u001b[43m)\u001b[49m)\n",
      "\u001b[1;31mValueError\u001b[0m: substring not found"
     ]
    }
   ],
   "source": [
    "print(str7.index(\"ani\"))"
   ]
  },
  {
   "cell_type": "code",
   "execution_count": 73,
   "id": "6bf161f3-03cc-4f80-8eb3-9c38306585da",
   "metadata": {},
   "outputs": [
    {
     "name": "stdout",
     "output_type": "stream",
     "text": [
      "True\n",
      "False\n"
     ]
    }
   ],
   "source": [
    "#Isalnum\n",
    "str8 = \"WelcomeToTheConsole2\"\n",
    "str9 = \"WelcomeToTheConsole!!\"\n",
    "print(str8.isalnum())  #Retrun True when string in a form of A-Z,a-z,0-9 otherwise it will retrun false\n",
    "print(str9.isalnum())"
   ]
  },
  {
   "cell_type": "code",
   "execution_count": 75,
   "id": "ae56a699-9d04-4a0f-91da-8103fb45f18c",
   "metadata": {},
   "outputs": [
    {
     "name": "stdout",
     "output_type": "stream",
     "text": [
      "AbcDEfghIJ\n",
      "True\n",
      "WelcomeToTheConsole2\n",
      "False\n"
     ]
    }
   ],
   "source": [
    "#Isalpha \n",
    "print(str1)\n",
    "print(str1.isalpha()) # only a-z,A-Z\n",
    "print(str8)\n",
    "print(str8.isalpha())"
   ]
  },
  {
   "cell_type": "code",
   "execution_count": 92,
   "id": "9c2b8d54-cf49-4e33-b187-1c7424a2e88a",
   "metadata": {},
   "outputs": [
    {
     "name": "stdout",
     "output_type": "stream",
     "text": [
      "AbcDEfghIJ\n",
      "ABCDEFGHIJ\n",
      "True\n"
     ]
    }
   ],
   "source": [
    "#isupper\n",
    "print(str1)\n",
    "aa=str1.upper()\n",
    "print(aa)\n",
    "print(aa.isupper())"
   ]
  },
  {
   "cell_type": "code",
   "execution_count": 79,
   "id": "79537599-1a34-4501-80af-061b6497c586",
   "metadata": {},
   "outputs": [
    {
     "name": "stdout",
     "output_type": "stream",
     "text": [
      "AbcDEfghIJ\n",
      "abcdefghij\n",
      "False\n",
      "True\n"
     ]
    }
   ],
   "source": [
    "#isLower\n",
    "print(str1)\n",
    "ab=str1.lower()\n",
    "print(ab)\n",
    "print(str1.islower())\n",
    "print(ab.islower())"
   ]
  },
  {
   "cell_type": "code",
   "execution_count": 81,
   "id": "15a0a00b-b739-4c03-91f1-f7fe356b6c98",
   "metadata": {},
   "outputs": [
    {
     "name": "stdout",
     "output_type": "stream",
     "text": [
      "WelcomeToTheConsole2\n",
      "True\n"
     ]
    }
   ],
   "source": [
    "#isprintable\n",
    "\n",
    "print(str8)\n",
    "print(str8.isprintable())"
   ]
  },
  {
   "cell_type": "code",
   "execution_count": 86,
   "id": "970e4d02-ae8c-4797-b878-da35667b7125",
   "metadata": {},
   "outputs": [
    {
     "name": "stdout",
     "output_type": "stream",
     "text": [
      "WelcomeToTheConsole2\n",
      "False\n",
      "True\n"
     ]
    }
   ],
   "source": [
    "#isspace\n",
    "print(str8)\n",
    "print(str8.isspace())\n",
    "e=\"  \"\n",
    "print(e.isspace())"
   ]
  },
  {
   "cell_type": "code",
   "execution_count": 96,
   "id": "a1f947ab-d6d8-42fd-9d72-8017c0ce3fb1",
   "metadata": {},
   "outputs": [
    {
     "name": "stdout",
     "output_type": "stream",
     "text": [
      "He's name is Dan. He is an honest man.\n",
      "True\n",
      "False\n"
     ]
    }
   ],
   "source": [
    "#startswith\n",
    "\n",
    "print(str7)\n",
    "print(str7.startswith(\"H\"))\n",
    "print(str7.startswith(\"h\"))\n"
   ]
  },
  {
   "cell_type": "code",
   "execution_count": 97,
   "id": "3f3a7518-0858-4bee-a1eb-dcba8ab9cff9",
   "metadata": {},
   "outputs": [
    {
     "name": "stdout",
     "output_type": "stream",
     "text": [
      "He's name is Dan. He is an honest man.\n",
      "hE'S NAME IS dAN. hE IS AN HONEST MAN.\n"
     ]
    }
   ],
   "source": [
    "#swapcase\n",
    "print(str7)\n",
    "print(str7.swapcase())"
   ]
  },
  {
   "cell_type": "code",
   "execution_count": 100,
   "id": "b4b54604-c050-4348-aa88-4cfca4d2188e",
   "metadata": {},
   "outputs": [
    {
     "name": "stdout",
     "output_type": "stream",
     "text": [
      "He's name is Dan. He is an honest man.\n",
      "He'S Name Is Dan. He Is An Honest Man.\n"
     ]
    }
   ],
   "source": [
    "#title\n",
    "print(str7)\n",
    "print(str7.title())  #each strings first char is capital"
   ]
  },
  {
   "cell_type": "code",
   "execution_count": null,
   "id": "ae10a53d-23ac-41a7-8c76-2d4cf2a411da",
   "metadata": {},
   "outputs": [],
   "source": []
  }
 ],
 "metadata": {
  "kernelspec": {
   "display_name": "Python 3 (ipykernel)",
   "language": "python",
   "name": "python3"
  },
  "language_info": {
   "codemirror_mode": {
    "name": "ipython",
    "version": 3
   },
   "file_extension": ".py",
   "mimetype": "text/x-python",
   "name": "python",
   "nbconvert_exporter": "python",
   "pygments_lexer": "ipython3",
   "version": "3.12.0"
  },
  "widgets": {
   "application/vnd.jupyter.widget-state+json": {
    "state": {},
    "version_major": 2,
    "version_minor": 0
   }
  }
 },
 "nbformat": 4,
 "nbformat_minor": 5
}
