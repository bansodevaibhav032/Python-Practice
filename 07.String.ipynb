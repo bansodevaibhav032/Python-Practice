{
 "cells": [
  {
   "cell_type": "code",
   "execution_count": 1,
   "id": "f4045a8e-5090-453e-ac14-d283478b7425",
   "metadata": {},
   "outputs": [
    {
     "name": "stdout",
     "output_type": "stream",
     "text": [
      "This is a single-quoted string.\n",
      "This is a double-quoted string.\n",
      "This is a triple-quoted string.\n",
      "It can span multiple lines.\n",
      "This is an escaped string with a new line.\n",
      "This is the second line.\n",
      "This is a raw string.\\nIt won\\'t escape characters.\n",
      "This is a Unicode string.\n",
      "  \n",
      "T\n"
     ]
    }
   ],
   "source": [
    "# Single-quoted string\n",
    "ss='This is a single-quoted string.'\n",
    "print(ss)\n",
    "\n",
    "# Double-quoted string\n",
    "ds =\"This is a double-quoted string.\"\n",
    "print(ds)\n",
    "\n",
    "# Triple-quoted string\n",
    "ts='''This is a triple-quoted string.\n",
    "It can span multiple lines.'''\n",
    "print(ts)\n",
    "\n",
    "# Escape characters within a string\n",
    "es='This is an escaped string with a new line.\\nThis is the second line.'\n",
    "print(es)\n",
    "\n",
    "# Raw string (ignores escape characters)\n",
    "rs=r'This is a raw string.\\nIt won\\'t escape characters.'\n",
    "print(rs)\n",
    "\n",
    "# Unicode string\n",
    "us= u'This is a Unicode string.'\n",
    "print(us)\n",
    "\n",
    "# Empty string\n",
    "e='  '\n",
    "print(e)\n",
    "\n",
    "# Accessing characters in a string\n",
    "print(us[0])\n"
   ]
  },
  {
   "cell_type": "code",
   "execution_count": 3,
   "id": "3b8f0eb9-9458-493d-8607-c837c17ae180",
   "metadata": {},
   "outputs": [
    {
     "name": "stdout",
     "output_type": "stream",
     "text": [
      "Hello, world!\n"
     ]
    }
   ],
   "source": [
    "#Concatinate the string \n",
    "\n",
    "s='Hello, ' + 'world!'\n",
    "print(s)\n"
   ]
  },
  {
   "cell_type": "code",
   "execution_count": 6,
   "id": "2e8d1f49-c6ea-4268-a6a5-fefb05c6ff40",
   "metadata": {},
   "outputs": [
    {
     "name": "stdout",
     "output_type": "stream",
     "text": [
      "world\n"
     ]
    }
   ],
   "source": [
    "#string Slicing \n",
    "print(s[7:12])"
   ]
  },
  {
   "cell_type": "code",
   "execution_count": 18,
   "id": "d29b5734-9ace-4da4-b0c9-bc1ae75e68d4",
   "metadata": {},
   "outputs": [
    {
     "name": "stdout",
     "output_type": "stream",
     "text": [
      "13 59\n"
     ]
    }
   ],
   "source": [
    "#string length\n",
    "\n",
    "ab=len(s)\n",
    "ac=len(ts)\n",
    "print(ab,ac)"
   ]
  },
  {
   "cell_type": "code",
   "execution_count": null,
   "id": "b0a63feb-c57f-4dd3-9696-48c638936412",
   "metadata": {},
   "outputs": [],
   "source": []
  },
  {
   "cell_type": "code",
   "execution_count": 15,
   "id": "948c8d3c-5a97-4b8b-90f2-df101735fa6b",
   "metadata": {},
   "outputs": [
    {
     "name": "stdout",
     "output_type": "stream",
     "text": [
      "T\n",
      "h\n",
      "i\n",
      "s\n",
      " \n",
      "i\n",
      "s\n",
      " \n",
      "a\n",
      " \n",
      "t\n",
      "r\n",
      "i\n",
      "p\n",
      "l\n",
      "e\n",
      "-\n",
      "q\n",
      "u\n",
      "o\n",
      "t\n",
      "e\n",
      "d\n",
      " \n",
      "s\n",
      "t\n",
      "r\n",
      "i\n",
      "n\n",
      "g\n",
      ".\n",
      "\n",
      "\n",
      "I\n",
      "t\n",
      " \n",
      "c\n",
      "a\n",
      "n\n",
      " \n",
      "s\n",
      "p\n",
      "a\n",
      "n\n",
      " \n",
      "m\n",
      "u\n",
      "l\n",
      "t\n",
      "i\n",
      "p\n",
      "l\n",
      "e\n",
      " \n",
      "l\n",
      "i\n",
      "n\n",
      "e\n",
      "s\n",
      ".\n"
     ]
    }
   ],
   "source": [
    "#looping through sting\n",
    "for ch in ts:\n",
    "    print(ch)\n"
   ]
  },
  {
   "cell_type": "code",
   "execution_count": null,
   "id": "9b8c4b78-241c-451b-93db-dc149ca54bc4",
   "metadata": {},
   "outputs": [],
   "source": []
  }
 ],
 "metadata": {
  "kernelspec": {
   "display_name": "Python 3 (ipykernel)",
   "language": "python",
   "name": "python3"
  },
  "language_info": {
   "codemirror_mode": {
    "name": "ipython",
    "version": 3
   },
   "file_extension": ".py",
   "mimetype": "text/x-python",
   "name": "python",
   "nbconvert_exporter": "python",
   "pygments_lexer": "ipython3",
   "version": "3.12.0"
  },
  "widgets": {
   "application/vnd.jupyter.widget-state+json": {
    "state": {},
    "version_major": 2,
    "version_minor": 0
   }
  }
 },
 "nbformat": 4,
 "nbformat_minor": 5
}
