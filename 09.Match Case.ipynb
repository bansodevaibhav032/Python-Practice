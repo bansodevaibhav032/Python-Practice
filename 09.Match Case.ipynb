{
 "cells": [
  {
   "cell_type": "markdown",
   "id": "b494348c-e5b3-4169-9c53-80bb75228eb5",
   "metadata": {},
   "source": [
    "Match\n"
   ]
  },
  {
   "cell_type": "code",
   "execution_count": 1,
   "id": "9eac7210-d7f7-4ef2-ae00-826fc657b29e",
   "metadata": {},
   "outputs": [
    {
     "name": "stdin",
     "output_type": "stream",
     "text": [
      "Enter the value of x:  10\n"
     ]
    },
    {
     "name": "stdout",
     "output_type": "stream",
     "text": [
      "Case is 10 \n"
     ]
    }
   ],
   "source": [
    "#simple switch case\n",
    "\n",
    "x = int(input(\"Enter the value of x: \"))\n",
    "match x:\n",
    "    case 0:\n",
    "        print(\"x is zero\")\n",
    "        \n",
    "    case 4:\n",
    "        print(\"case is 4\")\n",
    "\n",
    "    case 10:\n",
    "        print(\"Case is 10 \")\n",
    "    case _:\n",
    "        print(x)"
   ]
  },
  {
   "cell_type": "code",
   "execution_count": 3,
   "id": "ab2327b6-7e12-4541-8193-f85b09a9ea87",
   "metadata": {},
   "outputs": [
    {
     "name": "stdin",
     "output_type": "stream",
     "text": [
      "Please enter your fev. Color:  red\n"
     ]
    },
    {
     "name": "stdout",
     "output_type": "stream",
     "text": [
      "Nice choice.....You Got red Apple!\n"
     ]
    }
   ],
   "source": [
    "#If-Elif-Else Ladder switch case \n",
    "\n",
    "def switch(case):\n",
    "    \n",
    "  if case == \"red\":\n",
    "      print (\"Nice choice.....You Got red Apple!\")\n",
    " \n",
    "  elif case ==\"yellow\":\n",
    "      print (\"Nice choice.....You Got Yellow Banana!\")\n",
    " \n",
    "  elif case == \"Black\":\n",
    "      print (\"Yeah, Black!.\")\n",
    " \n",
    "  elif case == \"Green\":\n",
    "      print (\"You got Green Brololi!\")\n",
    " \n",
    "  else:\n",
    "      print (\"Is that even a thing?\")\n",
    "    \n",
    "fevcol = str.lower(input(\"Please enter your fev. Color: \"))\n",
    " \n",
    "switch(fevcol)"
   ]
  },
  {
   "cell_type": "code",
   "execution_count": null,
   "id": "20dd46dc-a223-4db6-a2fd-2f55cbb1d94f",
   "metadata": {},
   "outputs": [],
   "source": []
  }
 ],
 "metadata": {
  "kernelspec": {
   "display_name": "Python 3 (ipykernel)",
   "language": "python",
   "name": "python3"
  },
  "language_info": {
   "codemirror_mode": {
    "name": "ipython",
    "version": 3
   },
   "file_extension": ".py",
   "mimetype": "text/x-python",
   "name": "python",
   "nbconvert_exporter": "python",
   "pygments_lexer": "ipython3",
   "version": "3.12.0"
  },
  "widgets": {
   "application/vnd.jupyter.widget-state+json": {
    "state": {},
    "version_major": 2,
    "version_minor": 0
   }
  }
 },
 "nbformat": 4,
 "nbformat_minor": 5
}
