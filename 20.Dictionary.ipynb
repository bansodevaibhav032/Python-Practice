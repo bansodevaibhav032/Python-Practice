{
 "cells": [
  {
   "cell_type": "markdown",
   "id": "849e0dfc-8e0e-4114-a4fd-00acd798e645",
   "metadata": {},
   "source": [
    "Dictionary- Used for mapping the relation....marks of students\n",
    "\n",
    "- Dictionary is collection of keys and values.\n",
    "- Synatx : \n",
    "- name_of_dict = {key1 : value1 , key2 : value2, key3 : value3, .... }\n",
    "- Indexing is not present.\n",
    "- Values (Objects/Items) are accessed by keys.\n",
    "- Dictionary Values are Mutable. (Add, Update, Delete)\n",
    "- Dictionary keys are Imuatable.\n",
    "- Duplicate values are allowed.\n",
    "- ordered above python 3.7 version before these version it is unordered in nature."
   ]
  },
  {
   "cell_type": "code",
   "execution_count": 1,
   "id": "18d696c2-ec76-4de2-9ad0-6fc5a5cdd158",
   "metadata": {},
   "outputs": [
    {
     "name": "stdout",
     "output_type": "stream",
     "text": [
      "{'name': 'Vaibhav', 'class': 'MCA', 'City': 'Pune'}\n"
     ]
    }
   ],
   "source": [
    "a={\"name\":'Vaibhav','class':'MCA','City':'Pune'}\n",
    "print(a)"
   ]
  },
  {
   "cell_type": "code",
   "execution_count": 9,
   "id": "0b093091-4449-4ea8-b6e3-403098da15af",
   "metadata": {
    "scrolled": true
   },
   "outputs": [
    {
     "name": "stdout",
     "output_type": "stream",
     "text": [
      "Vaibhav\n",
      "Vaibhav\n"
     ]
    }
   ],
   "source": [
    "# Accessing single items\n",
    "\n",
    "print(a['name'])\n",
    "print(a.get('name'))      "
   ]
  },
  {
   "cell_type": "code",
   "execution_count": 11,
   "id": "7592db1d-4c0b-430f-9649-f2e44dd92ed8",
   "metadata": {},
   "outputs": [
    {
     "ename": "KeyError",
     "evalue": "'name1'",
     "output_type": "error",
     "traceback": [
      "\u001b[1;31m---------------------------------------------------------------------------\u001b[0m",
      "\u001b[1;31mKeyError\u001b[0m                                  Traceback (most recent call last)",
      "Cell \u001b[1;32mIn[11], line 1\u001b[0m\n\u001b[1;32m----> 1\u001b[0m \u001b[38;5;28mprint\u001b[39m(\u001b[43ma\u001b[49m\u001b[43m[\u001b[49m\u001b[38;5;124;43m'\u001b[39;49m\u001b[38;5;124;43mname1\u001b[39;49m\u001b[38;5;124;43m'\u001b[39;49m\u001b[43m]\u001b[49m)         \u001b[38;5;66;03m# it will trows the error\u001b[39;00m\n",
      "\u001b[1;31mKeyError\u001b[0m: 'name1'"
     ]
    }
   ],
   "source": [
    "print(a['name1'])         # it will trows the error"
   ]
  },
  {
   "cell_type": "code",
   "execution_count": 12,
   "id": "44be62bc-3b00-4ab0-906c-3734910a35c3",
   "metadata": {},
   "outputs": [
    {
     "name": "stdout",
     "output_type": "stream",
     "text": [
      "None\n"
     ]
    }
   ],
   "source": [
    "print(a.get('name1'))     # not thow error"
   ]
  },
  {
   "cell_type": "code",
   "execution_count": 18,
   "id": "08505ac9-052b-41cc-84da-d3e96257eb19",
   "metadata": {},
   "outputs": [
    {
     "name": "stdout",
     "output_type": "stream",
     "text": [
      "{'name': 'Vaibhav', 'class': 'MCA', 'City': 'Pune'}\n",
      "keys: dict_keys(['name', 'class', 'City'])\n",
      "values: dict_values(['Vaibhav', 'MCA', 'Pune'])\n",
      "Vaibhav\n",
      "MCA\n",
      "Pune\n"
     ]
    }
   ],
   "source": [
    "# Accessing Multiple items\n",
    "\n",
    "a={\"name\":'Vaibhav','class':'MCA','City':'Pune'}\n",
    "print(a)\n",
    "print('keys:',a.keys())\n",
    "print('values:',a.values())\n",
    "\n",
    "\n",
    "for key in a.keys():\n",
    "    print(a[key])"
   ]
  },
  {
   "cell_type": "code",
   "execution_count": 20,
   "id": "64ac0f8c-784d-410f-a1ea-11e1af2e5923",
   "metadata": {},
   "outputs": [
    {
     "name": "stdout",
     "output_type": "stream",
     "text": [
      "The value corresponding to the key name is Vaibhav\n",
      "The value corresponding to the key class is MCA\n",
      "The value corresponding to the key City is Pune\n"
     ]
    }
   ],
   "source": [
    "for key in a.keys():\n",
    "    print(f'The value corresponding to the key {key} is {a[key]}')"
   ]
  },
  {
   "cell_type": "code",
   "execution_count": 23,
   "id": "c5ca2cb2-e0ac-42e2-9889-1dd70e9a4689",
   "metadata": {},
   "outputs": [
    {
     "name": "stdout",
     "output_type": "stream",
     "text": [
      "dict_items([('name', 'Vaibhav'), ('class', 'MCA'), ('City', 'Pune')])\n",
      "The value corresponding to the key name is Vaibhav\n",
      "The value corresponding to the key class is MCA\n",
      "The value corresponding to the key City is Pune\n"
     ]
    }
   ],
   "source": [
    "print(a.items())\n",
    "for key,value in a.items():\n",
    "    print(f'The value corresponding to the key {key} is {value}')"
   ]
  },
  {
   "cell_type": "markdown",
   "id": "3631850e-d388-4e4f-a32a-55d92cd2e50f",
   "metadata": {},
   "source": [
    "Methods"
   ]
  },
  {
   "cell_type": "code",
   "execution_count": 25,
   "id": "a45ed2bd-2e65-4d1e-b5ca-5fe2db7502b5",
   "metadata": {},
   "outputs": [
    {
     "name": "stdout",
     "output_type": "stream",
     "text": [
      "{'name': 'Vaibhav', 'class': 'MCA', 'City': 'Pune', 'age': 25}\n"
     ]
    }
   ],
   "source": [
    "#Update\n",
    "\n",
    "a={\"name\":'Vaibhav','class':'MCA','City':'Pune'}\n",
    "a.update({'age':25})\n",
    "print(a)"
   ]
  },
  {
   "cell_type": "code",
   "execution_count": 31,
   "id": "8e1743de-afbd-472e-8f03-0229800269d9",
   "metadata": {},
   "outputs": [
    {
     "name": "stdout",
     "output_type": "stream",
     "text": [
      "{'name': 'Vaibhav', 'class': 'MCA', 'City': 'Pune', 'mno': 123, 'Job': 'No'}\n"
     ]
    }
   ],
   "source": [
    "a={\"name\":'Vaibhav','class':'MCA','City':'Pune'}\n",
    "b={'mno':123,'Job':'No'}\n",
    "a.update(b)\n",
    "print(a)"
   ]
  },
  {
   "cell_type": "code",
   "execution_count": 32,
   "id": "f5c7fec4-8ad3-4611-a975-a481e25863af",
   "metadata": {},
   "outputs": [
    {
     "name": "stdout",
     "output_type": "stream",
     "text": [
      "{'name': 'Vaibhav', 'class': 'MCA', 'City': 'Pune', 'mno': 123, 'Job': 'No'}\n",
      "{}\n"
     ]
    }
   ],
   "source": [
    "#clear\n",
    "\n",
    "print(a)\n",
    "a.clear()\n",
    "print(a)"
   ]
  },
  {
   "cell_type": "code",
   "execution_count": 35,
   "id": "9deeedba-cd25-4f71-9b98-8318b6f9b9bc",
   "metadata": {},
   "outputs": [
    {
     "name": "stdout",
     "output_type": "stream",
     "text": [
      "{'class': 'MCA', 'City': 'Pune'}\n"
     ]
    }
   ],
   "source": [
    "#pop- remove particular item in dict\n",
    "\n",
    "a={\"name\":'Vaibhav','class':'MCA','City':'Pune'}\n",
    "a.pop('name')\n",
    "print(a)"
   ]
  },
  {
   "cell_type": "code",
   "execution_count": 37,
   "id": "e4795b04-4f83-423d-b1e2-d5c7d9cd9a9a",
   "metadata": {},
   "outputs": [
    {
     "name": "stdout",
     "output_type": "stream",
     "text": [
      "{'name': 'Vaibhav', 'class': 'MCA'}\n"
     ]
    }
   ],
   "source": [
    "#popitem- remove last key-value pair\n",
    "\n",
    "a={\"name\":'Vaibhav','class':'MCA','City':'Pune'}\n",
    "a.popitem()\n",
    "print(a)"
   ]
  },
  {
   "cell_type": "code",
   "execution_count": 39,
   "id": "a69ef53b-3891-43e3-b3af-7b6d1b227943",
   "metadata": {},
   "outputs": [
    {
     "name": "stdout",
     "output_type": "stream",
     "text": [
      "{'name': 'Vaibhav', 'class': 'MCA', 'City': 'Pune'}\n",
      "{'class': 'MCA', 'City': 'Pune'}\n"
     ]
    }
   ],
   "source": [
    "# del \n",
    "\n",
    "a={\"name\":'Vaibhav','class':'MCA','City':'Pune'}\n",
    "print(a)\n",
    "del a['name']\n",
    "print(a)"
   ]
  }
 ],
 "metadata": {
  "kernelspec": {
   "display_name": "Python 3 (ipykernel)",
   "language": "python",
   "name": "python3"
  },
  "language_info": {
   "codemirror_mode": {
    "name": "ipython",
    "version": 3
   },
   "file_extension": ".py",
   "mimetype": "text/x-python",
   "name": "python",
   "nbconvert_exporter": "python",
   "pygments_lexer": "ipython3",
   "version": "3.12.0"
  },
  "widgets": {
   "application/vnd.jupyter.widget-state+json": {
    "state": {},
    "version_major": 2,
    "version_minor": 0
   }
  }
 },
 "nbformat": 4,
 "nbformat_minor": 5
}
