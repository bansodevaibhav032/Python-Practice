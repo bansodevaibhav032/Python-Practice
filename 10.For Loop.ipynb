{
 "cells": [
  {
   "cell_type": "markdown",
   "id": "8af0e21b-450c-4dea-81ac-710bab777ac8",
   "metadata": {},
   "source": [
    "Loops\n",
    "-For loop\n",
    "-While loop\n",
    "-Nested loop\n"
   ]
  },
  {
   "cell_type": "markdown",
   "id": "7c0f7a09-bd7f-4420-aad7-b94eefdd2792",
   "metadata": {},
   "source": [
    "*for loops*"
   ]
  },
  {
   "cell_type": "code",
   "execution_count": 1,
   "id": "e943ee15-9664-4887-8fda-ac1faed1c128",
   "metadata": {},
   "outputs": [
    {
     "name": "stdout",
     "output_type": "stream",
     "text": [
      "apple\n",
      "banana\n",
      "cherry\n"
     ]
    }
   ],
   "source": [
    "fruits = [\"apple\", \"banana\", \"cherry\"]\n",
    "for fruit in fruits:\n",
    "    print(fruit)"
   ]
  },
  {
   "cell_type": "code",
   "execution_count": 2,
   "id": "7a6ceae6-151a-487a-b4c8-3670ffa92fb1",
   "metadata": {},
   "outputs": [
    {
     "name": "stdout",
     "output_type": "stream",
     "text": [
      "1\n",
      "2\n",
      "3\n",
      "4\n",
      "5\n"
     ]
    }
   ],
   "source": [
    "#iterating over List\n",
    "num=[1,2,3,4,5]\n",
    "for i in num:\n",
    "    print(i)"
   ]
  },
  {
   "cell_type": "code",
   "execution_count": 3,
   "id": "05ae421a-0340-4063-bdf1-6cf2c83e0c4c",
   "metadata": {},
   "outputs": [
    {
     "name": "stdout",
     "output_type": "stream",
     "text": [
      "H\n",
      "e\n",
      "l\n",
      "l\n",
      "o\n",
      " \n",
      "W\n",
      "o\n",
      "r\n",
      "l\n",
      "d\n",
      "!\n",
      "!\n"
     ]
    }
   ],
   "source": [
    "#iterating over String \n",
    "ab=\"Hello World!!\"\n",
    "for i in ab:\n",
    "    print(i)"
   ]
  },
  {
   "cell_type": "code",
   "execution_count": 4,
   "id": "7c3e2a7d-1d23-444b-8218-28fb18dcbfb3",
   "metadata": {},
   "outputs": [
    {
     "name": "stdout",
     "output_type": "stream",
     "text": [
      "name = Vaibhav\n",
      "clss = mca\n",
      "age = 25\n"
     ]
    }
   ],
   "source": [
    "#iterating over dictionary\n",
    "xy={\"name\":\"Vaibhav\",\"clss\":\"mca\",\"age\":25}\n",
    "for k,v in xy.items():\n",
    "    print(\"{} = {}\".format(k,v))"
   ]
  },
  {
   "cell_type": "code",
   "execution_count": 5,
   "id": "852278f2-f2ff-4fdb-9bc1-5e51bef56778",
   "metadata": {},
   "outputs": [
    {
     "name": "stdout",
     "output_type": "stream",
     "text": [
      "1\n",
      "2\n",
      "3\n",
      "4\n",
      "5\n",
      "6\n",
      "7\n",
      "8\n",
      "9\n",
      "10\n",
      "11\n",
      "22\n"
     ]
    }
   ],
   "source": [
    "#iterating over list of list\n",
    "aa=[[1,2,3,4,5],[6,7,8,9,10],[11,22]]\n",
    "for row in aa:\n",
    "    for item in row:\n",
    "        print(item)"
   ]
  },
  {
   "cell_type": "code",
   "execution_count": 6,
   "id": "395b962f-298c-4ffa-8ff6-31a2b82e9435",
   "metadata": {},
   "outputs": [
    {
     "name": "stdout",
     "output_type": "stream",
     "text": [
      "hello\n",
      "11.24\n",
      "55\n"
     ]
    }
   ],
   "source": [
    "#iterating over tuple \n",
    "bb=(\"hello\",11.24,55)\n",
    "for i in bb:\n",
    "    print(i)"
   ]
  },
  {
   "cell_type": "markdown",
   "id": "405dd4d0-6396-47c2-8cb8-7962325af2fe",
   "metadata": {},
   "source": [
    "range(start, end, steps)"
   ]
  },
  {
   "cell_type": "code",
   "execution_count": 7,
   "id": "efdc81cf-05de-43ca-a3b9-a202bdaf6f45",
   "metadata": {},
   "outputs": [
    {
     "name": "stdout",
     "output_type": "stream",
     "text": [
      "1  2  3  4  5  6  7  8  9  10  11  12  13  14  15  16  17  18  19  20  21  22  23  24  25  26  27  28  29  30  31  32  33  34  35  36  37  38  39  40  41  42  43  44  45  46  47  48  49  50  "
     ]
    }
   ],
   "source": [
    "for i in range(1,51):\n",
    "    print(i, end=\"  \")"
   ]
  },
  {
   "cell_type": "code",
   "execution_count": 8,
   "id": "dd1785c8-03a7-4449-a21c-03bef8996784",
   "metadata": {},
   "outputs": [
    {
     "name": "stdout",
     "output_type": "stream",
     "text": [
      "2  4  6  8  10  12  14  16  18  20  22  24  26  28  30  32  34  36  38  40  42  44  46  48  "
     ]
    }
   ],
   "source": [
    "for i in range(1,50):\n",
    "    if i%2==0:\n",
    "        print(i, end=\"  \")\n",
    "        "
   ]
  },
  {
   "cell_type": "code",
   "execution_count": 9,
   "id": "277c94cd-4afa-4a58-a8cc-426cb6d87c79",
   "metadata": {},
   "outputs": [
    {
     "name": "stdout",
     "output_type": "stream",
     "text": [
      "Square of 0 = 0\n",
      "Square of 1 = 1\n",
      "Square of 2 = 4\n",
      "Square of 3 = 9\n",
      "Square of 4 = 16\n",
      "Square of 5 = 25\n",
      "Square of 6 = 36\n",
      "Square of 7 = 49\n",
      "Square of 8 = 64\n",
      "Square of 9 = 81\n",
      "Square of 10 = 100\n"
     ]
    }
   ],
   "source": [
    "for i in range(0,11):\n",
    "    sq=i*i\n",
    "    print(\"Square of {} = {}\".format(i,sq))"
   ]
  },
  {
   "cell_type": "code",
   "execution_count": 10,
   "id": "8f13407a-b0c2-468b-8b6a-8a8a992ba200",
   "metadata": {},
   "outputs": [
    {
     "name": "stdout",
     "output_type": "stream",
     "text": [
      "Cube of 0 = 0\n",
      "Cube of 1 = 1\n",
      "Cube of 2 = 8\n",
      "Cube of 3 = 27\n",
      "Cube of 4 = 64\n",
      "Cube of 5 = 125\n",
      "Cube of 6 = 216\n",
      "Cube of 7 = 343\n",
      "Cube of 8 = 512\n",
      "Cube of 9 = 729\n",
      "Cube of 10 = 1000\n"
     ]
    }
   ],
   "source": [
    "for i in range(0,11):\n",
    "    cube=i*i*i\n",
    "    print(\"Cube of {} = {}\".format(i,cube))"
   ]
  },
  {
   "cell_type": "code",
   "execution_count": 11,
   "id": "0b599bd0-81c1-4deb-8f39-b39d01558c67",
   "metadata": {},
   "outputs": [
    {
     "name": "stdout",
     "output_type": "stream",
     "text": [
      "<class 'list'>\n",
      "[1, 2, 3, 4, 5, 6, 7, 8, 9, 10]\n"
     ]
    }
   ],
   "source": [
    "#list using range\n",
    "a=list(range(1,11))\n",
    "print(type(a))\n",
    "print(a)"
   ]
  },
  {
   "cell_type": "code",
   "execution_count": 12,
   "id": "a02dd636-4e18-4944-aebf-ddbd6e5beb8d",
   "metadata": {},
   "outputs": [
    {
     "name": "stdout",
     "output_type": "stream",
     "text": [
      "<class 'tuple'>\n",
      "(1, 2, 3, 4, 5, 6, 7, 8, 9, 10, 11)\n"
     ]
    }
   ],
   "source": [
    "#tuple using range\n",
    "b=tuple(range(1,12))\n",
    "print(type(b))\n",
    "print(b)"
   ]
  },
  {
   "cell_type": "code",
   "execution_count": 13,
   "id": "2abd256c-e567-4c9e-a2cb-0b0830dd309c",
   "metadata": {},
   "outputs": [
    {
     "name": "stdout",
     "output_type": "stream",
     "text": [
      "{1: 1, 2: 2, 3: 3, 4: 4, 5: 5, 6: 6, 7: 7, 8: 8, 9: 9, 10: 10}\n"
     ]
    }
   ],
   "source": [
    "# Example 1: Creating a dictionary with keys as numbers in a range\n",
    "start = 1\n",
    "end = 10\n",
    "\n",
    "# Using dictionary comprehension\n",
    "my_dict = {num: num * 1 for num in range(start, end+1)}\n",
    "\n",
    "print(my_dict)"
   ]
  },
  {
   "cell_type": "code",
   "execution_count": 14,
   "id": "1e7e4fb1-b258-4780-b233-9771573b8b48",
   "metadata": {},
   "outputs": [
    {
     "name": "stdout",
     "output_type": "stream",
     "text": [
      "Square of 21 = 441\n",
      "Square of 22 = 484\n",
      "Square of 23 = 529\n",
      "Square of 24 = 576\n",
      "Square of 25 = 625\n",
      "Square of 26 = 676\n",
      "Square of 27 = 729\n",
      "Square of 28 = 784\n",
      "Square of 29 = 841\n",
      "Square of 30 = 900\n"
     ]
    }
   ],
   "source": [
    "# WAP to to display squares of first 21 to 30 numbers\n",
    "\n",
    "for i in range(21,31):\n",
    "    sq=i*i\n",
    "    print(\"Square of {} = {}\".format(i,sq))"
   ]
  },
  {
   "cell_type": "code",
   "execution_count": 15,
   "id": "34ecc758-f09a-417e-bd0d-021ccf4c269d",
   "metadata": {},
   "outputs": [
    {
     "name": "stdin",
     "output_type": "stream",
     "text": [
      "Enter Start Value: 12\n"
     ]
    },
    {
     "name": "stdout",
     "output_type": "stream",
     "text": [
      "Cube of 12 = 1728\n",
      "Cube of 13 = 2197\n",
      "Cube of 14 = 2744\n",
      "Cube of 15 = 3375\n",
      "Cube of 16 = 4096\n",
      "Cube of 17 = 4913\n",
      "Cube of 18 = 5832\n",
      "Cube of 19 = 6859\n",
      "Cube of 20 = 8000\n",
      "Cube of 21 = 9261\n",
      "Cube of 22 = 10648\n",
      "Cube of 23 = 12167\n",
      "Cube of 24 = 13824\n",
      "Cube of 25 = 15625\n",
      "Cube of 26 = 17576\n",
      "Cube of 27 = 19683\n"
     ]
    }
   ],
   "source": [
    "#WAP to disply first 15 number of cube but start value take it from user\n",
    "\n",
    "st=int(input(\"Enter Start Value:\"))\n",
    "ed=st+16\n",
    "\n",
    "for i in range(st,ed):\n",
    "    cu=i**3\n",
    "    print(\"Cube of {} = {}\".format(i,cu))"
   ]
  },
  {
   "cell_type": "code",
   "execution_count": 16,
   "id": "9f47ec4d-5129-4771-9aec-12c648b1e42d",
   "metadata": {},
   "outputs": [
    {
     "name": "stdout",
     "output_type": "stream",
     "text": [
      "100    102    104    106    108    110    112    114    116    118    120    122    124    126    128    130    132    134    136    138    140    142    144    146    148    150    152    154    156    158    160    162    164    166    168    170    172    174    176    178    180    182    184    186    188    190    192    194    196    198    200    202    204    206    208    210    212    214    216    218    220    222    224    226    228    230    232    234    236    238    240    242    244    246    248    250    252    254    256    258    260    262    264    266    268    270    272    274    276    278    280    282    284    286    288    290    292    294    296    298    300    302    304    306    308    310    312    314    316    318    320    322    324    326    328    330    332    334    336    338    340    342    344    346    348    350    352    354    356    358    360    362    364    366    368    370    372    374    376    378    380    382    384    386    388    390    392    394    396    398    400    402    404    406    408    410    412    414    416    418    420    422    424    426    428    430    432    434    436    438    440    442    444    446    448    450    452    454    456    458    460    462    464    466    468    470    472    474    476    478    480    482    484    486    488    490    492    494    496    498    500    "
     ]
    }
   ],
   "source": [
    "# WAP to find all even Numbers between 100 to 500.\n",
    "\n",
    "for i in range(100,501):\n",
    "    if i%2==0:\n",
    "        print(i, end=\"    \")"
   ]
  },
  {
   "cell_type": "code",
   "execution_count": 17,
   "id": "c8771b86-d738-4d4f-8677-3795fd5804aa",
   "metadata": {},
   "outputs": [
    {
     "name": "stdout",
     "output_type": "stream",
     "text": [
      "Numbers divisible by 7 = 112\n",
      "Numbers divisible by 7 = 119\n",
      "Numbers divisible by 7 = 126\n",
      "Numbers divisible by 7 = 133\n",
      "Numbers divisible by 7 = 140\n",
      "Numbers divisible by 7 = 147\n",
      "Numbers divisible by 7 = 154\n",
      "Numbers divisible by 7 = 161\n",
      "Numbers divisible by 7 = 168\n",
      "Numbers divisible by 7 = 175\n",
      "Numbers divisible by 7 = 182\n",
      "Numbers divisible by 7 = 189\n",
      "Numbers divisible by 7 = 196\n",
      "Numbers divisible by 7 = 203\n",
      "Numbers divisible by 7 = 210\n",
      "Numbers divisible by 7 = 217\n"
     ]
    }
   ],
   "source": [
    "# WAP to find numbers divisible by 7 in 111 to 222.\n",
    "for i in range(111,223):\n",
    "    if i%7==0:\n",
    "        print(\"Numbers divisible by {} = {}\".format(7,i))\n"
   ]
  },
  {
   "cell_type": "code",
   "execution_count": 18,
   "id": "c4798bc4-8e6e-4afb-aee8-719a36e3eead",
   "metadata": {},
   "outputs": [
    {
     "name": "stdout",
     "output_type": "stream",
     "text": [
      "Numbers divisible by 7 and 9 = 126\n",
      "Numbers divisible by 7 and 9 = 189\n",
      "Numbers divisible by 7 and 9 = 252\n",
      "Numbers divisible by 7 and 9 = 315\n",
      "Numbers divisible by 7 and 9 = 378\n",
      "Numbers divisible by 7 and 9 = 441\n",
      "Numbers divisible by 7 and 9 = 504\n",
      "Numbers divisible by 7 and 9 = 567\n",
      "Numbers divisible by 7 and 9 = 630\n",
      "Numbers divisible by 7 and 9 = 693\n",
      "Numbers divisible by 7 and 9 = 756\n",
      "Numbers divisible by 7 and 9 = 819\n",
      "Numbers divisible by 7 and 9 = 882\n",
      "Numbers divisible by 7 and 9 = 945\n"
     ]
    }
   ],
   "source": [
    "# WAP to find numbers divisible by 7, 9 in 111 to 999. \n",
    "\n",
    "for i in range(111,1000):\n",
    "    if i%7==0 and i%9==0:\n",
    "        print(\"Numbers divisible by {} and {} = {}\".format(7,9,i))"
   ]
  },
  {
   "cell_type": "code",
   "execution_count": 19,
   "id": "64f3c271-aa25-43c6-b894-7f6dd5757b16",
   "metadata": {},
   "outputs": [
    {
     "name": "stdout",
     "output_type": "stream",
     "text": [
      "55\n"
     ]
    }
   ],
   "source": [
    "# WAP to add first 10 Numbers.\n",
    "\n",
    "sum=0\n",
    "for i in range(0,11):\n",
    "    sum=sum+i\n",
    "print(sum)"
   ]
  },
  {
   "cell_type": "code",
   "execution_count": 20,
   "id": "7c0bafe4-e15c-435b-8d5e-e44d23356195",
   "metadata": {},
   "outputs": [
    {
     "name": "stdout",
     "output_type": "stream",
     "text": [
      "sum of 101 to 200 is : 15050\n"
     ]
    }
   ],
   "source": [
    "# WAP to find sum of 101 to 200.\n",
    "\n",
    "sum=0\n",
    "for i in range(101,201):\n",
    "    sum=sum+i\n",
    "print(\"sum of 101 to 200 is :\",sum)"
   ]
  },
  {
   "cell_type": "code",
   "execution_count": 21,
   "id": "2ad36160-747a-43de-9bc2-dbaf8a729f1b",
   "metadata": {},
   "outputs": [
    {
     "name": "stdout",
     "output_type": "stream",
     "text": [
      "780  785  790  795  800  805  810  815  820  825  830  835  840  845  850  855  860  865  870  875  880  885  \n",
      "Sum of all Numbers divisivle by 5 in range of 777 to 888 is:  18315\n"
     ]
    }
   ],
   "source": [
    "# WAP to find sum of all numbers divisible by 5 in 777 to 888.\n",
    "\n",
    "sum=0\n",
    "for i in range(777,889):\n",
    "    if i%5==0:\n",
    "        sum=sum+i\n",
    "        print(i,end=\"  \")\n",
    "print(\"\\nSum of all Numbers divisivle by 5 in range of 777 to 888 is: \",sum)"
   ]
  },
  {
   "cell_type": "code",
   "execution_count": 22,
   "id": "c533e142-440d-4868-9afd-83a63ea72ce4",
   "metadata": {},
   "outputs": [
    {
     "name": "stdout",
     "output_type": "stream",
     "text": [
      "1\n",
      "2\n",
      "3\n",
      "4\n",
      "5\n",
      "6\n",
      "7\n",
      "8\n",
      "9\n",
      "10\n"
     ]
    }
   ],
   "source": [
    "#Print the first 10 natural numbers using for loop.\n",
    "n=11\n",
    "for i in range(1,n):\n",
    "    print(i)"
   ]
  },
  {
   "cell_type": "code",
   "execution_count": 23,
   "id": "df5d2b08-34e2-48a9-9eb0-92ab476a8420",
   "metadata": {},
   "outputs": [
    {
     "name": "stdout",
     "output_type": "stream",
     "text": [
      "0\n",
      "2\n",
      "4\n",
      "6\n",
      "8\n",
      "10\n",
      "12\n",
      "14\n",
      "16\n",
      "18\n",
      "20\n",
      "22\n"
     ]
    }
   ],
   "source": [
    "#Python program to print all the even numbers within the given range.\n",
    "\n",
    "for i in range(0,23,2):\n",
    "    print(i)"
   ]
  },
  {
   "cell_type": "code",
   "execution_count": 24,
   "id": "390fbe25-e627-4240-93a6-484203e40c4f",
   "metadata": {},
   "outputs": [
    {
     "name": "stdin",
     "output_type": "stream",
     "text": [
      "Enter Your Range: 20\n"
     ]
    },
    {
     "name": "stdout",
     "output_type": "stream",
     "text": [
      "1 3 5 7 9 11 13 15 17 19 \n",
      "The Sum of all Odd Number is: 100\n"
     ]
    }
   ],
   "source": [
    "#Python program to calculate the sum of all the odd numbers within the given range.\n",
    "num=int(input(\"Enter Your Range:\"))\n",
    "sum=0\n",
    "for i in range(0,num):\n",
    "    if i%2==1:\n",
    "        print(i,end=\" \")\n",
    "        sum+=i\n",
    "print(\"\\nThe Sum of all Odd Number is:\",sum)"
   ]
  },
  {
   "cell_type": "code",
   "execution_count": 25,
   "id": "7e4c480c-6dc7-440d-bfbb-af8156f18c18",
   "metadata": {},
   "outputs": [
    {
     "name": "stdin",
     "output_type": "stream",
     "text": [
      "Enter a Table Number You want to print: 5\n"
     ]
    },
    {
     "name": "stdout",
     "output_type": "stream",
     "text": [
      "5 * 1 = 5 \n",
      "5 * 2 = 10 \n",
      "5 * 3 = 15 \n",
      "5 * 4 = 20 \n",
      "5 * 5 = 25 \n",
      "5 * 6 = 30 \n",
      "5 * 7 = 35 \n",
      "5 * 8 = 40 \n",
      "5 * 9 = 45 \n",
      "5 * 10 = 50 \n"
     ]
    }
   ],
   "source": [
    "#Python program to print a multiplication table of a given number\n",
    "\n",
    "ch=int(input(\"Enter a Table Number You want to print:\"))\n",
    "for i in range(1,11):\n",
    "    out=ch*i\n",
    "    print(\"{} * {} = {} \".format(ch,i,out))\n",
    "    "
   ]
  },
  {
   "cell_type": "code",
   "execution_count": 26,
   "id": "799765e0-6d1a-4922-8e80-0f348a63c037",
   "metadata": {},
   "outputs": [
    {
     "name": "stdout",
     "output_type": "stream",
     "text": [
      "1  2  3  4  5  "
     ]
    }
   ],
   "source": [
    "#Python program to display numbers from a list using a for loop.\n",
    "\n",
    "ab=[1,2,3,4,5]\n",
    "for i in ab:\n",
    "    print(i,end=\"  \")"
   ]
  },
  {
   "cell_type": "code",
   "execution_count": 27,
   "id": "8546efa1-614d-4575-8422-cdadc2cde480",
   "metadata": {},
   "outputs": [
    {
     "name": "stdin",
     "output_type": "stream",
     "text": [
      "Enter a Number: 333333\n"
     ]
    },
    {
     "name": "stdout",
     "output_type": "stream",
     "text": [
      "The Count In a Given Input is : 6\n"
     ]
    }
   ],
   "source": [
    "# Python program to count the total number of digits in a number.\n",
    "\n",
    "abc=int(input(\"Enter a Number:\"))\n",
    "xy=str(abc)\n",
    "count=0\n",
    "for i in xy:\n",
    "    count+=1\n",
    "print(\"The Count In a Given Input is :\",count)"
   ]
  },
  {
   "cell_type": "code",
   "execution_count": 28,
   "id": "c3657900-623e-4d2a-a75e-4e60d5c0f9df",
   "metadata": {},
   "outputs": [
    {
     "name": "stdin",
     "output_type": "stream",
     "text": [
      "Enter a String: 121\n"
     ]
    },
    {
     "name": "stdout",
     "output_type": "stream",
     "text": [
      "Reverse String: 121\n",
      "The Enter String is Palindrome !\n"
     ]
    }
   ],
   "source": [
    "# Python program to check if the given string is a palindrome.\n",
    "\n",
    "e=input(\"Enter a String:\")\n",
    "f=\"\"\n",
    "for i in e:\n",
    "    f=i+f\n",
    "print(\"Reverse String:\",f)\n",
    "if(f==e):\n",
    "    print(\"The Enter String is Palindrome !\")\n",
    "else:\n",
    "    print(\"The Enter String is Not a Palindrome !\")"
   ]
  },
  {
   "cell_type": "code",
   "execution_count": 29,
   "id": "74ee4e59-74ff-40fb-8411-a06d7d3853d4",
   "metadata": {},
   "outputs": [
    {
     "name": "stdin",
     "output_type": "stream",
     "text": [
      "Enter a String: sahil\n"
     ]
    },
    {
     "name": "stdout",
     "output_type": "stream",
     "text": [
      "The Reverse String: lihas\n"
     ]
    }
   ],
   "source": [
    "#Python program that accepts a word from the user and reverses it.\n",
    "\n",
    "s=input(\"Enter a String:\")\n",
    "re=\"\"\n",
    "for i in s:\n",
    "    re=i+re\n",
    "print(\"The Reverse String:\",re)"
   ]
  },
  {
   "cell_type": "code",
   "execution_count": 37,
   "id": "afc5a19b-b91b-4e49-8ab1-fe14d5a510a4",
   "metadata": {},
   "outputs": [
    {
     "name": "stdin",
     "output_type": "stream",
     "text": [
      "Enter a Number: 153\n"
     ]
    },
    {
     "name": "stdout",
     "output_type": "stream",
     "text": [
      "3\n",
      "The Given Number 153 is Armstrong Number!\n"
     ]
    }
   ],
   "source": [
    "#Python program to check if a given number is an Armstrong number \n",
    "\n",
    "en=input(\"Enter a Number:\")\n",
    "a=len(en)\n",
    "sum=0\n",
    "for i in en:\n",
    "    sum+=int(i)**a\n",
    "if sum==int(en):\n",
    "    print(\"The Given Number {} is Armstrong Number!\".format(en))\n",
    "else:\n",
    "    print(\"The Given Number {} is Not Armstrong Number!\".format(en))\n",
    "    "
   ]
  },
  {
   "cell_type": "code",
   "execution_count": 31,
   "id": "54138c1f-e5e3-439d-ac2c-e126456c372b",
   "metadata": {},
   "outputs": [
    {
     "name": "stdin",
     "output_type": "stream",
     "text": [
      "Enter a Number: 153\n"
     ]
    },
    {
     "name": "stdout",
     "output_type": "stream",
     "text": [
      "3\n",
      "The Given Number 153 is Armstrong Number!\n"
     ]
    }
   ],
   "source": []
  },
  {
   "cell_type": "code",
   "execution_count": 32,
   "id": "d85b9a63-fc75-44ff-b350-e994b0ffd75a",
   "metadata": {},
   "outputs": [
    {
     "name": "stdin",
     "output_type": "stream",
     "text": [
      "Enter a range: 20\n"
     ]
    },
    {
     "name": "stdout",
     "output_type": "stream",
     "text": [
      "0\t2\t4\t6\t8\t10\t12\t14\t16\t18\t"
     ]
    }
   ],
   "source": [
    "ran=int(input(\"Enter a range:\"))\n",
    "for i in range(ran):\n",
    "    if i%2==0:\n",
    "        print(i,end=\"\\t\")\n",
    "        "
   ]
  },
  {
   "cell_type": "code",
   "execution_count": 33,
   "id": "ba3fd137-f432-4c65-b201-fbfa7ec32bbd",
   "metadata": {},
   "outputs": [
    {
     "name": "stdin",
     "output_type": "stream",
     "text": [
      "Enter A Number: 6\n"
     ]
    },
    {
     "name": "stdout",
     "output_type": "stream",
     "text": [
      "6 * 1 = 6\n",
      "6 * 2 = 12\n",
      "6 * 3 = 18\n",
      "6 * 4 = 24\n",
      "6 * 5 = 30\n",
      "6 * 6 = 36\n",
      "6 * 7 = 42\n",
      "6 * 8 = 48\n",
      "6 * 9 = 54\n",
      "6 * 10 = 60\n"
     ]
    }
   ],
   "source": [
    "#take a user input Numbers and display table of it \n",
    "num=int(input(\"Enter A Number:\"))\n",
    "for i in range(1,11):\n",
    "    tb=num*i\n",
    "    print(\"{} * {} = {}\".format(num,i,tb))"
   ]
  },
  {
   "cell_type": "code",
   "execution_count": 7,
   "id": "1f001c0c-1eba-4faa-b9d7-ba1f67660c1f",
   "metadata": {},
   "outputs": [
    {
     "name": "stdin",
     "output_type": "stream",
     "text": [
      "Which table You waana print: 6\n"
     ]
    },
    {
     "name": "stdout",
     "output_type": "stream",
     "text": [
      "0\n",
      "6\n",
      "12\n",
      "18\n",
      "24\n",
      "30\n",
      "36\n",
      "42\n",
      "48\n",
      "54\n",
      "60\n"
     ]
    }
   ],
   "source": [
    "tab=input(\"Which table You waana print:\")\n",
    "f_tab=int(tab)\n",
    "last=tab+\"0\"\n",
    "int_last=int(last)\n",
    "f_last=int_last+1\n",
    "\n",
    "for i in range(f_last):\n",
    "    if(i%f_tab==0):\n",
    "        print(i)\n"
   ]
  },
  {
   "cell_type": "code",
   "execution_count": 35,
   "id": "aa865b6d-7202-40c1-9219-5115ca0ee7f6",
   "metadata": {},
   "outputs": [
    {
     "name": "stdin",
     "output_type": "stream",
     "text": [
      "Which table You waana print: 5\n",
      "Enter the last value of table: 50\n"
     ]
    },
    {
     "name": "stdout",
     "output_type": "stream",
     "text": [
      "5\n",
      "10\n",
      "15\n",
      "20\n",
      "25\n",
      "30\n",
      "35\n",
      "40\n",
      "45\n",
      "50\n"
     ]
    }
   ],
   "source": [
    "tab=int(input(\"Which table You waana print:\"))\n",
    "en=int(input(\"Enter the last value of table:\"))\n",
    "for i in range(1,en+1):\n",
    "    if i%tab==0:\n",
    "        print(i)"
   ]
  },
  {
   "cell_type": "code",
   "execution_count": null,
   "id": "c75adb77-d954-410c-a66b-a129c46dcedf",
   "metadata": {},
   "outputs": [],
   "source": []
  }
 ],
 "metadata": {
  "kernelspec": {
   "display_name": "Python 3 (ipykernel)",
   "language": "python",
   "name": "python3"
  },
  "language_info": {
   "codemirror_mode": {
    "name": "ipython",
    "version": 3
   },
   "file_extension": ".py",
   "mimetype": "text/x-python",
   "name": "python",
   "nbconvert_exporter": "python",
   "pygments_lexer": "ipython3",
   "version": "3.12.0"
  },
  "widgets": {
   "application/vnd.jupyter.widget-state+json": {
    "state": {},
    "version_major": 2,
    "version_minor": 0
   }
  }
 },
 "nbformat": 4,
 "nbformat_minor": 5
}
