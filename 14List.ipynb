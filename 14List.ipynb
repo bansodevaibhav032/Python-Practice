{
 "cells": [
  {
   "cell_type": "markdown",
   "id": "eadba46c-61a4-4f92-bffb-dd32aa32859c",
   "metadata": {},
   "source": [
    "List \n",
    "- it stores collection of items\n",
    "- A list is written with [, , ,].\n",
    "- List is collection of homogeneous and heterogeneous objects/items.\n",
    "    - Homogeneous List : A = [10,20,30,40]   B = [\"ABC\", \"PQR\", \"XYZ\"]\n",
    "    - Heterogeneous List : C = [10, 10.22, \"XYZ\"]\n",
    "- Ordered collection on items\n",
    "- Changeble/Mutable\n",
    "- Allow Duplicate\n",
    "- Individual items of list can be accessed by \"Index\".\n",
    "- There are two types of indexing \n",
    "    -1. Positive Index.\n",
    "    -2. Negative Index."
   ]
  },
  {
   "cell_type": "code",
   "execution_count": 4,
   "id": "92ab6700-d0de-43ac-8e58-f35fec9cbe97",
   "metadata": {},
   "outputs": [],
   "source": [
    "# Homogeneous Lists\n",
    "A = [10,20,30,40]    \n",
    "B = [\"ABC\", \"PQR\", \"XYZ\"]\n",
    "# Heterogeneous List\n",
    "C = [10, 10.22, \"XYZ\"]"
   ]
  },
  {
   "cell_type": "code",
   "execution_count": 12,
   "id": "059dcbd4-de20-4b57-8c83-2948164e11ba",
   "metadata": {},
   "outputs": [
    {
     "name": "stdout",
     "output_type": "stream",
     "text": [
      "21\n"
     ]
    }
   ],
   "source": [
    "# add 20 into 30\n",
    "x= a[2] + 20\n",
    "print(x)"
   ]
  },
  {
   "cell_type": "code",
   "execution_count": 24,
   "id": "9da29dc8-2d01-434a-8eb6-f2a3454fc5d5",
   "metadata": {},
   "outputs": [
    {
     "name": "stdout",
     "output_type": "stream",
     "text": [
      "100\n",
      "22\n",
      "11\n",
      "100\n",
      "11\n"
     ]
    }
   ],
   "source": [
    "#Indexing \n",
    "\n",
    "x=[11,22,33,44,55,66,77,88,99,100]\n",
    "print(x[-1])\n",
    "print(x[1])\n",
    "print(x[-10])\n",
    "print(x[9])\n",
    "print(x[-10])\n"
   ]
  },
  {
   "cell_type": "code",
   "execution_count": 16,
   "id": "f7be28db-45a5-4cb5-86fc-2638a8264014",
   "metadata": {},
   "outputs": [
    {
     "name": "stdout",
     "output_type": "stream",
     "text": [
      "122\n"
     ]
    }
   ],
   "source": [
    "# WAP to add first and last number of list\n",
    "print(x[1] + x[-1])"
   ]
  },
  {
   "cell_type": "code",
   "execution_count": 31,
   "id": "8721ec96-13e5-4575-a5e7-eb6eddd5b456",
   "metadata": {},
   "outputs": [
    {
     "name": "stdout",
     "output_type": "stream",
     "text": [
      "[100, 22, 33, 44, 55, 66, 77, 88, 99, 11]\n",
      "[11, 22, 33, 44, 55, 66, 77, 88, 99, 100]\n"
     ]
    }
   ],
   "source": [
    "# WAP to add first and last number of list\n",
    "\n",
    "print(x)\n",
    "i=x[0]\n",
    "x[0]=x[9]\n",
    "x[9]=i\n",
    "print(x)"
   ]
  },
  {
   "cell_type": "code",
   "execution_count": 42,
   "id": "4fab478f-f27b-497a-8bca-c9fcf8fa3330",
   "metadata": {},
   "outputs": [
    {
     "name": "stdout",
     "output_type": "stream",
     "text": [
      "11\n",
      "22\n",
      "33\n",
      "44\n",
      "55\n",
      "66\n",
      "77\n",
      "88\n",
      "99\n",
      "100\n"
     ]
    }
   ],
   "source": [
    "x=[11,22,33,44,55,66,77,88,99,100]\n",
    "for i in x:\n",
    "    print(i)"
   ]
  },
  {
   "cell_type": "code",
   "execution_count": 35,
   "id": "fb5bde56-5b72-4a24-8039-09882db9e533",
   "metadata": {},
   "outputs": [
    {
     "name": "stdout",
     "output_type": "stream",
     "text": [
      "100\n",
      "99\n",
      "88\n",
      "77\n",
      "66\n",
      "55\n",
      "44\n",
      "33\n",
      "22\n",
      "11\n"
     ]
    }
   ],
   "source": [
    "#Loops in a loop \n",
    "\n",
    "x=[11,22,33,44,55,66,77,88,99,100]\n",
    "for i in reversed(x):\n",
    "    print(i)"
   ]
  },
  {
   "cell_type": "code",
   "execution_count": 41,
   "id": "c4fd6738-dd78-4205-82ac-a07605388863",
   "metadata": {},
   "outputs": [
    {
     "name": "stdout",
     "output_type": "stream",
     "text": [
      "11\n",
      "22\n",
      "33\n",
      "44\n",
      "55\n",
      "66\n",
      "77\n",
      "88\n",
      "99\n"
     ]
    }
   ],
   "source": [
    "for i in range(len(x) -1,-1,-1):\n",
    "    print(x[i])"
   ]
  },
  {
   "cell_type": "code",
   "execution_count": 14,
   "id": "043971ae-a7a7-45b8-b43a-a7b5c6378585",
   "metadata": {},
   "outputs": [
    {
     "name": "stdout",
     "output_type": "stream",
     "text": [
      "([10, 20, 30, 40], ['ABC', 'PQR', 'XYZ'], [10, 10.22, 'XYZ'])\n",
      "In a For Loop Value: [10, 20, 30, 40]\n",
      "In a For Loop Value: ['ABC', 'PQR', 'XYZ']\n",
      "In a For Loop Value: [10, 10.22, 'XYZ']\n",
      "(<class 'list'>, <class 'list'>, <class 'list'>)\n"
     ]
    }
   ],
   "source": [
    "x=(A,B,C)\n",
    "print(x)\n",
    "for i in x:\n",
    "    print(\"In a For Loop Value:\",i)\n",
    "\n",
    "y=(type(A), type(B), type(C))\n",
    "print(y)\n"
   ]
  },
  {
   "cell_type": "code",
   "execution_count": null,
   "id": "7a70794d-3103-4838-8b29-adfd07b23182",
   "metadata": {},
   "outputs": [],
   "source": []
  },
  {
   "cell_type": "code",
   "execution_count": 2,
   "id": "078bc93f-dd9f-4fad-85aa-cd45857a2906",
   "metadata": {},
   "outputs": [
    {
     "data": {
      "text/plain": [
       "[1, 2, 3]"
      ]
     },
     "execution_count": 2,
     "metadata": {},
     "output_type": "execute_result"
    }
   ],
   "source": [
    "a=[1,2,3]\n",
    "a"
   ]
  },
  {
   "cell_type": "code",
   "execution_count": null,
   "id": "8f797b39-dad6-40cc-8e76-f32a893a83a4",
   "metadata": {},
   "outputs": [],
   "source": []
  }
 ],
 "metadata": {
  "kernelspec": {
   "display_name": "Python 3 (ipykernel)",
   "language": "python",
   "name": "python3"
  },
  "language_info": {
   "codemirror_mode": {
    "name": "ipython",
    "version": 3
   },
   "file_extension": ".py",
   "mimetype": "text/x-python",
   "name": "python",
   "nbconvert_exporter": "python",
   "pygments_lexer": "ipython3",
   "version": "3.12.0"
  },
  "widgets": {
   "application/vnd.jupyter.widget-state+json": {
    "state": {},
    "version_major": 2,
    "version_minor": 0
   }
  }
 },
 "nbformat": 4,
 "nbformat_minor": 5
}
