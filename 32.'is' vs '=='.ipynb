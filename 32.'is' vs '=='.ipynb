{
 "cells": [
  {
   "cell_type": "markdown",
   "id": "b7cf79ac-ea98-416f-bc40-c750ace3e24b",
   "metadata": {},
   "source": [
    "In Python, is and == are both comparison operators that can be used to check if two values are equal. However, there are some important differences between the two that you should be aware of.\r\n",
    "\r\n",
    "The is operator compares the identity of two objects, while the == operator compares the values of the objects. This means that is will only return True if the objects being compared are the exact same object in memory, while == will return True if the objects have the same value."
   ]
  },
  {
   "cell_type": "markdown",
   "id": "1eadea04-c4b7-4e1b-9cce-9624cd9eb9e1",
   "metadata": {},
   "source": [
    "'is' = Compare exact location object in memory\n",
    "'==' = compare value "
   ]
  },
  {
   "cell_type": "code",
   "execution_count": 1,
   "id": "40c0d8ba-1150-4e94-820d-1d50f42a447f",
   "metadata": {},
   "outputs": [],
   "source": [
    "a=4\n",
    "b='4'"
   ]
  },
  {
   "cell_type": "code",
   "execution_count": 3,
   "id": "87fb5bd0-bf24-4be9-9ad1-bedc82d7fe75",
   "metadata": {},
   "outputs": [
    {
     "name": "stdout",
     "output_type": "stream",
     "text": [
      "False\n",
      "False\n"
     ]
    }
   ],
   "source": [
    "print(a is b)  #exact location \n",
    "print(a == b)  #value "
   ]
  },
  {
   "cell_type": "code",
   "execution_count": 19,
   "id": "e29897a3-e42c-4ad2-9bf1-bbdc1ec32ac6",
   "metadata": {},
   "outputs": [
    {
     "name": "stdout",
     "output_type": "stream",
     "text": [
      "Using list \n",
      "False\n",
      "True\n",
      "Using Tuple \n",
      "False\n",
      "True\n"
     ]
    }
   ],
   "source": [
    "a=[1,4,89]\n",
    "b=[1,4,89]\n",
    "\n",
    "x=(1,2,3)\n",
    "y=(1,2,3)\n",
    "\n",
    "print(\"Using list \")\n",
    "print(a is b)\n",
    "print(a == b)\n",
    "\n",
    "print(\"Using Tuple \")\n",
    "print(x is y)\n",
    "print(x == y)"
   ]
  },
  {
   "cell_type": "code",
   "execution_count": 13,
   "id": "1351623b-cc9b-49b1-9085-1e006e881b1f",
   "metadata": {},
   "outputs": [
    {
     "name": "stdout",
     "output_type": "stream",
     "text": [
      "True\n",
      "True\n"
     ]
    }
   ],
   "source": [
    "a=4\n",
    "b=4\n",
    "\n",
    "print(a is b)\n",
    "print(a == b)\n"
   ]
  },
  {
   "cell_type": "code",
   "execution_count": null,
   "id": "8c72878d-649d-4d51-9167-c6403f20894e",
   "metadata": {},
   "outputs": [],
   "source": []
  }
 ],
 "metadata": {
  "kernelspec": {
   "display_name": "Python 3 (ipykernel)",
   "language": "python",
   "name": "python3"
  },
  "language_info": {
   "codemirror_mode": {
    "name": "ipython",
    "version": 3
   },
   "file_extension": ".py",
   "mimetype": "text/x-python",
   "name": "python",
   "nbconvert_exporter": "python",
   "pygments_lexer": "ipython3",
   "version": "3.12.0"
  },
  "widgets": {
   "application/vnd.jupyter.widget-state+json": {
    "state": {},
    "version_major": 2,
    "version_minor": 0
   }
  }
 },
 "nbformat": 4,
 "nbformat_minor": 5
}
