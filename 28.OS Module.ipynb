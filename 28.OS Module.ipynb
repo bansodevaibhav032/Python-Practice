{
 "cells": [
  {
   "cell_type": "markdown",
   "id": "c646d3d0-5380-4a97-a086-9c3395fed274",
   "metadata": {},
   "source": [
    "The os module in Python is a built-in library that provides functions for interacting with the operating system. It allows you to perform a wide variety of tasks, such as reading and writing files, interacting with the file system, and running system commands.\n",
    "\n",
    "Here are some common tasks you can perform with the os module:\n",
    "\n",
    "Reading and writing files The os module provides functions for opening, reading, and writing files. For example, to open a file for reading, you can use the open function:"
   ]
  },
  {
   "cell_type": "code",
   "execution_count": null,
   "id": "2e9844f9-0636-4ed1-8ce4-586c3ae0c4cc",
   "metadata": {},
   "outputs": [],
   "source": [
    "import os\n",
    "\n",
    "# Open the file in read-only mode\n",
    "f = os.open(\"myfile.txt\", os.O_RDONLY)\n",
    "\n",
    "# Read the contents of the file\n",
    "contents = os.read(f, 1024)\n",
    "\n",
    "# Close the file\n",
    "os.close(f)"
   ]
  },
  {
   "cell_type": "code",
   "execution_count": null,
   "id": "b04b9ef1-9638-49a1-8f92-fa9804ca6d10",
   "metadata": {},
   "outputs": [],
   "source": [
    "#To open a file for writing, you can use the os.O_WRONLY flag:\n",
    "\n",
    "import os\n",
    "\n",
    "# Open the file in write-only mode\n",
    "f = os.open(\"myfile.txt\", os.O_WRONLY)\n",
    "\n",
    "# Write to the file\n",
    "os.write(f, b\"Hello, world!\")\n",
    "\n",
    "# Close the file\n",
    "os.close(f)"
   ]
  },
  {
   "cell_type": "markdown",
   "id": "de4cf777-c58e-4c88-91c7-b03743532ef8",
   "metadata": {},
   "source": [
    "Interacting with the file system\n",
    "- The os module also provides functions for interacting with the file system. For example, you can use the os.listdir function to get a list of the files in a directory:\n"
   ]
  },
  {
   "cell_type": "code",
   "execution_count": null,
   "id": "54b2f264-557e-41a5-ba38-1c8d079b80b9",
   "metadata": {},
   "outputs": [],
   "source": [
    "import os\n",
    "\n",
    "# Get a list of the files in the current directory\n",
    "files = os.listdir(\".\")\n",
    "print(files)  # Output: ['myfile.txt', 'otherfile.txt']"
   ]
  },
  {
   "cell_type": "code",
   "execution_count": null,
   "id": "1667b258-0714-4e6c-994a-9b6058fa349a",
   "metadata": {},
   "outputs": [],
   "source": [
    "#You can also use the os.mkdir function to create a new directory:\n",
    "\n",
    "import os\n",
    "\n",
    "# Create a new directory\n",
    "os.mkdir(\"newdir\")"
   ]
  },
  {
   "cell_type": "markdown",
   "id": "ee3d1c92-0199-45f2-ac92-2b9863af19b2",
   "metadata": {},
   "source": [
    "Running system commands\n"
   ]
  },
  {
   "cell_type": "markdown",
   "id": "78eaf9d8-e803-4fa9-9a99-e72f09fc9e22",
   "metadata": {},
   "source": [
    "Finally, the os module provides functions for running system commands. For example, you can use the os.system function to run a command and get the output:"
   ]
  },
  {
   "cell_type": "code",
   "execution_count": null,
   "id": "889247df-48ac-412a-a43d-186b36d693d9",
   "metadata": {},
   "outputs": [],
   "source": [
    "import os\n",
    "\n",
    "# Run the \"ls\" command and print the output\n",
    "output = os.system(\"ls\")\n",
    "print(output)  # Output: ['myfile.txt', 'otherfile.txt']"
   ]
  },
  {
   "cell_type": "markdown",
   "id": "098cd44f-2b73-4b9b-9d23-436d2e154197",
   "metadata": {},
   "source": [
    "You can also use the os.popen function to run a command and get the output as a file-like object:\n"
   ]
  },
  {
   "cell_type": "code",
   "execution_count": null,
   "id": "0fc0538e-15f5-468e-bd1a-78a7d03b807b",
   "metadata": {},
   "outputs": [],
   "source": [
    "import os\n",
    "\n",
    "# Run the \"ls\" command and get the output as a file-like object\n",
    "f = os.popen(\"ls\")\n",
    "\n",
    "# Read the contents of the output\n",
    "output = f.read()\n",
    "print(output)  # Output: ['myfile.txt', 'otherfile.txt']\n",
    "\n",
    "# Close the file-like object\n",
    "f.close()"
   ]
  },
  {
   "cell_type": "markdown",
   "id": "d697ea06-1a98-4036-b09c-5838a9cb27b6",
   "metadata": {},
   "source": [
    "In summary, the os module in Python is a built-in library that provides a wide variety of functions for interacting with the operating system. It allows you to perform tasks such as reading and writing files, interacting with the file system, and running system commands."
   ]
  }
 ],
 "metadata": {
  "kernelspec": {
   "display_name": "Python 3 (ipykernel)",
   "language": "python",
   "name": "python3"
  },
  "language_info": {
   "codemirror_mode": {
    "name": "ipython",
    "version": 3
   },
   "file_extension": ".py",
   "mimetype": "text/x-python",
   "name": "python",
   "nbconvert_exporter": "python",
   "pygments_lexer": "ipython3",
   "version": "3.12.0"
  },
  "widgets": {
   "application/vnd.jupyter.widget-state+json": {
    "state": {},
    "version_major": 2,
    "version_minor": 0
   }
  }
 },
 "nbformat": 4,
 "nbformat_minor": 5
}
