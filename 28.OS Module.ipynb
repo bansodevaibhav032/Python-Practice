{
 "cells": [
  {
   "cell_type": "markdown",
   "id": "c646d3d0-5380-4a97-a086-9c3395fed274",
   "metadata": {},
   "source": [
    "The os module in Python is a built-in library that provides functions for interacting with the operating system. It allows you to perform a wide variety of tasks, such as reading and writing files, interacting with the file system, and running system commands.\n",
    "\n",
    "Here are some common tasks you can perform with the os module:\n",
    "\n",
    "Reading and writing files The os module provides functions for opening, reading, and writing files. For example, to open a file for reading, you can use the open function:"
   ]
  },
  {
   "cell_type": "code",
   "execution_count": 5,
   "id": "2e9844f9-0636-4ed1-8ce4-586c3ae0c4cc",
   "metadata": {},
   "outputs": [
    {
     "ename": "FileNotFoundError",
     "evalue": "[Errno 2] No such file or directory: 'myfile.txt'",
     "output_type": "error",
     "traceback": [
      "\u001b[1;31m---------------------------------------------------------------------------\u001b[0m",
      "\u001b[1;31mFileNotFoundError\u001b[0m                         Traceback (most recent call last)",
      "Cell \u001b[1;32mIn[5], line 4\u001b[0m\n\u001b[0;32m      1\u001b[0m \u001b[38;5;28;01mimport\u001b[39;00m \u001b[38;5;21;01mos\u001b[39;00m\n\u001b[0;32m      3\u001b[0m \u001b[38;5;66;03m# Open the file in read-only mode\u001b[39;00m\n\u001b[1;32m----> 4\u001b[0m f \u001b[38;5;241m=\u001b[39m \u001b[43mos\u001b[49m\u001b[38;5;241;43m.\u001b[39;49m\u001b[43mopen\u001b[49m\u001b[43m(\u001b[49m\u001b[38;5;124;43m\"\u001b[39;49m\u001b[38;5;124;43mmyfile.txt\u001b[39;49m\u001b[38;5;124;43m\"\u001b[39;49m\u001b[43m,\u001b[49m\u001b[43m \u001b[49m\u001b[43mos\u001b[49m\u001b[38;5;241;43m.\u001b[39;49m\u001b[43mO_RDONLY\u001b[49m\u001b[43m)\u001b[49m\n\u001b[0;32m      6\u001b[0m \u001b[38;5;66;03m# Read the contents of the file\u001b[39;00m\n\u001b[0;32m      7\u001b[0m contents \u001b[38;5;241m=\u001b[39m os\u001b[38;5;241m.\u001b[39mread(f, \u001b[38;5;241m1024\u001b[39m)\n",
      "\u001b[1;31mFileNotFoundError\u001b[0m: [Errno 2] No such file or directory: 'myfile.txt'"
     ]
    }
   ],
   "source": [
    "import os\n",
    "\n",
    "# Open the file in read-only mode\n",
    "f = os.open(\"myfile.txt\", os.O_RDONLY)\n",
    "\n",
    "# Read the contents of the file\n",
    "contents = os.read(f, 1024)\n",
    "\n",
    "# Close the file\n",
    "os.close(f)"
   ]
  },
  {
   "cell_type": "code",
   "execution_count": 3,
   "id": "b04b9ef1-9638-49a1-8f92-fa9804ca6d10",
   "metadata": {},
   "outputs": [
    {
     "ename": "FileNotFoundError",
     "evalue": "[Errno 2] No such file or directory: 'myfile.txt'",
     "output_type": "error",
     "traceback": [
      "\u001b[1;31m---------------------------------------------------------------------------\u001b[0m",
      "\u001b[1;31mFileNotFoundError\u001b[0m                         Traceback (most recent call last)",
      "Cell \u001b[1;32mIn[3], line 6\u001b[0m\n\u001b[0;32m      3\u001b[0m \u001b[38;5;28;01mimport\u001b[39;00m \u001b[38;5;21;01mos\u001b[39;00m\n\u001b[0;32m      5\u001b[0m \u001b[38;5;66;03m# Open the file in write-only mode\u001b[39;00m\n\u001b[1;32m----> 6\u001b[0m f \u001b[38;5;241m=\u001b[39m \u001b[43mos\u001b[49m\u001b[38;5;241;43m.\u001b[39;49m\u001b[43mopen\u001b[49m\u001b[43m(\u001b[49m\u001b[38;5;124;43m\"\u001b[39;49m\u001b[38;5;124;43mmyfile.txt\u001b[39;49m\u001b[38;5;124;43m\"\u001b[39;49m\u001b[43m,\u001b[49m\u001b[43m \u001b[49m\u001b[43mos\u001b[49m\u001b[38;5;241;43m.\u001b[39;49m\u001b[43mO_WRONLY\u001b[49m\u001b[43m)\u001b[49m\n\u001b[0;32m      8\u001b[0m \u001b[38;5;66;03m# Write to the file\u001b[39;00m\n\u001b[0;32m      9\u001b[0m os\u001b[38;5;241m.\u001b[39mwrite(f, \u001b[38;5;124mb\u001b[39m\u001b[38;5;124m\"\u001b[39m\u001b[38;5;124mHello, world!\u001b[39m\u001b[38;5;124m\"\u001b[39m)\n",
      "\u001b[1;31mFileNotFoundError\u001b[0m: [Errno 2] No such file or directory: 'myfile.txt'"
     ]
    }
   ],
   "source": [
    "#To open a file for writing, you can use the os.O_WRONLY flag:\n",
    "\n",
    "import os\n",
    "\n",
    "# Open the file in write-only mode\n",
    "f = os.open(\"myfile.txt\", os.O_WRONLY)\n",
    "\n",
    "# Write to the file\n",
    "os.write(f, b\"Hello, world!\")\n",
    "\n",
    "# Close the file\n",
    "os.close(f)"
   ]
  },
  {
   "cell_type": "markdown",
   "id": "de4cf777-c58e-4c88-91c7-b03743532ef8",
   "metadata": {},
   "source": [
    "Interacting with the file system\n",
    "- The os module also provides functions for interacting with the file system. For example, you can use the os.listdir function to get a list of the files in a directory:\n"
   ]
  },
  {
   "cell_type": "code",
   "execution_count": 1,
   "id": "54b2f264-557e-41a5-ba38-1c8d079b80b9",
   "metadata": {},
   "outputs": [
    {
     "name": "stdout",
     "output_type": "stream",
     "text": [
      "['.git', '.gitattributes', '.ipynb_checkpoints', '01.main.py', '02. Comments and Escape seq char.ipynb', '03. Variable and Data Type.ipynb', '04.Operators.ipynb', '05.TypeCasting.ipynb', '06.Input Function.ipynb', '07.String.ipynb', '08.If-Else Conditional statement.ipynb', '09.Match Case.ipynb', '10.For Loop.ipynb', '11.While.ipynb', '12.Break and Continue.ipynb', '13.Functions.ipynb', '14.List.ipynb', '15.Tuple.ipynb', '16.F-String.ipynb', '17.Docstring.ipynb', '18.Recursion.ipynb', '19. Sets.ipynb', '20.Dictionary.ipynb', '21.For-loop-with-Else.ipynb', '22.Exception-Handling.ipynb', '23.Shorthand-If-Else-Statement.ipynb', '24.Enumerate Function.ipynb', '25.Virtual Environment .ipynb', '26.Import-Work.ipynb', '27.if __name__ == __main__.ipynb', '28.OS Module.ipynb', '29.Local Vs Global.ipynb', '30.File Handling.ipynb', '31.Lambda-Function.ipynb', 'abc.txt', 'afternoon.png', 'evening.png', 'marks.txt', 'marks2.txt', 'Module.py', 'morning.png', 'night.png', 'Python venv', 'README.md', '__pycache__']\n"
     ]
    }
   ],
   "source": [
    "import os\n",
    "\n",
    "# Get a list of the files in the current directory\n",
    "files = os.listdir(\".\")\n",
    "print(files)  # Output: ['myfile.txt', 'otherfile.txt']"
   ]
  },
  {
   "cell_type": "code",
   "execution_count": 2,
   "id": "1667b258-0714-4e6c-994a-9b6058fa349a",
   "metadata": {},
   "outputs": [],
   "source": [
    "#You can also use the os.mkdir function to create a new directory:\n",
    "\n",
    "import os\n",
    "\n",
    "# Create a new directory\n",
    "os.mkdir(\"newdir\")"
   ]
  },
  {
   "cell_type": "markdown",
   "id": "ee3d1c92-0199-45f2-ac92-2b9863af19b2",
   "metadata": {},
   "source": [
    "Running system commands\n"
   ]
  },
  {
   "cell_type": "markdown",
   "id": "78eaf9d8-e803-4fa9-9a99-e72f09fc9e22",
   "metadata": {},
   "source": [
    "Finally, the os module provides functions for running system commands. For example, you can use the os.system function to run a command and get the output:"
   ]
  },
  {
   "cell_type": "code",
   "execution_count": null,
   "id": "889247df-48ac-412a-a43d-186b36d693d9",
   "metadata": {},
   "outputs": [],
   "source": [
    "import os\n",
    "\n",
    "# Run the \"ls\" command and print the output\n",
    "output = os.system(\"ls\")\n",
    "print(output)  # Output: ['myfile.txt', 'otherfile.txt']"
   ]
  },
  {
   "cell_type": "markdown",
   "id": "098cd44f-2b73-4b9b-9d23-436d2e154197",
   "metadata": {},
   "source": [
    "You can also use the os.popen function to run a command and get the output as a file-like object:\n"
   ]
  },
  {
   "cell_type": "code",
   "execution_count": null,
   "id": "0fc0538e-15f5-468e-bd1a-78a7d03b807b",
   "metadata": {},
   "outputs": [],
   "source": [
    "import os\n",
    "\n",
    "# Run the \"ls\" command and get the output as a file-like object\n",
    "f = os.popen(\"ls\")\n",
    "\n",
    "# Read the contents of the output\n",
    "output = f.read()\n",
    "print(output)  # Output: ['myfile.txt', 'otherfile.txt']\n",
    "\n",
    "# Close the file-like object\n",
    "f.close()"
   ]
  },
  {
   "cell_type": "markdown",
   "id": "d697ea06-1a98-4036-b09c-5838a9cb27b6",
   "metadata": {},
   "source": [
    "In summary, the os module in Python is a built-in library that provides a wide variety of functions for interacting with the operating system. It allows you to perform tasks such as reading and writing files, interacting with the file system, and running system commands."
   ]
  }
 ],
 "metadata": {
  "kernelspec": {
   "display_name": "Python 3 (ipykernel)",
   "language": "python",
   "name": "python3"
  },
  "language_info": {
   "codemirror_mode": {
    "name": "ipython",
    "version": 3
   },
   "file_extension": ".py",
   "mimetype": "text/x-python",
   "name": "python",
   "nbconvert_exporter": "python",
   "pygments_lexer": "ipython3",
   "version": "3.12.0"
  },
  "widgets": {
   "application/vnd.jupyter.widget-state+json": {
    "state": {},
    "version_major": 2,
    "version_minor": 0
   }
  }
 },
 "nbformat": 4,
 "nbformat_minor": 5
}
