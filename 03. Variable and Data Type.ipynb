{
 "cells": [
  {
   "cell_type": "markdown",
   "id": "60d1e900-9fd5-4270-bb42-e17b1a903ffc",
   "metadata": {},
   "source": [
    "*Variable*"
   ]
  },
  {
   "cell_type": "code",
   "execution_count": 5,
   "id": "18f9d66b-13ef-4a02-a596-bb0b09a5d295",
   "metadata": {},
   "outputs": [
    {
     "name": "stdout",
     "output_type": "stream",
     "text": [
      "140706512299080\n",
      "140706512299080\n",
      "10\n"
     ]
    }
   ],
   "source": [
    "a=10\n",
    "print(id(a))\n",
    "b=a\n",
    "print(id(b))\n",
    "print(b)"
   ]
  },
  {
   "cell_type": "code",
   "execution_count": 11,
   "id": "f0eb4c60-7869-4ffc-a7c8-49d47d702541",
   "metadata": {},
   "outputs": [],
   "source": [
    "x=1\n",
    "y=3+4j\n",
    "z=\"vab\"\n",
    "e=True"
   ]
  },
  {
   "cell_type": "markdown",
   "id": "2d3ad055-86d1-4937-8f58-3973bd2ae273",
   "metadata": {},
   "source": [
    "*Data Type*"
   ]
  },
  {
   "cell_type": "code",
   "execution_count": 12,
   "id": "a8777f63-f753-488e-82d1-918c33e665c5",
   "metadata": {},
   "outputs": [
    {
     "name": "stdout",
     "output_type": "stream",
     "text": [
      "<class 'int'>\n",
      "<class 'complex'>\n",
      "<class 'str'>\n",
      "<class 'bool'>\n"
     ]
    }
   ],
   "source": [
    "print(type(x))\n",
    "print(type(y))\n",
    "print(type(z))\n",
    "print(type(e))"
   ]
  },
  {
   "cell_type": "code",
   "execution_count": 26,
   "id": "e119bd06-ee75-4bd1-ab5e-365756dadad7",
   "metadata": {},
   "outputs": [
    {
     "name": "stdin",
     "output_type": "stream",
     "text": [
      "Enter a number 6\n"
     ]
    },
    {
     "name": "stdout",
     "output_type": "stream",
     "text": [
      "6 * 1 =6\n",
      "6 * 2 =12\n",
      "6 * 3 =18\n",
      "6 * 4 =24\n",
      "6 * 5 =30\n",
      "6 * 6 =36\n",
      "6 * 7 =42\n",
      "6 * 8 =48\n",
      "6 * 9 =54\n",
      "6 * 10 =60\n"
     ]
    }
   ],
   "source": [
    "a=int(input(\"Enter a number\"))\n",
    "if a<=0:\n",
    "    print(\"Enter a positive value\")\n",
    "else:\n",
    "    for i in range(1,11):\n",
    "        ans=a*i\n",
    "        print(\"{} * {} ={}\".format(a,i,ans))"
   ]
  },
  {
   "cell_type": "code",
   "execution_count": null,
   "id": "7d1760e4-b500-46e2-8e87-2c7ccba68602",
   "metadata": {},
   "outputs": [],
   "source": []
  },
  {
   "cell_type": "code",
   "execution_count": 32,
   "id": "10cc9853-5c7b-4158-8bb0-6dd3fbb9660d",
   "metadata": {},
   "outputs": [
    {
     "name": "stdout",
     "output_type": "stream",
     "text": [
      "[0, 5, 10, 15, 20, 25, 30, 35, 40, 45, 50]\n"
     ]
    }
   ],
   "source": [
    "c=list(range(0,51,5))\n",
    "print(c)"
   ]
  },
  {
   "cell_type": "code",
   "execution_count": null,
   "id": "55b46a9e-fd0f-4b4e-a949-365641a293d3",
   "metadata": {},
   "outputs": [],
   "source": []
  },
  {
   "cell_type": "code",
   "execution_count": 31,
   "id": "f072504d-9d82-47e9-8d59-3c80565fd3dd",
   "metadata": {},
   "outputs": [],
   "source": []
  },
  {
   "cell_type": "code",
   "execution_count": null,
   "id": "d88da8e7-c26f-4854-86a6-4774a37f45ef",
   "metadata": {},
   "outputs": [],
   "source": []
  },
  {
   "cell_type": "code",
   "execution_count": null,
   "id": "7be4ec49-e14c-4a79-93f5-5d1e79624e1b",
   "metadata": {},
   "outputs": [],
   "source": []
  },
  {
   "cell_type": "code",
   "execution_count": null,
   "id": "e366f73d-21a1-44a7-adaf-419aa3fcc15e",
   "metadata": {},
   "outputs": [],
   "source": []
  }
 ],
 "metadata": {
  "kernelspec": {
   "display_name": "Python 3 (ipykernel)",
   "language": "python",
   "name": "python3"
  },
  "language_info": {
   "codemirror_mode": {
    "name": "ipython",
    "version": 3
   },
   "file_extension": ".py",
   "mimetype": "text/x-python",
   "name": "python",
   "nbconvert_exporter": "python",
   "pygments_lexer": "ipython3",
   "version": "3.11.5"
  }
 },
 "nbformat": 4,
 "nbformat_minor": 5
}
