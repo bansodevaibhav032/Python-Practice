{
 "cells": [
  {
   "cell_type": "markdown",
   "id": "406203d2-61c2-4428-bd68-09241560576f",
   "metadata": {},
   "source": [
    "# Virtual Environment \n",
    "- A virtual environment is a tool used to isolate specific Python environments on a single machine, allowing you to work on multiple projects with different dependencies and packages without conflicts.\n",
    "- This can be especially useful when working on projects that have conflicting package versions or packages that are not compatible with each other.\n",
    "- \r\n",
    "To create a virtual environment in Python, you can use the venv module that comes with Python. Here's an example of how to create a virtual environment and activate it:"
   ]
  },
  {
   "cell_type": "markdown",
   "id": "49e11cfa-eb60-4b1f-ac19-d2c23e20e055",
   "metadata": {},
   "source": [
    "# Create a virtual environment\n",
    "python -m venv myenv\n",
    "\n",
    "# Activate the virtual environment (Windows)\n",
    "myenv\\Scripts\\activate.bat"
   ]
  },
  {
   "cell_type": "markdown",
   "id": "a0a075e7-48ec-43fb-a52e-71d0c7a5a6e6",
   "metadata": {},
   "source": [
    "Once the virtual environment is activated, any packages that you install using pip will be installed in the virtual environment, rather than in the global Python environment. This allows you to have a separate set of packages for each project, without affecting the packages installed in the global environment.\n",
    "\n",
    "To deactivate the virtual environment, you can use the deactivate command:"
   ]
  },
  {
   "cell_type": "code",
   "execution_count": null,
   "id": "7446d9ae-b770-4360-a4e7-95052151fcfb",
   "metadata": {},
   "outputs": [],
   "source": [
    "# Deactivate the virtual environment\n",
    "deactivate"
   ]
  },
  {
   "cell_type": "code",
   "execution_count": null,
   "id": "b22aefa1-73ad-4b26-89d6-431564bbd005",
   "metadata": {},
   "outputs": [],
   "source": []
  },
  {
   "cell_type": "markdown",
   "id": "704cdf58-cec8-47f0-85bf-db6f114e0634",
   "metadata": {},
   "source": [
    "The \"requirements.txt\" file\n",
    "- n addition to creating and activating a virtual environment, it can be useful to create a requirements.txt file that lists the packages and their versions that your project depends on.\n",
    "- This file can be used to easily install all the required packages in a new environment.\n",
    "\r\n",
    "To create a requirements.txt file, you can use the pip freeze command, which outputs a list of installed packages and their versions. For example:"
   ]
  },
  {
   "cell_type": "markdown",
   "id": "eba2a48b-1049-4fe6-b845-79f073d5f636",
   "metadata": {},
   "source": [
    "# Output the list of installed packages and their versions to a file\n",
    "pip freeze > requirements.txt\n",
    "\n",
    "To install the packages listed in the requirements.txt file, you can use the pip install command with the -r flag:\n",
    "# Install the packages listed in the requirements.txt file\n",
    "pip install -r requirements.txt\n",
    "\n",
    "Using a virtual environment and a requirements.txt file can help you manage the dependencies for your Python projects and ensure that your projects are portable and can be easily set up on a new machine."
   ]
  }
 ],
 "metadata": {
  "kernelspec": {
   "display_name": "Python 3 (ipykernel)",
   "language": "python",
   "name": "python3"
  },
  "language_info": {
   "codemirror_mode": {
    "name": "ipython",
    "version": 3
   },
   "file_extension": ".py",
   "mimetype": "text/x-python",
   "name": "python",
   "nbconvert_exporter": "python",
   "pygments_lexer": "ipython3",
   "version": "3.12.0"
  },
  "widgets": {
   "application/vnd.jupyter.widget-state+json": {
    "state": {},
    "version_major": 2,
    "version_minor": 0
   }
  }
 },
 "nbformat": 4,
 "nbformat_minor": 5
}
