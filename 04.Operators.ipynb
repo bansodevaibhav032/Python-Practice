{
 "cells": [
  {
   "cell_type": "markdown",
   "id": "92b52352-0554-4aa5-a32e-f931194a0fee",
   "metadata": {},
   "source": [
    " *Operators*\n"
   ]
  },
  {
   "cell_type": "code",
   "execution_count": 6,
   "id": "46bb6ae3-451b-4110-ab43-d8ec0bde228b",
   "metadata": {},
   "outputs": [
    {
     "name": "stdout",
     "output_type": "stream",
     "text": [
      "80\n",
      "20\n",
      "1500\n",
      "1500\n",
      "1\n",
      "20\n"
     ]
    }
   ],
   "source": [
    "#Arithmatic operators \n",
    "\n",
    "a=50\n",
    "b=30\n",
    "\n",
    "sum=a+b\n",
    "print(sum)\n",
    "\n",
    "sub=a-b\n",
    "print(sub)\n",
    "\n",
    "if b==0:\n",
    "    print(\"Can not divide by zero\")\n",
    "else:\n",
    "    div=a/b\n",
    "    print(mul)\n",
    "\n",
    "mul=a*b\n",
    "print(mul)\n",
    "\n",
    "fdiv=a//b\n",
    "print(fdiv)\n",
    "\n",
    "mod=a%b\n",
    "print(mod)\n"
   ]
  },
  {
   "cell_type": "code",
   "execution_count": 7,
   "id": "26c10785-bf74-499b-b760-a404b72d440e",
   "metadata": {},
   "outputs": [
    {
     "name": "stdout",
     "output_type": "stream",
     "text": [
      "False\n",
      "True\n",
      "True\n"
     ]
    }
   ],
   "source": [
    "#Comparison Operators\n",
    "\n",
    "x = 5\n",
    "y = 10\n",
    "print(x == y) \n",
    "print(x < y)  \n",
    "print(x != y)  "
   ]
  },
  {
   "cell_type": "code",
   "execution_count": 11,
   "id": "283a1d42-b30b-4fb7-ab14-f3d0085c8999",
   "metadata": {},
   "outputs": [
    {
     "name": "stdout",
     "output_type": "stream",
     "text": [
      "1\n",
      "7\n"
     ]
    }
   ],
   "source": [
    "#Bitwise Operators\n",
    "\n",
    "x = 5  # Binary: 0101\n",
    "y = 3  # Binary: 0011\n",
    "print(x & y)  # Output: 1 (Binary: 0001)\n",
    "print(x | y)  # Output: 7 (Binary: 0111)\n"
   ]
  },
  {
   "cell_type": "code",
   "execution_count": 10,
   "id": "4c9572dd-25e9-4f50-b01a-f93f7617edcf",
   "metadata": {},
   "outputs": [
    {
     "name": "stdout",
     "output_type": "stream",
     "text": [
      "15\n"
     ]
    }
   ],
   "source": [
    "#Assignment Operators\n",
    "\n",
    "x = 10\n",
    "x += 5  \n",
    "print(x)  "
   ]
  },
  {
   "cell_type": "code",
   "execution_count": 13,
   "id": "1de8238f-108a-488d-b9f7-b4a51dcb35f0",
   "metadata": {},
   "outputs": [
    {
     "name": "stdout",
     "output_type": "stream",
     "text": [
      "True\n",
      "True\n",
      "False\n"
     ]
    }
   ],
   "source": [
    "#Membership Operators\n",
    "\n",
    "ab = [1, 2, 3, 4]\n",
    "print(2 in ab)  \n",
    "print(5 not in ab)\n",
    "print(6 in ab)  "
   ]
  },
  {
   "cell_type": "code",
   "execution_count": 14,
   "id": "e653a45a-2174-4899-85fe-7fc40f90dd84",
   "metadata": {},
   "outputs": [
    {
     "name": "stdout",
     "output_type": "stream",
     "text": [
      "False\n",
      "True\n"
     ]
    }
   ],
   "source": [
    "#Identity Operators\n",
    "a = [1, 2, 3]\n",
    "b = [1, 2, 3]\n",
    "print(a is b)  \n",
    "print(a is not b)  \n"
   ]
  },
  {
   "cell_type": "code",
   "execution_count": 3,
   "id": "5b79ab79-4010-4e8a-91f0-e890452a3b95",
   "metadata": {},
   "outputs": [
    {
     "name": "stdout",
     "output_type": "stream",
     "text": [
      "1.Addition\n",
      "2.Subtaraction\n",
      "3.Multiplication\n",
      "4.Division\n"
     ]
    },
    {
     "name": "stdin",
     "output_type": "stream",
     "text": [
      "Enter a Choice 1/2/3/4 4\n",
      "Enter First Number: 100\n",
      "Enter Second Number: 0\n"
     ]
    },
    {
     "name": "stdout",
     "output_type": "stream",
     "text": [
      "Can not Divide by Zero\n",
      "Result None\n"
     ]
    },
    {
     "name": "stdin",
     "output_type": "stream",
     "text": [
      "Do you want to perform another operation (y/n) n\n"
     ]
    }
   ],
   "source": [
    "#Exercise: Create a calculator \n",
    "\n",
    "def add(x,y):\n",
    "    return x+y\n",
    "\n",
    "def sub(x,y):\n",
    "    return x-y\n",
    "\n",
    "def mul(x,y):\n",
    "    return x*y\n",
    "\n",
    "def div(x,y):\n",
    "    if y==0:\n",
    "        print(\"Can not Divide by Zero\")\n",
    "    else:\n",
    "        return x/y\n",
    "\n",
    "print(\"1.Addition\")\n",
    "print(\"2.Subtaraction\")\n",
    "print(\"3.Multiplication\")\n",
    "print(\"4.Division\")\n",
    "\n",
    "while True:\n",
    "    ch=int(input(\"Enter a Choice 1/2/3/4\"))\n",
    "    \n",
    "    if ch in(1,2,3,4):\n",
    "        n1=float(input('Enter First Number:'))\n",
    "        n2=float(input(\"Enter Second Number:\"))\n",
    "    \n",
    "        if ch==1:\n",
    "            print(\"Result:\",add(n1,n2))\n",
    "            \n",
    "        elif ch==2:\n",
    "            print(\"Result\",sub(n1,n2))\n",
    "    \n",
    "        elif ch==3:\n",
    "            print(\"Result\",mul(n1,n2))\n",
    "    \n",
    "        elif ch==4:\n",
    "            print(\"Result\",div(n1,n2))\n",
    "\n",
    "    else:\n",
    "        print(\"Invalid Input\")\n",
    "\n",
    "    x=input(\"Do you want to perform another operation (y/n)\")\n",
    "    if x.lower()!=\"y\":\n",
    "        break        "
   ]
  },
  {
   "cell_type": "code",
   "execution_count": null,
   "id": "a9ea3a2c-9fa8-4d8c-926e-dfe23d2d0ade",
   "metadata": {},
   "outputs": [],
   "source": []
  },
  {
   "cell_type": "code",
   "execution_count": null,
   "id": "1907ed83-13e0-4308-b017-40e7f1fece9a",
   "metadata": {},
   "outputs": [],
   "source": []
  }
 ],
 "metadata": {
  "kernelspec": {
   "display_name": "Python 3 (ipykernel)",
   "language": "python",
   "name": "python3"
  },
  "language_info": {
   "codemirror_mode": {
    "name": "ipython",
    "version": 3
   },
   "file_extension": ".py",
   "mimetype": "text/x-python",
   "name": "python",
   "nbconvert_exporter": "python",
   "pygments_lexer": "ipython3",
   "version": "3.12.0"
  }
 },
 "nbformat": 4,
 "nbformat_minor": 5
}
