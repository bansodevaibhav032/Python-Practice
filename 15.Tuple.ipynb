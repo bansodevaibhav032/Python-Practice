{
 "cells": [
  {
   "cell_type": "markdown",
   "id": "e1152fb4-c9cb-477a-8545-56861649a961",
   "metadata": {},
   "source": [
    "Tuples :\n",
    "\n",
    "- Tuples is collection of Objects / Items.\n",
    "- Tuples can also be homogeneous or heterogeneous.\n",
    "- Tuple is defined as name_of_tuple = ( , , , , , )\n",
    "- Tuple can have duplicate value.\n",
    "- Tuple is Ordered in Sequence \n",
    "- Items are accessed by Indexing and slicing.(Positive and Negative )\n",
    "- Tuples are immutable (can not perform add, update, delete)"
   ]
  },
  {
   "cell_type": "code",
   "execution_count": 18,
   "id": "d3cf599e-8e6d-47ce-8f84-0f19da0e0208",
   "metadata": {},
   "outputs": [
    {
     "name": "stdout",
     "output_type": "stream",
     "text": [
      "<class 'tuple'>\n"
     ]
    }
   ],
   "source": [
    "a=(11,)\n",
    "print(type(a))"
   ]
  },
  {
   "cell_type": "code",
   "execution_count": 20,
   "id": "4720ab9d-fee1-4f9a-b17c-5139ebdaf79b",
   "metadata": {},
   "outputs": [
    {
     "name": "stdout",
     "output_type": "stream",
     "text": [
      "<class 'int'>\n"
     ]
    }
   ],
   "source": [
    "# Not a Tuple\n",
    "b=(10)\n",
    "print(type(b))"
   ]
  },
  {
   "cell_type": "code",
   "execution_count": 22,
   "id": "27cf87f9-e10b-4841-992f-6de799884a3e",
   "metadata": {},
   "outputs": [
    {
     "name": "stdout",
     "output_type": "stream",
     "text": [
      "apple\n",
      "banana\n",
      "melon\n",
      "mango\n"
     ]
    }
   ],
   "source": [
    "# Access Tuple\n",
    "\n",
    "a=(\"apple\", \"banana\", \"cherry\", \"orange\", \"kiwi\", \"melon\", \"mango\")\n",
    "print(a[0])\n",
    "print(a[1])\n",
    "print(a[5])\n",
    "print(a[-1])"
   ]
  },
  {
   "cell_type": "code",
   "execution_count": 5,
   "id": "591e5b7a-7eb4-4de6-94ec-e9d6ebbfcc6f",
   "metadata": {},
   "outputs": [
    {
     "name": "stdout",
     "output_type": "stream",
     "text": [
      "('cherry', 'orange', 'kiwi', 'melon', 'mango')\n",
      "('apple', 'banana', 'cherry', 'orange', 'kiwi')\n"
     ]
    }
   ],
   "source": [
    "print(a[2:])\n",
    "print(a[:5])"
   ]
  },
  {
   "cell_type": "code",
   "execution_count": 6,
   "id": "5add6f63-2998-4757-98ca-c0a398d9c664",
   "metadata": {},
   "outputs": [
    {
     "name": "stdout",
     "output_type": "stream",
     "text": [
      "Apple is Inside the Tuple\n"
     ]
    }
   ],
   "source": [
    "if \"apple\" in a:\n",
    "    print(\"Apple is Inside the Tuple\")\n",
    "else:\n",
    "    print(\"Apple is Not Insidee the Tuple!\")"
   ]
  },
  {
   "cell_type": "code",
   "execution_count": null,
   "id": "b1bf8fb8-7f41-41d1-a022-99610cc1dece",
   "metadata": {},
   "outputs": [],
   "source": [
    "print(a,'')\n",
    "x=input(\"Enter a fruit:\")\n",
    "if x in a:\n",
    "    print(f'{x} is Inside the Tuple')\n",
    "else:\n",
    "    print(f\"{x} is Not Insidee the Tuple!\")"
   ]
  },
  {
   "cell_type": "code",
   "execution_count": 13,
   "id": "3d9a391b-fe11-47ca-81cc-dd8604c49be0",
   "metadata": {},
   "outputs": [
    {
     "name": "stdin",
     "output_type": "stream",
     "text": [
      "Enter a Number: 1\n"
     ]
    },
    {
     "name": "stdout",
     "output_type": "stream",
     "text": [
      "(1, 2, 1, 3, 4, 5, 6, 7, 3, 5, 1, 3, 2, 5)\n",
      "The Count of 1 is: 3\n"
     ]
    }
   ],
   "source": [
    "# Count\n",
    "k=(1,2,1,3,4,5,6,7,3,5,1,3,2,5)\n",
    "nu=int(input(\"Enter a Number:\"))\n",
    "print(k)\n",
    "res=k.count(nu)\n",
    "print(\"The Count of {} is: {}\".format(nu,res))\n",
    "\n"
   ]
  },
  {
   "cell_type": "code",
   "execution_count": 17,
   "id": "08d346cc-35f1-4d3a-b25d-d937f8892e8b",
   "metadata": {},
   "outputs": [
    {
     "name": "stdin",
     "output_type": "stream",
     "text": [
      "Please Enter a Number: 5\n"
     ]
    },
    {
     "name": "stdout",
     "output_type": "stream",
     "text": [
      "Index of 5 is : 4\n"
     ]
    }
   ],
   "source": [
    "# Index\n",
    "\n",
    "k=(1,2,3,4,5,6,7,3,5,3,2,5)\n",
    "num=int(input(\"Please Enter a Number:\"))\n",
    "res=k.index(num,0,9)\n",
    "print(f\"Index of {num} is :\",res)"
   ]
  },
  {
   "cell_type": "code",
   "execution_count": 16,
   "id": "a8014f92-78cc-4dd9-a472-405b05235204",
   "metadata": {},
   "outputs": [
    {
     "name": "stdout",
     "output_type": "stream",
     "text": [
      "(1, 2, 1, 3, 4, 5, 6, 7, 3, 5, 1, 3, 2, 5)\n",
      "The Length of K is: 14\n"
     ]
    }
   ],
   "source": [
    "# length\n",
    "print(k)\n",
    "leng=len(k)\n",
    "print(\"The Length of K is:\",leng)"
   ]
  },
  {
   "cell_type": "code",
   "execution_count": 25,
   "id": "a2e9a31c-394d-43ff-817c-570e28429af8",
   "metadata": {},
   "outputs": [
    {
     "name": "stdout",
     "output_type": "stream",
     "text": [
      "('apple', 'banana', 'cherry', 'orange', 'kiwi', 'melon', 'mango')\n",
      "(1, 2, 3, 4, 5, 6, 7, 3, 5, 3, 2, 5)\n",
      "('apple', 'banana', 'cherry', 'orange', 'kiwi', 'melon', 'mango', 1, 2, 3, 4, 5, 6, 7, 3, 5, 3, 2, 5)\n"
     ]
    }
   ],
   "source": [
    "# Concatinate\n",
    "print(a)\n",
    "print(k)\n",
    "con=(a+k)\n",
    "print(con)"
   ]
  },
  {
   "cell_type": "code",
   "execution_count": 31,
   "id": "09a35319-36bd-473c-a552-f5f211528f31",
   "metadata": {},
   "outputs": [
    {
     "name": "stdout",
     "output_type": "stream",
     "text": [
      "(15, 2, 3, 4, 5, 6, 7, 3, 5, 3, 2, 5)\n",
      "<class 'list'>\n",
      "(15, 2, 3, 4, 5, 6, 7, 3, 5, 3, 2, 5)\n"
     ]
    }
   ],
   "source": [
    "# UPDATE\n",
    "print(k)\n",
    "ab=list(k)\n",
    "print(type(ab))\n",
    "ab[0]=15\n",
    "k=tuple(ab)\n",
    "print(k)\n"
   ]
  },
  {
   "cell_type": "code",
   "execution_count": 32,
   "id": "43208703-7be3-4756-a53c-e25e8f84c6a7",
   "metadata": {},
   "outputs": [
    {
     "name": "stdout",
     "output_type": "stream",
     "text": [
      "(15, 2, 3, 4, 5, 6, 7, 3, 5, 3, 2, 5)\n",
      "<class 'list'>\n",
      "[15, 2, 3, 4, 5, 6, 7, 3, 5, 3, 2, 5, 66]\n"
     ]
    }
   ],
   "source": [
    "# append\n",
    "print(k)\n",
    "ap=list(k)\n",
    "print(type(ap))\n",
    "ap.append(66)\n",
    "print(ap)"
   ]
  },
  {
   "cell_type": "code",
   "execution_count": 35,
   "id": "24712f31-5c5e-4572-a6c4-cfbed3720f67",
   "metadata": {},
   "outputs": [
    {
     "name": "stdout",
     "output_type": "stream",
     "text": [
      "('apple', 'banana', 'cherry', 'orange', 'kiwi', 'melon', 'mango')\n",
      "('apple', 'banana', 'cherry', 'orange', 'kiwi', 'melon', 'mango', 'peru')\n"
     ]
    }
   ],
   "source": [
    "print(a)\n",
    "y=(\"peru\",)\n",
    "a+=y\n",
    "print(a)"
   ]
  },
  {
   "cell_type": "code",
   "execution_count": 37,
   "id": "da55dbec-9ebf-4df5-ba86-f01c0c029908",
   "metadata": {},
   "outputs": [
    {
     "name": "stdout",
     "output_type": "stream",
     "text": [
      "('apple', 'banana', 'cherry', 'orange', 'kiwi', 'melon', 'mango', 'peru')\n",
      "['apple', 'banana', 'cherry', 'orange', 'melon', 'mango', 'peru']\n"
     ]
    }
   ],
   "source": [
    "# Remove\n",
    "print(a)\n",
    "rem=list(a)\n",
    "rem.remove(\"kiwi\")\n",
    "print(rem)"
   ]
  },
  {
   "cell_type": "code",
   "execution_count": 38,
   "id": "4cc39f47-879e-4a64-aae7-53e21bd717f5",
   "metadata": {},
   "outputs": [
    {
     "name": "stdout",
     "output_type": "stream",
     "text": [
      "(1, 2, 3, 4)\n"
     ]
    }
   ],
   "source": [
    "# Packing\n",
    "o=(1,2,3,4)\n",
    "print(o)"
   ]
  },
  {
   "cell_type": "code",
   "execution_count": 43,
   "id": "8db65078-f177-4d23-98ad-8ee60c451175",
   "metadata": {},
   "outputs": [
    {
     "name": "stdout",
     "output_type": "stream",
     "text": [
      "1\n",
      "2\n",
      "3\n"
     ]
    }
   ],
   "source": [
    "# Unpacking\n",
    "o=(1,2,3,4)\n",
    "(One,Two,Three,Four)=o\n",
    "\n",
    "print(One)\n",
    "print(Two)\n",
    "print(Three)"
   ]
  }
 ],
 "metadata": {
  "kernelspec": {
   "display_name": "Python 3 (ipykernel)",
   "language": "python",
   "name": "python3"
  },
  "language_info": {
   "codemirror_mode": {
    "name": "ipython",
    "version": 3
   },
   "file_extension": ".py",
   "mimetype": "text/x-python",
   "name": "python",
   "nbconvert_exporter": "python",
   "pygments_lexer": "ipython3",
   "version": "3.12.0"
  }
 },
 "nbformat": 4,
 "nbformat_minor": 5
}
