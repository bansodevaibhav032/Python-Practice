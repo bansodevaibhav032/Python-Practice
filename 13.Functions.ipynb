{
 "cells": [
  {
   "cell_type": "markdown",
   "id": "c80d78d6-3e75-494e-95b8-a0400e4f20df",
   "metadata": {},
   "source": [
    "Functions \n",
    "\n",
    "-To increase repeatability of code.\n",
    "-Two Types of the functions : 1. Built In Functions  2. User Defined Functions.\n",
    "-Built In Functions : print(), input(), int(), float(), string(), type(), "
   ]
  },
  {
   "cell_type": "markdown",
   "id": "7391f04a-15bd-40ad-ad6d-bb5efc7f8df6",
   "metadata": {},
   "source": [
    "Syntax :\n",
    "\n",
    "1. Function Declaration : \n",
    "2. Body of Function :\n",
    "3. Function Call :\n",
    "\n",
    "def name_of_function  (argument1, argument2, argument3, ... ) :    #declaration\n",
    "    statement - 1\n",
    "    statement - 2\n",
    "    statement - 3\n",
    "     - - - - - - \n",
    "    statement - n\n",
    "    \n",
    "name_of_function()     # function call"
   ]
  },
  {
   "cell_type": "code",
   "execution_count": 1,
   "id": "1f681ada-99ba-4eda-807f-f23961507cec",
   "metadata": {},
   "outputs": [
    {
     "name": "stdout",
     "output_type": "stream",
     "text": [
      "I am writing Function\n",
      "This is Body of Function\n"
     ]
    }
   ],
   "source": [
    "# function Example \n",
    "def myFirstFunction () :    #declaration\n",
    "    print(\"I am writing Function\")         # Body of function\n",
    "    print(\"This is Body of Function\") \n",
    "\n",
    "myFirstFunction()     # function call"
   ]
  },
  {
   "cell_type": "code",
   "execution_count": 2,
   "id": "dc59e755-a1c9-4816-8ef3-62081e2fee35",
   "metadata": {},
   "outputs": [
    {
     "name": "stdin",
     "output_type": "stream",
     "text": [
      "Enter a Number : 20\n",
      "Enter a Number : 30\n"
     ]
    },
    {
     "name": "stdout",
     "output_type": "stream",
     "text": [
      "20 + 30 = 50\n"
     ]
    }
   ],
   "source": [
    "# WA function to add two numbers.\n",
    "def add() :\n",
    "    a = int(input(\"Enter a Number :\"))\n",
    "    b = int(input(\"Enter a Number :\"))\n",
    "    c = a + b\n",
    "    print(\"{} + {} = {}\".format(a, b, c))\n",
    "\n",
    "add()"
   ]
  },
  {
   "cell_type": "markdown",
   "id": "87954513-5c6a-4080-afbd-b84ba3cf4905",
   "metadata": {},
   "source": [
    "Types of Function "
   ]
  },
  {
   "cell_type": "code",
   "execution_count": 4,
   "id": "922e63d2-5665-468f-bcb5-d701af215059",
   "metadata": {},
   "outputs": [
    {
     "name": "stdin",
     "output_type": "stream",
     "text": [
      "Enter a Number : 20\n",
      "Enter a Number : 20\n"
     ]
    },
    {
     "name": "stdout",
     "output_type": "stream",
     "text": [
      "40\n"
     ]
    }
   ],
   "source": [
    "# 1. Call by Value\n",
    "\n",
    "def add1(num1, num2) :\n",
    "    c = num1 + num2\n",
    "    print(c) \n",
    "\n",
    "a = int(input(\"Enter a Number :\"))\n",
    "b = int(input(\"Enter a Number :\"))\n",
    "\n",
    "add1(a,b)"
   ]
  },
  {
   "cell_type": "code",
   "execution_count": 7,
   "id": "268e6494-ff4d-40d2-8193-aee9c944cf68",
   "metadata": {},
   "outputs": [
    {
     "name": "stdout",
     "output_type": "stream",
     "text": [
      "minimum value: 20\n"
     ]
    }
   ],
   "source": [
    "# 2.Function with Return Types\n",
    "\n",
    "def minm(x,y):\n",
    "    z=min(x,y)\n",
    "    return z\n",
    "\n",
    "result=minm(30,20)\n",
    "print(\"minimum value:\",result)"
   ]
  },
  {
   "cell_type": "code",
   "execution_count": 9,
   "id": "7d9a3468-234e-4092-9f53-871a1aaf4600",
   "metadata": {},
   "outputs": [
    {
     "name": "stdout",
     "output_type": "stream",
     "text": [
      "1\n"
     ]
    }
   ],
   "source": [
    "# 3 Call by Value [Default Arguments\n",
    "\n",
    "def add(x=0,y=1,z=0):      # Function Declaration \n",
    "    return x + y + z  # Body of function\n",
    "\n",
    "a = add()     # function call\n",
    "print(a)\n"
   ]
  },
  {
   "cell_type": "code",
   "execution_count": 6,
   "id": "c68677a5-8efb-4e64-a5f3-891623ef11e1",
   "metadata": {},
   "outputs": [
    {
     "name": "stdout",
     "output_type": "stream",
     "text": [
      "<class 'tuple'>\n",
      "45\n"
     ]
    }
   ],
   "source": [
    "# 4 Function Call by variable arguments (*var)\n",
    "\n",
    "def sum(*x)  :\n",
    "    print(type(x))    #it will take values as a tuple \n",
    "    add = 0\n",
    "    for i in x:\n",
    "        add = add + i\n",
    "    return add\n",
    "\n",
    "\n",
    "a = sum(1,34,4,6)\n",
    "print(a)"
   ]
  },
  {
   "cell_type": "code",
   "execution_count": 3,
   "id": "d94f075e-4c37-411f-8ee9-3041250f2490",
   "metadata": {},
   "outputs": [
    {
     "name": "stdout",
     "output_type": "stream",
     "text": [
      "name\n",
      "sal\n",
      "addr\n"
     ]
    }
   ],
   "source": [
    "# 5 Call by value with variable keyword argument \n",
    "# def function_name(**var) :\n",
    "\n",
    "# WAP to display keys.\n",
    "\n",
    "def dictVal(**x) :\n",
    "    for i in x :\n",
    "        print(i)\n",
    "\n",
    "dict1 = {\"name\" :'xyz', \"sal\" :1234 , \"addr\" : 'PUNE'}\n",
    "dictVal(**dict1)\n"
   ]
  },
  {
   "cell_type": "code",
   "execution_count": 4,
   "id": "7541e1ea-ef87-4b3e-9f7d-375f7901be4e",
   "metadata": {},
   "outputs": [],
   "source": [
    "def dictVal1(**a) :\n",
    "    for i in a :\n",
    "        print(a[i])"
   ]
  },
  {
   "cell_type": "code",
   "execution_count": 5,
   "id": "ac846d5c-3d0e-4d66-98ed-5328037c5e3d",
   "metadata": {},
   "outputs": [
    {
     "name": "stdout",
     "output_type": "stream",
     "text": [
      "xyz\n",
      "1234\n",
      "PUNE\n"
     ]
    }
   ],
   "source": [
    "dict1 = {\"name\" :'xyz', \"sal\" :1234 , \"addr\" : 'PUNE'}\n",
    "dictVal1(**dict1)"
   ]
  }
 ],
 "metadata": {
  "kernelspec": {
   "display_name": "Python 3 (ipykernel)",
   "language": "python",
   "name": "python3"
  },
  "language_info": {
   "codemirror_mode": {
    "name": "ipython",
    "version": 3
   },
   "file_extension": ".py",
   "mimetype": "text/x-python",
   "name": "python",
   "nbconvert_exporter": "python",
   "pygments_lexer": "ipython3",
   "version": "3.12.0"
  },
  "widgets": {
   "application/vnd.jupyter.widget-state+json": {
    "state": {},
    "version_major": 2,
    "version_minor": 0
   }
  }
 },
 "nbformat": 4,
 "nbformat_minor": 5
}
