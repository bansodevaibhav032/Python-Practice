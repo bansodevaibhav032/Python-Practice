{
 "cells": [
  {
   "cell_type": "markdown",
   "id": "844aa97a-9301-4e20-a27b-4d1a3413b294",
   "metadata": {},
   "source": [
    "Lambda Fuction \n",
    "- lambda function is a small, anonymous function defined using the lambda keyword.\n",
    "- Lambda functions are also known as anonymous functions because they don't have a name like regular functions defined with the def keyword.\n",
    "- They are often used for short, simple operations where a full function definition is not necessary."
   ]
  },
  {
   "cell_type": "code",
   "execution_count": 18,
   "id": "0c7a4e47-0194-4b13-9256-1e3af2e7c85a",
   "metadata": {},
   "outputs": [
    {
     "name": "stdin",
     "output_type": "stream",
     "text": [
      "Enter a Number For the Square: 4\n",
      "Enter a Number For the Cube: 6\n"
     ]
    }
   ],
   "source": [
    "sq=int(input(\"Enter a Number For the Square:\"))\n",
    "cu=int(input(\"Enter a Number For the Cube:\"))"
   ]
  },
  {
   "cell_type": "code",
   "execution_count": 19,
   "id": "05638c37-b65a-4c7a-bbf9-434d063ee077",
   "metadata": {},
   "outputs": [],
   "source": [
    "double = lambda sq: sq ** 2 \n",
    "cube = lambda cu: cu ** 3   "
   ]
  },
  {
   "cell_type": "code",
   "execution_count": 20,
   "id": "6158ca7a-5807-425d-a67e-0941c8454952",
   "metadata": {},
   "outputs": [
    {
     "name": "stdout",
     "output_type": "stream",
     "text": [
      "Square: 16\n",
      "Cube: 216\n"
     ]
    }
   ],
   "source": [
    "print('Square:',double(sq))\n",
    "print('Cube:',cube(cu))"
   ]
  },
  {
   "cell_type": "code",
   "execution_count": null,
   "id": "1408ea77-410a-4426-8f5b-7e49dc415409",
   "metadata": {},
   "outputs": [],
   "source": []
  },
  {
   "cell_type": "code",
   "execution_count": 22,
   "id": "2ef69dfc-1440-4ff8-ae79-29c9920134a9",
   "metadata": {},
   "outputs": [
    {
     "name": "stdout",
     "output_type": "stream",
     "text": [
      "25.0\n"
     ]
    }
   ],
   "source": [
    "#Average \n",
    "avg= lambda a,b,c: (a+b+c)/3\n",
    "print(avg(20,30,25)) "
   ]
  },
  {
   "cell_type": "code",
   "execution_count": 32,
   "id": "2639d3a6-46d3-417e-88a5-480d1f6a1c3f",
   "metadata": {},
   "outputs": [
    {
     "name": "stdout",
     "output_type": "stream",
     "text": [
      "18\n"
     ]
    }
   ],
   "source": [
    "squ=lambda x: x**2\n",
    "\n",
    "def abc(amt,value):\n",
    "    return 10 + amt(value)\n",
    "\n",
    "\n",
    "#print(abc(squ,2))\n",
    "print(abc(lambda x: x**3,2))"
   ]
  },
  {
   "cell_type": "markdown",
   "id": "1d6097ca-b185-4227-8acd-4c1308da754b",
   "metadata": {},
   "source": [
    "Map Function :\n",
    "The map function applies a function to each element in a sequence and returns a new sequence containing the transformed elements. The map function has the following syntax:\n",
    "\n",
    "map(function, iterable)\n",
    "\n",
    "The function argument is a function that is applied to each element in the iterable argument. The iterable argument can be a list, tuple, or any other iterable object.\n"
   ]
  },
  {
   "cell_type": "code",
   "execution_count": 51,
   "id": "98592f98-c130-40b1-ab60-9874941d9eea",
   "metadata": {},
   "outputs": [
    {
     "name": "stdout",
     "output_type": "stream",
     "text": [
      "8\n",
      "[1, 8, 27, 64, 125]\n"
     ]
    }
   ],
   "source": [
    "def cube(x):\n",
    "    return x*x*x\n",
    "print(cube(2))\n",
    "\n",
    "ab=[1,2,3,4,5]\n",
    "# newl=[]\n",
    "# for item in ab:\n",
    "#     newl.append(cube(item))\n",
    "# print(newl)\n",
    "\n",
    "#using Map function\n",
    "\n",
    "newlmap=list(map(cube,ab))\n",
    "print(newlmap)"
   ]
  },
  {
   "cell_type": "code",
   "execution_count": 53,
   "id": "5a1383e8-c40d-47f3-b199-271271a1a148",
   "metadata": {},
   "outputs": [
    {
     "name": "stdout",
     "output_type": "stream",
     "text": [
      "[1, 2, 3, 4, 5]\n"
     ]
    }
   ],
   "source": [
    "print(ab)"
   ]
  },
  {
   "cell_type": "code",
   "execution_count": 47,
   "id": "771326a0-102b-44cd-9d50-74f4f01f12da",
   "metadata": {},
   "outputs": [
    {
     "name": "stdout",
     "output_type": "stream",
     "text": [
      "my name is vivek\n"
     ]
    }
   ],
   "source": [
    "nm='vivek'\n",
    "\n",
    "#print(\"my name is {}\".format(nm))\n",
    "print(f\"my name is {nm}\")"
   ]
  },
  {
   "cell_type": "markdown",
   "id": "7f6219f4-6f96-4792-8ce7-582f4064fc33",
   "metadata": {},
   "source": [
    "\n",
    "The filter function filters a sequence of elements based on a given predicate (a function that returns a boolean value) and returns a new sequence containing only the elements that meet the predicate. The filter function has the following syntax:\r\n",
    "\r\n",
    "filter(predicate, iterable)\r\n",
    "\r\n",
    "The predicate argument is a function that returns a boolean value and is applied to each element in the iterable argument. The iterable argument can be a list, tuple, or any other iterable object."
   ]
  },
  {
   "cell_type": "code",
   "execution_count": 59,
   "id": "e298e896-af09-4aa1-b06a-dbb9938b34b9",
   "metadata": {},
   "outputs": [
    {
     "name": "stdout",
     "output_type": "stream",
     "text": [
      "[1, 2, 3, 4, 5, 6, 7, 8, 9, 10, 11, 12, 13, 14, 15, 16, 17, 18, 19, 20, 21, 22, 23, 24, 25, 26, 27, 28, 29, 30, 31, 32, 33, 34, 35, 36, 37, 38, 39, 40, 41, 42, 43, 44, 45, 46, 47, 48, 49, 50, 51, 52, 53, 54, 55, 56, 57, 58, 59, 60, 61, 62, 63, 64, 65, 66, 67, 68, 69, 70, 71, 72, 73, 74, 75, 76, 77, 78, 79, 80, 81, 82, 83, 84, 85, 86, 87, 88, 89, 90, 91, 92, 93, 94, 95, 96, 97, 98, 99]\n"
     ]
    }
   ],
   "source": [
    "ab=list(range(1,100))\n",
    "print(ab)"
   ]
  },
  {
   "cell_type": "code",
   "execution_count": 68,
   "id": "f58a3a0d-a356-444d-994c-ad0d50c32439",
   "metadata": {},
   "outputs": [
    {
     "name": "stdout",
     "output_type": "stream",
     "text": [
      "[51, 52, 53, 54, 55, 56, 57, 58, 59, 60, 61, 62, 63, 64, 65, 66, 67, 68, 69, 70, 71, 72, 73, 74, 75, 76, 77, 78, 79, 80, 81, 82, 83, 84, 85, 86, 87, 88, 89, 90, 91, 92, 93, 94, 95, 96, 97, 98, 99] \n",
      "\n",
      "\n",
      "Odd Number: [1, 3, 5, 7, 9, 11, 13, 15, 17, 19, 21, 23, 25, 27, 29, 31, 33, 35, 37, 39, 41, 43, 45, 47, 49, 51, 53, 55, 57, 59, 61, 63, 65, 67, 69, 71, 73, 75, 77, 79, 81, 83, 85, 87, 89, 91, 93, 95, 97, 99]\n",
      "\n",
      "Even Number: [2, 4, 6, 8, 10, 12, 14, 16, 18, 20, 22, 24, 26, 28, 30, 32, 34, 36, 38, 40, 42, 44, 46, 48, 50, 52, 54, 56, 58, 60, 62, 64, 66, 68, 70, 72, 74, 76, 78, 80, 82, 84, 86, 88, 90, 92, 94, 96, 98]\n"
     ]
    }
   ],
   "source": [
    "def abc(a):\n",
    "    return a>50\n",
    "\n",
    "def evennum(a):\n",
    "    return a%2==0\n",
    "    \n",
    "def oddnum(a):\n",
    "    return a%2!=0\n",
    "    \n",
    "xl=list(filter(abc,ab))\n",
    "even=list(filter(evennum,ab))\n",
    "odd=list(filter(oddnum,ab))\n",
    "\n",
    "print(xl,\"\\n\")\n",
    "print(\"\\nOdd Number:\",odd)\n",
    "print(\"\\nEven Number:\",even)\n"
   ]
  },
  {
   "cell_type": "code",
   "execution_count": 70,
   "id": "392b8524-3b6f-441a-af75-0d69540196d6",
   "metadata": {},
   "outputs": [
    {
     "name": "stdout",
     "output_type": "stream",
     "text": [
      "[51, 52, 53, 54, 55, 56, 57, 58, 59, 60, 61, 62, 63, 64, 65, 66, 67, 68, 69, 70, 71, 72, 73, 74, 75, 76, 77, 78, 79, 80, 81, 82, 83, 84, 85, 86, 87, 88, 89, 90, 91, 92, 93, 94, 95, 96, 97, 98, 99] \n",
      "\n",
      "\n",
      "Odd Number: [1, 3, 5, 7, 9, 11, 13, 15, 17, 19, 21, 23, 25, 27, 29, 31, 33, 35, 37, 39, 41, 43, 45, 47, 49, 51, 53, 55, 57, 59, 61, 63, 65, 67, 69, 71, 73, 75, 77, 79, 81, 83, 85, 87, 89, 91, 93, 95, 97, 99]\n",
      "\n",
      "Even Number: [2, 4, 6, 8, 10, 12, 14, 16, 18, 20, 22, 24, 26, 28, 30, 32, 34, 36, 38, 40, 42, 44, 46, 48, 50, 52, 54, 56, 58, 60, 62, 64, 66, 68, 70, 72, 74, 76, 78, 80, 82, 84, 86, 88, 90, 92, 94, 96, 98]\n"
     ]
    }
   ],
   "source": [
    "xl=list(filter(lambda a: a>50,ab))\n",
    "even=list(filter(lambda a: a%2==0,ab))\n",
    "odd=list(filter(lambda a: a%2!=0,ab))\n",
    "\n",
    "print(xl,\"\\n\")\n",
    "print(\"\\nOdd Number:\",odd)\n",
    "print(\"\\nEven Number:\",even)"
   ]
  },
  {
   "cell_type": "markdown",
   "id": "82fab472-cda0-409f-b302-b762b36862e6",
   "metadata": {},
   "source": [
    "The reduce function is a higher-order function that applies a function to a sequence and returns a single value. It is a part of the functools module in Python and has the following syntax:\n",
    "\n",
    "reduce(function, iterable)\n",
    "\n",
    "The function argument is a function that takes in two arguments and returns a single value. The iterable argument is a sequence of elements, such as a list or tuple.\n",
    "\n",
    "The reduce function applies the function to the first two elements in the iterable and then applies the function to the result and the next element, and so on. The reduce function returns the final result."
   ]
  },
  {
   "cell_type": "code",
   "execution_count": 82,
   "id": "6b5db2c2-ccfa-4d9f-8d95-5fc908d08b32",
   "metadata": {},
   "outputs": [
    {
     "data": {
      "text/plain": [
       "[1, 2, 3, 4, 5]"
      ]
     },
     "execution_count": 82,
     "metadata": {},
     "output_type": "execute_result"
    }
   ],
   "source": [
    "from functools import reduce \n",
    "x=list(range(1,6))\n",
    "type(x)\n",
    "x"
   ]
  },
  {
   "cell_type": "code",
   "execution_count": 86,
   "id": "1e30c356-6b89-444b-a47b-f1581e8714ab",
   "metadata": {},
   "outputs": [
    {
     "name": "stdout",
     "output_type": "stream",
     "text": [
      "15\n"
     ]
    }
   ],
   "source": [
    "sum=reduce(lambda a,b: a+b,x)\n",
    "print(sum)"
   ]
  },
  {
   "cell_type": "code",
   "execution_count": 88,
   "id": "97bd259c-1570-4ad2-90dc-55b4fad3fcb5",
   "metadata": {},
   "outputs": [
    {
     "name": "stdout",
     "output_type": "stream",
     "text": [
      "5\n"
     ]
    }
   ],
   "source": [
    "maxvalue=reduce(lambda a,b: a if a>b else b,x)\n",
    "print(maxvalue)"
   ]
  },
  {
   "cell_type": "code",
   "execution_count": null,
   "id": "e912142b-b4c5-4159-912a-95b5c0f304f2",
   "metadata": {},
   "outputs": [],
   "source": []
  },
  {
   "cell_type": "code",
   "execution_count": null,
   "id": "735a5c25-353d-4c56-9af7-e67d06f454b1",
   "metadata": {},
   "outputs": [],
   "source": []
  }
 ],
 "metadata": {
  "kernelspec": {
   "display_name": "Python 3 (ipykernel)",
   "language": "python",
   "name": "python3"
  },
  "language_info": {
   "codemirror_mode": {
    "name": "ipython",
    "version": 3
   },
   "file_extension": ".py",
   "mimetype": "text/x-python",
   "name": "python",
   "nbconvert_exporter": "python",
   "pygments_lexer": "ipython3",
   "version": "3.12.0"
  },
  "widgets": {
   "application/vnd.jupyter.widget-state+json": {
    "state": {},
    "version_major": 2,
    "version_minor": 0
   }
  }
 },
 "nbformat": 4,
 "nbformat_minor": 5
}
