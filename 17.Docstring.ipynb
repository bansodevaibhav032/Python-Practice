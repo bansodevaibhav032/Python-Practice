{
 "cells": [
  {
   "cell_type": "markdown",
   "id": "91a82577-464e-4eaa-9df1-79100459f0a2",
   "metadata": {},
   "source": [
    "Docstring\n",
    "- it is String literals that appears right after the defination of a function, Method, class of module\n"
   ]
  },
  {
   "cell_type": "code",
   "execution_count": 1,
   "id": "fd75075a-8896-4976-960c-8e11a5b021fa",
   "metadata": {},
   "outputs": [
    {
     "name": "stdout",
     "output_type": "stream",
     "text": [
      "25\n",
      "Takes in a number n, return the square of n\n"
     ]
    }
   ],
   "source": [
    "def sq(n):\n",
    "    '''Takes in a number n, return the square of n'''\n",
    "    print(n**2)\n",
    "sq(5)\n",
    "print(sq.__doc__)"
   ]
  },
  {
   "cell_type": "code",
   "execution_count": 2,
   "id": "83a8334b-f6fb-4ecd-8261-0846fa8d94e1",
   "metadata": {},
   "outputs": [
    {
     "name": "stdout",
     "output_type": "stream",
     "text": [
      "2\n",
      "25\n",
      "None\n"
     ]
    }
   ],
   "source": [
    "def sq(n):\n",
    "    print(2)\n",
    "    '''Takes in a number n, return the square of n'''\n",
    "    print(n**2)\n",
    "sq(5)\n",
    "print(sq.__doc__)"
   ]
  },
  {
   "cell_type": "markdown",
   "id": "0c24b3e8-3508-472a-849a-be2a6d5cf276",
   "metadata": {},
   "source": [
    "PEP 8\n",
    "- Doc that provided guidelines and best practice on how to write python code\n",
    "- python enhancement propsal and there are several of them.\n",
    "\n"
   ]
  },
  {
   "cell_type": "markdown",
   "id": "90026766-51d9-4c74-8d54-282ea1e615ad",
   "metadata": {},
   "source": [
    "The Zen of Python \n"
   ]
  },
  {
   "cell_type": "code",
   "execution_count": 3,
   "id": "7bf0acd2-bbe7-487d-82b5-0df1afb4189f",
   "metadata": {},
   "outputs": [
    {
     "name": "stdout",
     "output_type": "stream",
     "text": [
      "The Zen of Python, by Tim Peters\n",
      "\n",
      "Beautiful is better than ugly.\n",
      "Explicit is better than implicit.\n",
      "Simple is better than complex.\n",
      "Complex is better than complicated.\n",
      "Flat is better than nested.\n",
      "Sparse is better than dense.\n",
      "Readability counts.\n",
      "Special cases aren't special enough to break the rules.\n",
      "Although practicality beats purity.\n",
      "Errors should never pass silently.\n",
      "Unless explicitly silenced.\n",
      "In the face of ambiguity, refuse the temptation to guess.\n",
      "There should be one-- and preferably only one --obvious way to do it.\n",
      "Although that way may not be obvious at first unless you're Dutch.\n",
      "Now is better than never.\n",
      "Although never is often better than *right* now.\n",
      "If the implementation is hard to explain, it's a bad idea.\n",
      "If the implementation is easy to explain, it may be a good idea.\n",
      "Namespaces are one honking great idea -- let's do more of those!\n"
     ]
    }
   ],
   "source": [
    "import this "
   ]
  },
  {
   "cell_type": "code",
   "execution_count": null,
   "id": "1e41607c-9ce7-40ac-9109-3fb86ce6c139",
   "metadata": {},
   "outputs": [],
   "source": []
  }
 ],
 "metadata": {
  "kernelspec": {
   "display_name": "Python 3 (ipykernel)",
   "language": "python",
   "name": "python3"
  },
  "language_info": {
   "codemirror_mode": {
    "name": "ipython",
    "version": 3
   },
   "file_extension": ".py",
   "mimetype": "text/x-python",
   "name": "python",
   "nbconvert_exporter": "python",
   "pygments_lexer": "ipython3",
   "version": "3.12.0"
  },
  "widgets": {
   "application/vnd.jupyter.widget-state+json": {
    "state": {},
    "version_major": 2,
    "version_minor": 0
   }
  }
 },
 "nbformat": 4,
 "nbformat_minor": 5
}
