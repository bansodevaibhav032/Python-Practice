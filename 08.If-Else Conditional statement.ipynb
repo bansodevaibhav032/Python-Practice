{
 "cells": [
  {
   "cell_type": "markdown",
   "id": "518301df-1e4a-4b53-9bad-9b8178dce2fd",
   "metadata": {},
   "source": [
    "If-Else "
   ]
  },
  {
   "cell_type": "code",
   "execution_count": 1,
   "id": "422ad05e-b1a7-42d7-b9b0-e313f388de42",
   "metadata": {},
   "outputs": [
    {
     "name": "stdout",
     "output_type": "stream",
     "text": [
      "X is greater then 5\n"
     ]
    }
   ],
   "source": [
    "#if \n",
    "x=10\n",
    "if x>5:\n",
    "    print(\"X is greater then 5\")\n"
   ]
  },
  {
   "cell_type": "code",
   "execution_count": 2,
   "id": "fce79897-f79a-4821-87c6-8facdc61593d",
   "metadata": {},
   "outputs": [
    {
     "name": "stdout",
     "output_type": "stream",
     "text": [
      "X is greater then 5\n"
     ]
    }
   ],
   "source": [
    "#if-else \n",
    "x=10\n",
    "if x>5:\n",
    "    print(\"X is greater then 5\")\n",
    "else:\n",
    "    print(\"X is less than 5\")"
   ]
  },
  {
   "cell_type": "code",
   "execution_count": 1,
   "id": "0e370b1c-42dd-4ff2-8867-f1cd9f40684c",
   "metadata": {},
   "outputs": [
    {
     "name": "stdin",
     "output_type": "stream",
     "text": [
      "Enter a Number: 0\n"
     ]
    },
    {
     "name": "stdout",
     "output_type": "stream",
     "text": [
      "Zero!\n"
     ]
    }
   ],
   "source": [
    "#if-elif-else\n",
    "a=float(input(\"Enter a Number:\"))\n",
    "if a<0:\n",
    "    print(\"Number Is Negetive!\")\n",
    "elif a>0:\n",
    "    print(\"Number Is Positive!\")\n",
    "else:\n",
    "    print(\"Zero!\")"
   ]
  },
  {
   "cell_type": "code",
   "execution_count": 17,
   "id": "c36d511f-d4b8-48ae-8de1-3845071273de",
   "metadata": {},
   "outputs": [
    {
     "name": "stdin",
     "output_type": "stream",
     "text": [
      "Enter a Number: 101\n"
     ]
    },
    {
     "name": "stdout",
     "output_type": "stream",
     "text": [
      "Number Is Positive!\n",
      "The Number is greater than 100\n"
     ]
    }
   ],
   "source": [
    "#nested if statements\n",
    "\n",
    "num=int(input(\"Enter a Number:\"))\n",
    "if num<0:\n",
    "    print(\"Number Is Negetive!\")\n",
    "elif num>0:\n",
    "    print(\"Number Is Positive!\")\n",
    "    if(num>=1 and num<=50):\n",
    "        print(\"The Number is between 1-50\")\n",
    "    elif(num>=51 and num<=100):\n",
    "        print(\"The Number is between 51-100\")\n",
    "    else:\n",
    "        print(\"The Number is greater than 100\")\n",
    "else:\n",
    "    print(\"Zero!\")\n",
    "    "
   ]
  },
  {
   "cell_type": "markdown",
   "id": "5f9f29af-5d3d-4845-b19f-36118042b967",
   "metadata": {},
   "source": [
    "Exercise"
   ]
  },
  {
   "cell_type": "code",
   "execution_count": 1,
   "id": "66605c73-1100-4e44-9c59-f9e68ee5e0f6",
   "metadata": {},
   "outputs": [
    {
     "name": "stdout",
     "output_type": "stream",
     "text": [
      "Current time 24hr: 13:20:38 PM\n",
      "Current time 12hr: 01:20:38 PM\n"
     ]
    }
   ],
   "source": [
    "import time \n",
    "ts=time.strftime(\"%H:%M:%S %p\")\n",
    "print(\"Current time 24hr:\",ts)\n",
    "\n",
    "ts=time.strftime(\"%I:%M:%S %p\")\n",
    "print(\"Current time 12hr:\",ts)\n"
   ]
  },
  {
   "cell_type": "code",
   "execution_count": 2,
   "id": "cf37e9b7-f27d-4547-a831-4fa7d08b0d3d",
   "metadata": {},
   "outputs": [
    {
     "name": "stdin",
     "output_type": "stream",
     "text": [
      "Enter Your name: Girish \n"
     ]
    },
    {
     "name": "stdout",
     "output_type": "stream",
     "text": [
      "Current Time: 01:20:52 PM\n",
      "Good Afternoon Girish \n"
     ]
    }
   ],
   "source": [
    "name=input(\"Enter Your name:\")\n",
    "ts=time.strftime(\"%I:%M:%S %p\")\n",
    "hr=int(time.strftime(\"%H\"))\n",
    "\n",
    "if(hr>=5 and hr<12):\n",
    "    greet=\"Good Morning \"+name\n",
    "elif(hr>=12 and hr<17):\n",
    "    greet=\"Good Afternoon \"+name\n",
    "elif(hr>=17 and hr<20):\n",
    "    greet=\"Good Evening \"+name\n",
    "else:\n",
    "    greet=\"Good Evening \"+name\n",
    "\n",
    "print(\"Current Time:\",ts)\n",
    "print(greet)"
   ]
  },
  {
   "cell_type": "code",
   "execution_count": 3,
   "id": "813207c8-97f1-44b2-b699-af3dabb29daa",
   "metadata": {},
   "outputs": [],
   "source": [
    "import tkinter as tk\n",
    "from tkinter import messagebox\n",
    "import time\n",
    "\n",
    "def greet_user():\n",
    "    name = entry_name.get()\n",
    "    ts = time.strftime(\"%I:%M:%S %p\")\n",
    "    hr = int(time.strftime(\"%H\"))\n",
    "\n",
    "    if 5 <= hr < 12:\n",
    "        greet = \"Good Morning \" + name\n",
    "    elif 12 <= hr < 17:\n",
    "        greet = \"Good Afternoon \" + name\n",
    "    elif 17 <= hr < 20:\n",
    "        greet = \"Good Evening \" + name\n",
    "    else:\n",
    "        greet = \"Good Night \" + name\n",
    "\n",
    "    messagebox.showinfo(\"Greeting\", f\"Current Time: {ts}\\n{greet}\")\n",
    "\n",
    "# Create the main window\n",
    "root = tk.Tk()\n",
    "root.title(\"Greeting App\")\n",
    "\n",
    "# Create and place widgets\n",
    "label_name = tk.Label(root, text=\"Enter Your Name:\")\n",
    "label_name.pack()\n",
    "\n",
    "entry_name = tk.Entry(root)\n",
    "entry_name.pack()\n",
    "\n",
    "button_greet = tk.Button(root, text=\"Greet Me!\", command=greet_user)\n",
    "button_greet.pack()\n",
    "\n",
    "# Start the Tkinter event loop\n",
    "root.mainloop()\n"
   ]
  },
  {
   "cell_type": "code",
   "execution_count": 4,
   "id": "373ca0fb-0aba-4ddd-9698-f474028b7329",
   "metadata": {},
   "outputs": [],
   "source": [
    "import tkinter as tk\n",
    "from tkinter import messagebox\n",
    "import time\n",
    "\n",
    "def greet_user():\n",
    "    name = entry_name.get()\n",
    "    ts = time.strftime(\"%I:%M:%S %p\")\n",
    "    hr = int(time.strftime(\"%H\"))\n",
    "\n",
    "    if 5 <= hr < 12:\n",
    "        greet = \"Good Morning, \" + name\n",
    "    elif 12 <= hr < 17:\n",
    "        greet = \"Good Afternoon, \" + name\n",
    "    elif 17 <= hr < 20:\n",
    "        greet = \"Good Evening, \" + name\n",
    "    else:\n",
    "        greet = \"Good Night, \" + name\n",
    "\n",
    "    messagebox.showinfo(\"Greetings\", f\"Current Time: {ts}\\n{greet}\")\n",
    "\n",
    "# Create the main window\n",
    "root = tk.Tk()\n",
    "root.title(\"Greeting App\")\n",
    "root.geometry(\"1400x1200\")\n",
    "root.resizable(False, False)\n",
    "root.configure(bg=\"#F5F5F5\")\n",
    "\n",
    "# Header Label\n",
    "label_header = tk.Label(root, text=\"Personalized Greeting App\", font=(\"Helvetica\", 16, \"bold\"), bg=\"#F5F5F5\")\n",
    "label_header.pack(pady=10)\n",
    "\n",
    "# Name Entry\n",
    "label_name = tk.Label(root, text=\"Enter Your Name:\", font=(\"Helvetica\", 12), bg=\"#F5F5F5\")\n",
    "label_name.pack()\n",
    "\n",
    "entry_name = tk.Entry(root, font=(\"Helvetica\", 12))\n",
    "entry_name.pack(pady=5)\n",
    "\n",
    "# Greet Button\n",
    "button_greet = tk.Button(root, text=\"Greet Me!\", command=greet_user, font=(\"Helvetica\", 12), bg=\"#4CAF50\", fg=\"white\")\n",
    "button_greet.pack(pady=15)\n",
    "\n",
    "# Footer Label\n",
    "label_footer = tk.Label(root, text=\"© 2024 Greeting App\", font=(\"Helvetica\", 8), bg=\"#F5F5F5\", fg=\"#666666\")\n",
    "label_footer.pack(side=tk.BOTTOM, pady=5)\n",
    "\n",
    "# Start the Tkinter event loop\n",
    "root.mainloop()\n"
   ]
  },
  {
   "cell_type": "code",
   "execution_count": 5,
   "id": "ef9a3a96-1961-41ac-9d06-748bda8e94c2",
   "metadata": {},
   "outputs": [],
   "source": [
    "import tkinter as tk\n",
    "from tkinter import messagebox\n",
    "import time\n",
    "\n",
    "def greet_user():\n",
    "    name = entry_name.get().strip()\n",
    "\n",
    "    if not name:\n",
    "        messagebox.showwarning(\"Warning\", \"Please enter your name.\")\n",
    "        return\n",
    "\n",
    "    ts = time.strftime(\"%I:%M:%S %p\")\n",
    "    hr = int(time.strftime(\"%H\"))\n",
    "\n",
    "    if 5 <= hr < 12:\n",
    "        greet = \"Good Morning, \" + name\n",
    "    elif 12 <= hr < 17:\n",
    "        greet = \"Good Afternoon, \" + name\n",
    "    elif 17 <= hr < 20:\n",
    "        greet = \"Good Evening, \" + name\n",
    "    else:\n",
    "        greet = \"Good Night, \" + name\n",
    "\n",
    "    messagebox.showinfo(\"Greetings\", f\"Current Time: {ts}\\n{greet}\")\n",
    "\n",
    "def clear_name():\n",
    "    entry_name.delete(0, tk.END)\n",
    "\n",
    "# Create the main window\n",
    "root = tk.Tk()\n",
    "root.title(\"Greeting App\")\n",
    "root.geometry(\"500x300\")\n",
    "root.resizable(False, False)\n",
    "root.configure(bg=\"#F5F5F5\")\n",
    "\n",
    "# Frame for text and entry widgets\n",
    "frame_widgets = tk.Frame(root, bg=\"white\", bd=10)\n",
    "frame_widgets.place(relx=0.5, rely=0.5, anchor=\"center\")\n",
    "\n",
    "# Welcome Label\n",
    "label_welcome = tk.Label(frame_widgets, text=\"Welcome to the Personalized Greeting App\", font=(\"Helvetica\", 14, \"bold\"), bg=\"white\")\n",
    "label_welcome.grid(row=0, column=0, columnspan=2, pady=(10, 0))\n",
    "\n",
    "# Name Entry\n",
    "label_name = tk.Label(frame_widgets, text=\"Enter Your Name:\", font=(\"Helvetica\", 12, \"bold\"), bg=\"white\", fg=\"#333333\")\n",
    "label_name.grid(row=1, column=0, pady=5)\n",
    "\n",
    "entry_name = tk.Entry(frame_widgets, font=(\"Helvetica\", 12))\n",
    "entry_name.grid(row=1, column=1, pady=5)\n",
    "\n",
    "# Greet Button\n",
    "button_greet = tk.Button(frame_widgets, text=\"Greet Me!\", command=greet_user, font=(\"Helvetica\", 12), bg=\"#4CAF50\", fg=\"white\")\n",
    "button_greet.grid(row=2, column=0, columnspan=2, pady=10)\n",
    "\n",
    "# Clear Button\n",
    "button_clear = tk.Button(frame_widgets, text=\"Clear\", command=clear_name, font=(\"Helvetica\", 12), bg=\"#F44336\", fg=\"white\")\n",
    "button_clear.grid(row=3, column=0, columnspan=2, pady=5)\n",
    "\n",
    "# Footer Label\n",
    "label_footer = tk.Label(root, text=\"© 2024 Greeting App\", font=(\"Helvetica\", 8), bg=\"#F5F5F5\", fg=\"#666666\")\n",
    "label_footer.pack(side=tk.BOTTOM, pady=5)\n",
    "\n",
    "# Start the Tkinter event loop\n",
    "root.mainloop()\n"
   ]
  },
  {
   "cell_type": "code",
   "execution_count": null,
   "id": "1f35664b-a3e3-4edc-af6b-fa18e4c2bcc3",
   "metadata": {},
   "outputs": [],
   "source": []
  },
  {
   "cell_type": "code",
   "execution_count": null,
   "id": "8c397a4b-74e6-4642-9e6a-974411f49b69",
   "metadata": {},
   "outputs": [],
   "source": []
  },
  {
   "cell_type": "code",
   "execution_count": null,
   "id": "b58c07bb-189c-43fd-831c-a87b52267b39",
   "metadata": {},
   "outputs": [],
   "source": []
  }
 ],
 "metadata": {
  "kernelspec": {
   "display_name": "Python 3 (ipykernel)",
   "language": "python",
   "name": "python3"
  },
  "language_info": {
   "codemirror_mode": {
    "name": "ipython",
    "version": 3
   },
   "file_extension": ".py",
   "mimetype": "text/x-python",
   "name": "python",
   "nbconvert_exporter": "python",
   "pygments_lexer": "ipython3",
   "version": "3.12.0"
  },
  "widgets": {
   "application/vnd.jupyter.widget-state+json": {
    "state": {},
    "version_major": 2,
    "version_minor": 0
   }
  }
 },
 "nbformat": 4,
 "nbformat_minor": 5
}
