{
 "cells": [
  {
   "cell_type": "markdown",
   "id": "a90e3235-b76c-40c0-b2c2-e053ffc45224",
   "metadata": {},
   "source": [
    "Enumerate Function\n",
    "- The enumerate function is a built-in function in Python that allows you to loop over a sequence (such as a list, tuple, or string) and get the index and value of each element in the sequence at the same time."
   ]
  },
  {
   "cell_type": "code",
   "execution_count": 1,
   "id": "eb1253ee-f8de-4eea-9ea4-cf768c59af68",
   "metadata": {},
   "outputs": [
    {
     "name": "stdout",
     "output_type": "stream",
     "text": [
      "Index 0: apple\n",
      "Index 1: banana\n",
      "Index 2: cherry\n"
     ]
    }
   ],
   "source": [
    "fruits = ['apple', 'banana', 'cherry']\n",
    "\n",
    "for ind, frut in enumerate(fruits):\n",
    "    print(f\"Index {ind}: {frut}\")\n"
   ]
  },
  {
   "cell_type": "code",
   "execution_count": 6,
   "id": "181fa8df-9586-4535-b8e7-b3fb9ae46666",
   "metadata": {},
   "outputs": [
    {
     "name": "stdout",
     "output_type": "stream",
     "text": [
      "12\n",
      "33\n",
      "55\n",
      "88\n",
      "vaibhav bansode! 88\n",
      "99\n",
      "2\n",
      "54\n"
     ]
    }
   ],
   "source": [
    "marks=[12,33,55,88,99,2,54]\n",
    "\n",
    "index=0\n",
    "for mark in marks:\n",
    "    print(mark)\n",
    "    if(index==3):\n",
    "        print(\"vaibhav bansode!\",marks[3])\n",
    "    index+=1"
   ]
  },
  {
   "cell_type": "code",
   "execution_count": 10,
   "id": "b71382e6-23fd-4602-8876-ad11bc759746",
   "metadata": {},
   "outputs": [
    {
     "name": "stdout",
     "output_type": "stream",
     "text": [
      "12\n",
      "33\n",
      "55\n",
      "88\n",
      "99\n",
      "vaibhav bansode!\n"
     ]
    }
   ],
   "source": [
    "marks=[12,33,55,88,99,2,54]\n",
    "\n",
    "index=0\n",
    "for index,mark in enumerate(marks):\n",
    "    print(mark)\n",
    "    if(index==4):\n",
    "        print(\"vaibhav bansode!\")\n",
    "        break\n",
    "    "
   ]
  },
  {
   "cell_type": "code",
   "execution_count": null,
   "id": "5f345b16-1b4d-4194-962f-9bbe4163360a",
   "metadata": {},
   "outputs": [],
   "source": []
  }
 ],
 "metadata": {
  "kernelspec": {
   "display_name": "Python 3 (ipykernel)",
   "language": "python",
   "name": "python3"
  },
  "language_info": {
   "codemirror_mode": {
    "name": "ipython",
    "version": 3
   },
   "file_extension": ".py",
   "mimetype": "text/x-python",
   "name": "python",
   "nbconvert_exporter": "python",
   "pygments_lexer": "ipython3",
   "version": "3.12.0"
  },
  "widgets": {
   "application/vnd.jupyter.widget-state+json": {
    "state": {},
    "version_major": 2,
    "version_minor": 0
   }
  }
 },
 "nbformat": 4,
 "nbformat_minor": 5
}
