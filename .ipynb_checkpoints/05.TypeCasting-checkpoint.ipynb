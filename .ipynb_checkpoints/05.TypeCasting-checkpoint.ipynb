{
 "cells": [
  {
   "cell_type": "markdown",
   "id": "531ec9f8-0231-4ae0-a352-e1be9b743f8c",
   "metadata": {},
   "source": [
    "Typecatsing \n"
   ]
  },
  {
   "cell_type": "code",
   "execution_count": 1,
   "id": "4c83077a-7937-45a8-be34-f34e5edb1a7c",
   "metadata": {},
   "outputs": [
    {
     "name": "stdout",
     "output_type": "stream",
     "text": [
      "10.0\n",
      "<class 'float'>\n",
      "25.0\n",
      "<class 'float'>\n"
     ]
    }
   ],
   "source": [
    "#Implicit Typecasting \n",
    "\n",
    "a=5\n",
    "b=5.0\n",
    "\n",
    "sum=a+b\n",
    "print(sum)\n",
    "print(type(sum))\n",
    "\n",
    "mul=a*b\n",
    "print(mul)\n",
    "print(type(mul))"
   ]
  },
  {
   "cell_type": "code",
   "execution_count": 3,
   "id": "f4b82f40-103c-4a8f-86d6-aa576298e302",
   "metadata": {},
   "outputs": [
    {
     "name": "stdout",
     "output_type": "stream",
     "text": [
      "<class 'float'>\n",
      "3 <class 'int'>\n",
      "<class 'str'>\n",
      "False True\n",
      "[12, 43, 65, 77]\n",
      "<class 'set'>\n",
      "<class 'list'>\n",
      "<class 'dict'>\n"
     ]
    }
   ],
   "source": [
    "#Explicit type casting \n",
    "\n",
    "x=10\n",
    "y=float(x)\n",
    "print(type(y))\n",
    "\n",
    "a=3.5\n",
    "b=int(a)\n",
    "print(b,type(b))\n",
    "\n",
    "u=56\n",
    "v=str(u)\n",
    "print(type(v))\n",
    "\n",
    "#bool\n",
    "p=0\n",
    "q=10\n",
    "r=bool(p) \n",
    "s=bool(q) \n",
    "print(r,s)\n",
    "\n",
    "# #tuple\n",
    "# li=[11,22,33]\n",
    "# print(type(list))\n",
    "# tup=tuple(list)\n",
    "# print(type(tup))\n",
    "\n",
    "#list\n",
    "# tupl=(123,456,789)\n",
    "# print(type(tupl))\n",
    "# lis=list(tupl)\n",
    "# print(type(lis))\n",
    "\n",
    "#Set \n",
    "ab=[12,43,65,77]\n",
    "print(ab)\n",
    "cd=set(ab)\n",
    "print(type(cd))\n",
    "\n",
    "#dict \n",
    "xy=[['a',1],['b',2]]\n",
    "print(type(xy))\n",
    "yz=dict(xy)\n",
    "print(type(yz))\n"
   ]
  },
  {
   "cell_type": "code",
   "execution_count": null,
   "id": "191728b2-31bf-4a0f-a460-e9252a1c4bb4",
   "metadata": {},
   "outputs": [],
   "source": []
  }
 ],
 "metadata": {
  "kernelspec": {
   "display_name": "Python 3 (ipykernel)",
   "language": "python",
   "name": "python3"
  },
  "language_info": {
   "codemirror_mode": {
    "name": "ipython",
    "version": 3
   },
   "file_extension": ".py",
   "mimetype": "text/x-python",
   "name": "python",
   "nbconvert_exporter": "python",
   "pygments_lexer": "ipython3",
   "version": "3.12.0"
  },
  "widgets": {
   "application/vnd.jupyter.widget-state+json": {
    "state": {},
    "version_major": 2,
    "version_minor": 0
   }
  }
 },
 "nbformat": 4,
 "nbformat_minor": 5
}
