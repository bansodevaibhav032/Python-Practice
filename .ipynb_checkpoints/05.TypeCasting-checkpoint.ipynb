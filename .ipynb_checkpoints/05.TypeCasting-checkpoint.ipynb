{
 "cells": [
  {
   "cell_type": "markdown",
   "id": "531ec9f8-0231-4ae0-a352-e1be9b743f8c",
   "metadata": {},
   "source": [
    "Typecatsing \n"
   ]
  },
  {
   "cell_type": "code",
   "execution_count": 5,
   "id": "4c83077a-7937-45a8-be34-f34e5edb1a7c",
   "metadata": {},
   "outputs": [
    {
     "name": "stdout",
     "output_type": "stream",
     "text": [
      "10.0\n",
      "<class 'float'>\n",
      "25.0\n",
      "<class 'float'>\n"
     ]
    }
   ],
   "source": [
    "#Implicit Typecasting \n",
    "\n",
    "a=5\n",
    "b=5.0\n",
    "\n",
    "sum=a+b\n",
    "print(sum)\n",
    "print(type(sum))\n",
    "\n",
    "mul=a*b\n",
    "print(mul)\n",
    "print(type(mul))"
   ]
  },
  {
   "cell_type": "code",
   "execution_count": null,
   "id": "f4b82f40-103c-4a8f-86d6-aa576298e302",
   "metadata": {},
   "outputs": [],
   "source": []
  }
 ],
 "metadata": {
  "kernelspec": {
   "display_name": "Python 3 (ipykernel)",
   "language": "python",
   "name": "python3"
  },
  "language_info": {
   "codemirror_mode": {
    "name": "ipython",
    "version": 3
   },
   "file_extension": ".py",
   "mimetype": "text/x-python",
   "name": "python",
   "nbconvert_exporter": "python",
   "pygments_lexer": "ipython3",
   "version": "3.12.0"
  }
 },
 "nbformat": 4,
 "nbformat_minor": 5
}
