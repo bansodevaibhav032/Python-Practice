{
 "cells": [
  {
   "cell_type": "markdown",
   "id": "bf25f490-9597-4553-9abd-d451fead1a62",
   "metadata": {},
   "source": [
    "Short Hand If Else Statement\n",
    "- There is also a shorthand syntax for the if-else statement that can be used when the condition being tested is simple and the code blocks to be executed are short. \n"
   ]
  },
  {
   "cell_type": "markdown",
   "id": "e4df32d5-ab4f-4dd9-bd02-7e0e281c797f",
   "metadata": {},
   "source": [
    "Example\n",
    "\n",
    "res= value_of_true if condition else value_if_false"
   ]
  },
  {
   "cell_type": "markdown",
   "id": "937a4c63-f8ee-4a4d-862c-70647fdd160f",
   "metadata": {},
   "source": [
    "Normal if-else statement-\n",
    "\n",
    "if condition:\n",
    "    res=value_of_true\n",
    "else:\n",
    "    res=value_of_false"
   ]
  },
  {
   "cell_type": "code",
   "execution_count": 3,
   "id": "f526b790-f95f-4b69-a277-6e3f82ab0b94",
   "metadata": {},
   "outputs": [
    {
     "name": "stdout",
     "output_type": "stream",
     "text": [
      "A\n"
     ]
    }
   ],
   "source": [
    "a=100000\n",
    "b=1234\n",
    "print(\"A\") if a>b else print(\"=\") if a==b else print(\"B\")"
   ]
  },
  {
   "cell_type": "code",
   "execution_count": 4,
   "id": "72707fcd-dcd9-462d-ac9e-82c887913d45",
   "metadata": {},
   "outputs": [
    {
     "name": "stdout",
     "output_type": "stream",
     "text": [
      "10\n"
     ]
    }
   ],
   "source": [
    "c=10 if a>b else 0\n",
    "print(c)"
   ]
  },
  {
   "cell_type": "code",
   "execution_count": null,
   "id": "dd72f272-06c0-4f43-83ce-f0931d483165",
   "metadata": {},
   "outputs": [],
   "source": []
  },
  {
   "cell_type": "code",
   "execution_count": null,
   "id": "f1e3fe54-501b-464c-a952-ecc2cd9c6b6f",
   "metadata": {},
   "outputs": [],
   "source": []
  },
  {
   "cell_type": "code",
   "execution_count": null,
   "id": "fdfa4f7d-a86a-4046-9830-2dc1a8fdec60",
   "metadata": {},
   "outputs": [],
   "source": []
  }
 ],
 "metadata": {
  "kernelspec": {
   "display_name": "Python 3 (ipykernel)",
   "language": "python",
   "name": "python3"
  },
  "language_info": {
   "codemirror_mode": {
    "name": "ipython",
    "version": 3
   },
   "file_extension": ".py",
   "mimetype": "text/x-python",
   "name": "python",
   "nbconvert_exporter": "python",
   "pygments_lexer": "ipython3",
   "version": "3.12.0"
  },
  "widgets": {
   "application/vnd.jupyter.widget-state+json": {
    "state": {},
    "version_major": 2,
    "version_minor": 0
   }
  }
 },
 "nbformat": 4,
 "nbformat_minor": 5
}
