{
 "cells": [
  {
   "cell_type": "markdown",
   "id": "a4475532-c625-4473-9df3-f9114fc6238a",
   "metadata": {},
   "source": [
    "While()"
   ]
  },
  {
   "cell_type": "code",
   "execution_count": 1,
   "id": "9610821c-0cc4-4453-a4a1-f4fb2190ec06",
   "metadata": {},
   "outputs": [
    {
     "name": "stdout",
     "output_type": "stream",
     "text": [
      "0 1 2 3 4 5 "
     ]
    }
   ],
   "source": [
    "i=0\n",
    "while(i<6):\n",
    "    print(i ,end=\" \")\n",
    "    i+=1"
   ]
  },
  {
   "cell_type": "code",
   "execution_count": 7,
   "id": "0b529cef-71e6-4fd9-8891-23aade73ee17",
   "metadata": {},
   "outputs": [
    {
     "name": "stdin",
     "output_type": "stream",
     "text": [
      "Enter a Value: 50\n"
     ]
    },
    {
     "name": "stdout",
     "output_type": "stream",
     "text": [
      "i: 50\n"
     ]
    },
    {
     "name": "stdin",
     "output_type": "stream",
     "text": [
      "Enter a Value: 6\n"
     ]
    },
    {
     "name": "stdout",
     "output_type": "stream",
     "text": [
      "i: 6\n"
     ]
    },
    {
     "name": "stdin",
     "output_type": "stream",
     "text": [
      "Enter a Value: 52\n"
     ]
    },
    {
     "name": "stdout",
     "output_type": "stream",
     "text": [
      "Loop Excuted sucessfully \n",
      "Outside of loop \n"
     ]
    }
   ],
   "source": [
    "i=int(input(\"Enter a Value:\"))\n",
    "while(i<=50):\n",
    "    print(\"i:\",i)\n",
    "    i=int(input(\"Enter a Value:\"))\n",
    "\n",
    "print(\"Loop Excuted sucessfully \\nOutside of loop \")"
   ]
  },
  {
   "cell_type": "code",
   "execution_count": 8,
   "id": "e53478b6-0d23-4904-8924-c07fbca61fd6",
   "metadata": {},
   "outputs": [
    {
     "name": "stdin",
     "output_type": "stream",
     "text": [
      "Enter A value : 10\n"
     ]
    },
    {
     "name": "stdout",
     "output_type": "stream",
     "text": [
      "10\n",
      "15\n",
      "0\n",
      "Average of 10 is 1.5\n"
     ]
    }
   ],
   "source": [
    "# Take Value from User and using loop print their average value on the screen.\n",
    "sum=0\n",
    "x=int(input(\"Enter A value :\"))\n",
    "print(x)\n",
    "while(i>0):\n",
    "    sum=i+sum\n",
    "    i=i-1\n",
    "print(sum)\n",
    "print(i)\n",
    "avg=sum/x\n",
    "print(\"Average of {} is {}\".format(x,avg ))"
   ]
  },
  {
   "cell_type": "code",
   "execution_count": 9,
   "id": "848a4fcc-3bb7-4952-bbfa-cf1bc2048250",
   "metadata": {},
   "outputs": [
    {
     "name": "stdin",
     "output_type": "stream",
     "text": [
      "Enter a last value: 10\n"
     ]
    },
    {
     "name": "stdout",
     "output_type": "stream",
     "text": [
      "4.5\n"
     ]
    }
   ],
   "source": [
    "sum=0\n",
    "val=int(input(\"Enter a last value:\"))\n",
    "for i in range(1,val):\n",
    "    sum=sum+i\n",
    "avg=sum/val\n",
    "print(avg)"
   ]
  },
  {
   "cell_type": "code",
   "execution_count": 6,
   "id": "0266d973-2c96-48b1-8c7a-1702a2fd614d",
   "metadata": {},
   "outputs": [
    {
     "name": "stdin",
     "output_type": "stream",
     "text": [
      "Enter a Value:  55\n",
      "Do you want to continue (y/n):  y\n",
      "Enter a Value:  88\n",
      "Do you want to continue (y/n):  y\n",
      "Enter a Value:  99\n",
      "Do you want to continue (y/n):  y\n",
      "Enter a Value:  11\n",
      "Do you want to continue (y/n):  y\n",
      "Enter a Value:  77\n",
      "Do you want to continue (y/n):  n\n"
     ]
    },
    {
     "name": "stdout",
     "output_type": "stream",
     "text": [
      "Entered values: [55, 88, 99, 11, 77]\n",
      "Average of You Entered Value Is: 66.0\n"
     ]
    }
   ],
   "source": [
    "#Take user input value and calculate the average of Entered Value..\n",
    "sum=0\n",
    "\n",
    "\n",
    "avg=0\n",
    "val=[]\n",
    "\n",
    "while True:\n",
    "    a = int(input(\"Enter a Value: \"))\n",
    "    val.append(a)\n",
    "    \n",
    "    mat = input(\"Do you want to continue (y/n): \").lower() \n",
    "    \n",
    "    if mat != 'y':\n",
    "        break\n",
    "    \n",
    "          \n",
    "length= len(val)\n",
    "if length==1:\n",
    "    print(\"You Only Enter One Value! \\nAverage is not Calculated with one Value.\")\n",
    "else:\n",
    "    for i in val:\n",
    "            sum+=i\n",
    "            avg=sum/length\n",
    "    print(\"Entered values:\", val)\n",
    "    print(\"Average of You Entered Value Is:\", avg)\n",
    "    \n",
    "        \n",
    "        "
   ]
  },
  {
   "cell_type": "code",
   "execution_count": 1,
   "id": "6acbaa45-c0d5-4717-ac39-f954a27e9d28",
   "metadata": {},
   "outputs": [
    {
     "name": "stdin",
     "output_type": "stream",
     "text": [
      "Enter a Number: 10\n"
     ]
    },
    {
     "name": "stdout",
     "output_type": "stream",
     "text": [
      "10\n",
      "9\n",
      "8\n",
      "7\n",
      "6\n",
      "5\n",
      "4\n",
      "3\n",
      "2\n",
      "1\n"
     ]
    }
   ],
   "source": [
    "#Countdown Timer \n",
    "n=int(input(\"Enter a Number:\"))\n",
    "while n>=1:\n",
    "    print(n)\n",
    "    n-=1"
   ]
  },
  {
   "cell_type": "code",
   "execution_count": 8,
   "id": "4322578b-53a5-4a17-bc1b-5fed415f5e33",
   "metadata": {},
   "outputs": [
    {
     "name": "stdin",
     "output_type": "stream",
     "text": [
      "Enter a Number: 40\n"
     ]
    },
    {
     "name": "stdout",
     "output_type": "stream",
     "text": [
      "2\t4\t6\t8\t10\t12\t14\t16\t18\t20\t22\t24\t26\t28\t30\t32\t34\t36\t38\t40\t\n",
      "Sum Of the Even Number 380\n"
     ]
    }
   ],
   "source": [
    "#sum of the positive number \n",
    "\n",
    "a=int(input(\"Enter a Number:\"))\n",
    "sum=0\n",
    "i=0\n",
    "while i<a:\n",
    "    sum+=i\n",
    "    i+=2\n",
    "    print(i,end=\"\\t\")\n",
    "print(\"\\nSum Of the Even Number {}\".format(sum))    \n"
   ]
  },
  {
   "cell_type": "code",
   "execution_count": 18,
   "id": "005fc084-c110-44e7-a9d0-ee499e49e7d8",
   "metadata": {},
   "outputs": [
    {
     "name": "stdout",
     "output_type": "stream",
     "text": [
      "Total Chance Remaining: 10\n"
     ]
    },
    {
     "name": "stdin",
     "output_type": "stream",
     "text": [
      "\n",
      "Enter the Number In Between 1-100: 50\n"
     ]
    },
    {
     "name": "stdout",
     "output_type": "stream",
     "text": [
      "9 Attempt remaing..Keep Trying!\n",
      "\n",
      "TOO LOW !!\n",
      "\n"
     ]
    },
    {
     "name": "stdin",
     "output_type": "stream",
     "text": [
      "\n",
      "Enter the Number In Between 1-100: 60\n"
     ]
    },
    {
     "name": "stdout",
     "output_type": "stream",
     "text": [
      "8 Attempt remaing..Keep Trying!\n",
      "\n",
      "TOO LOW !!\n",
      "\n"
     ]
    },
    {
     "name": "stdin",
     "output_type": "stream",
     "text": [
      "\n",
      "Enter the Number In Between 1-100: 70\n"
     ]
    },
    {
     "name": "stdout",
     "output_type": "stream",
     "text": [
      "7 Attempt remaing..Keep Trying!\n",
      "\n",
      "TOO LOW !!\n",
      "\n"
     ]
    },
    {
     "name": "stdin",
     "output_type": "stream",
     "text": [
      "\n",
      "Enter the Number In Between 1-100: asdasds\n"
     ]
    },
    {
     "name": "stdout",
     "output_type": "stream",
     "text": [
      "Please Enter Valid Number!\n"
     ]
    },
    {
     "name": "stdin",
     "output_type": "stream",
     "text": [
      "\n",
      "Enter the Number In Between 1-100: 80\n"
     ]
    },
    {
     "name": "stdout",
     "output_type": "stream",
     "text": [
      "6 Attempt remaing..Keep Trying!\n",
      "\n",
      "TOO LOW !!\n",
      "\n"
     ]
    },
    {
     "name": "stdin",
     "output_type": "stream",
     "text": [
      "\n",
      "Enter the Number In Between 1-100: 90\n"
     ]
    },
    {
     "name": "stdout",
     "output_type": "stream",
     "text": [
      "5 Attempt remaing..Keep Trying!\n",
      "\n",
      "Congrats \n",
      "You Guessed Correct Number 90 is Correct.\n",
      "\n"
     ]
    }
   ],
   "source": [
    "#guess the number in Between 1-100\n",
    "\n",
    "import random\n",
    "\n",
    "tar=random.randint(0,101)\n",
    "ges=0\n",
    "attempt=10\n",
    "print(\"Total Chance Remaining:\",attempt)\n",
    "while attempt>0:\n",
    "    try:   \n",
    "        ges=int(input(\"\\nEnter the Number In Between 1-100:\"))\n",
    "           \n",
    "        attempt-=1\n",
    "        print(\"{} Attempt remaing..Keep Trying!\\n\".format(attempt))\n",
    "        if ges<tar:\n",
    "            print(\"TOO LOW !!\\n\")\n",
    "        elif ges>tar:\n",
    "            print(\"TOO HIGH !!\\n\")\n",
    "        else:\n",
    "            print(\"Congrats \\nYou Guessed Correct Number {} is Correct.\\n\".format(tar))\n",
    "            break\n",
    "    except ValueError:\n",
    "        print(\"Please Enter Valid Number!\")\n",
    "\n",
    "if attempt==0:\n",
    "   print(\"You've reached the maximum number of attempts. \\nThe correct number was {}.\\n\".format(tar))"
   ]
  },
  {
   "cell_type": "markdown",
   "id": "045c3fd0-71fb-485c-a7bb-7e24ebe1ddda",
   "metadata": {},
   "source": [
    "Do While\n",
    "\n",
    "-do..while is a loop in which a set of instructions will execute at least once (irrespective of the condition) and then the repetition of loop's body will depend on the condition passed at the end of the while loop. It is also known as an exit-controlled loop.\n",
    "-To create a do while loop in Python, you need to modify the while loop a bit in order to get similar behavior to a do while loop.\r\n",
    "\r\n",
    "The most common technique to emulate a do-while loop in Python is to use an infinite while loop with a break statement wrapped in an if statement that checks a given condition and breaks the iteration if that condition becomes true:\n",
    "\n"
   ]
  },
  {
   "cell_type": "code",
   "execution_count": null,
   "id": "5bd214f5-6e17-495e-95a7-220fc2bf638d",
   "metadata": {},
   "outputs": [],
   "source": [
    "### WAP to print only positive number if user enter a char then give a message and if user gives negetive value then exit the loop\n",
    "\n",
    "while True:\n",
    "    try:\n",
    "        number = int(input(\"Enter a positive number: \"))\n",
    "        if number >= 0:\n",
    "            print(\"Your Number:\",number)\n",
    "        elif number<=0:\n",
    "            print(\"You Entered a Negetive Value!!\")\n",
    "        else:\n",
    "            print(number)\n",
    "            break       \n",
    "        \n",
    "    except ValueError:\n",
    "        print(\"Enter a Number Only!!\")\n",
    "  \n",
    "print(\"Done for the loop...\")"
   ]
  },
  {
   "cell_type": "code",
   "execution_count": 20,
   "id": "247e8997-2e64-4302-9da0-13c754e566db",
   "metadata": {},
   "outputs": [
    {
     "name": "stdin",
     "output_type": "stream",
     "text": [
      "How many time You want to print the message: 7\n"
     ]
    },
    {
     "name": "stdout",
     "output_type": "stream",
     "text": [
      "Hello, \n",
      "How are You!!!!\n",
      "\n",
      "Hello, \n",
      "How are You!!!!\n",
      "\n",
      "Hello, \n",
      "How are You!!!!\n",
      "\n",
      "Hello, \n",
      "How are You!!!!\n",
      "\n",
      "Hello, \n",
      "How are You!!!!\n",
      "\n",
      "Hello, \n",
      "How are You!!!!\n",
      "\n",
      "Hello, \n",
      "How are You!!!!\n",
      "\n"
     ]
    }
   ],
   "source": [
    "#Disply a number to specific times \n",
    "\n",
    "count=0\n",
    "mes=\"Hello, \\nHow are You!!!!\\n\"\n",
    "times=int(input(\"How many time You want to print the message:\"))\n",
    "while count<times:\n",
    "    print(mes)\n",
    "    count+=1"
   ]
  },
  {
   "cell_type": "code",
   "execution_count": 21,
   "id": "c7abcf31-c874-4284-88cd-870ecc7d426d",
   "metadata": {},
   "outputs": [
    {
     "name": "stdin",
     "output_type": "stream",
     "text": [
      "Enter a Number (0 to Exit) 11\n",
      "Enter a Number (0 to Exit) 55\n",
      "Enter a Number (0 to Exit) 11\n",
      "Enter a Number (0 to Exit) 11\n",
      "Enter a Number (0 to Exit) 11\n",
      "Enter a Number (0 to Exit) 11\n",
      "Enter a Number (0 to Exit) 0\n"
     ]
    },
    {
     "name": "stdout",
     "output_type": "stream",
     "text": [
      "Done for the Entered Numbers Sums!\n",
      "Sum of Entered Number is: 110\n"
     ]
    }
   ],
   "source": [
    "#Calculate the Sum of Numbers Entered by the User\n",
    "t_sum=0\n",
    "while True:\n",
    "    num=int(input(\"Enter a Number (0 to Exit)\"))\n",
    "    t_sum+=num\n",
    "    if num==0:\n",
    "        print(\"Done for the Entered Numbers Sums!\")\n",
    "        break\n",
    "print(\"Sum of Entered Number is:\",t_sum)"
   ]
  },
  {
   "cell_type": "code",
   "execution_count": 28,
   "id": "e2cb3ec6-b7e3-4ff1-b98f-4d7b5d431db8",
   "metadata": {},
   "outputs": [
    {
     "name": "stdin",
     "output_type": "stream",
     "text": [
      "Enter a Number in between 1-10: 5\n"
     ]
    },
    {
     "name": "stdout",
     "output_type": "stream",
     "text": [
      "FIVE\n"
     ]
    },
    {
     "name": "stdin",
     "output_type": "stream",
     "text": [
      "Enter Your Choice y/n:  y\n",
      "Enter a Number in between 1-10: 6\n"
     ]
    },
    {
     "name": "stdout",
     "output_type": "stream",
     "text": [
      "SIX\n"
     ]
    },
    {
     "name": "stdin",
     "output_type": "stream",
     "text": [
      "Enter Your Choice y/n:  n\n"
     ]
    }
   ],
   "source": [
    "while True:\n",
    "    try:\n",
    "        numb = int(input(\"Enter a Number in between 1-10:\"))\n",
    "        if numb >= 1 and numb <= 10:\n",
    "            if numb == 1:\n",
    "                print(\"ONE\")\n",
    "            elif numb == 2:\n",
    "                print(\"TWO\")\n",
    "            elif numb == 3:\n",
    "                print(\"THREE\")\n",
    "            elif numb == 4:\n",
    "                print(\"FOUR\")\n",
    "            elif numb == 5:\n",
    "                print(\"FIVE\")\n",
    "            elif numb == 6:\n",
    "                print(\"SIX\")\n",
    "            elif numb == 7:\n",
    "                print(\"SEVEN\")\n",
    "            elif numb == 8:\n",
    "                print(\"EIGHT\")\n",
    "            elif numb == 9:\n",
    "                print(\"NINE\")\n",
    "            elif numb == 10:\n",
    "                print(\"TEN\")\n",
    "        else:\n",
    "            print(\"Please Enter Value Inbetween 1-10!!\")\n",
    "        \n",
    "        ch = input(\"Enter Your Choice Y/N: \").lower()\n",
    "        if ch != 'y':\n",
    "            break\n",
    "    except ValueError:\n",
    "        print(\"YOU DID NOT ENTER A NUMBER!!\")\n"
   ]
  },
  {
   "cell_type": "code",
   "execution_count": null,
   "id": "cc21ed65-ff3f-4eb5-8896-a483cf9a009e",
   "metadata": {},
   "outputs": [],
   "source": []
  },
  {
   "cell_type": "code",
   "execution_count": null,
   "id": "40ce16fd-4f02-4cc4-80a6-85d1c6186b6f",
   "metadata": {},
   "outputs": [],
   "source": []
  }
 ],
 "metadata": {
  "kernelspec": {
   "display_name": "Python 3 (ipykernel)",
   "language": "python",
   "name": "python3"
  },
  "language_info": {
   "codemirror_mode": {
    "name": "ipython",
    "version": 3
   },
   "file_extension": ".py",
   "mimetype": "text/x-python",
   "name": "python",
   "nbconvert_exporter": "python",
   "pygments_lexer": "ipython3",
   "version": "3.12.0"
  },
  "widgets": {
   "application/vnd.jupyter.widget-state+json": {
    "state": {},
    "version_major": 2,
    "version_minor": 0
   }
  }
 },
 "nbformat": 4,
 "nbformat_minor": 5
}
