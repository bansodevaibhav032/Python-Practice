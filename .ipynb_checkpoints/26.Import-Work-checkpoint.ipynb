{
 "cells": [
  {
   "cell_type": "markdown",
   "id": "ec783a3f-f070-4be5-8f85-d32c67f85fbf",
   "metadata": {},
   "source": [
    "How Import Works in Python\n",
    "- importing in the python is a process of loading code from a python module into the currrent script.\n",
    "- this allows u to use fun and var defined in the module in your current script."
   ]
  },
  {
   "cell_type": "code",
   "execution_count": 2,
   "id": "95bedb35-b14b-4d65-9317-a9da65477235",
   "metadata": {},
   "outputs": [],
   "source": [
    "import math "
   ]
  },
  {
   "cell_type": "code",
   "execution_count": 3,
   "id": "f3ad9939-bf6f-40b2-a369-15298294dbdf",
   "metadata": {},
   "outputs": [
    {
     "data": {
      "text/plain": [
       "4"
      ]
     },
     "execution_count": 3,
     "metadata": {},
     "output_type": "execute_result"
    }
   ],
   "source": [
    "math.floor(4.2343)"
   ]
  },
  {
   "cell_type": "code",
   "execution_count": 4,
   "id": "557ecdb3-fddd-4dc7-b888-41012903e9d7",
   "metadata": {},
   "outputs": [
    {
     "name": "stdout",
     "output_type": "stream",
     "text": [
      "3.0\n"
     ]
    }
   ],
   "source": [
    "res=math.sqrt(9)\n",
    "print(res)"
   ]
  },
  {
   "cell_type": "code",
   "execution_count": 5,
   "id": "4dafb018-1041-4369-bd6c-42e45b595787",
   "metadata": {},
   "outputs": [
    {
     "name": "stdout",
     "output_type": "stream",
     "text": [
      "9.42477796076938\n"
     ]
    }
   ],
   "source": [
    "# only one function in a module\n",
    "\n",
    "from math import sqrt,pi\n",
    "res=math.sqrt(9)*pi\n",
    "print(res)"
   ]
  },
  {
   "cell_type": "code",
   "execution_count": 7,
   "id": "3676f94c-5c80-4313-95ff-da6d9d58cf6a",
   "metadata": {},
   "outputs": [
    {
     "name": "stdout",
     "output_type": "stream",
     "text": [
      "9.42477796076938\n"
     ]
    }
   ],
   "source": [
    "# import everything\n",
    "\n",
    "from math import *\n",
    "res=math.sqrt(9)*pi\n",
    "print(res)"
   ]
  },
  {
   "cell_type": "code",
   "execution_count": 9,
   "id": "3cf49e6b-1fa4-4da2-9fbe-a4dddce99e1c",
   "metadata": {},
   "outputs": [
    {
     "name": "stdout",
     "output_type": "stream",
     "text": [
      "29.608813203268074\n"
     ]
    }
   ],
   "source": [
    "# as keyword\n",
    "\n",
    "import math as m\n",
    "res=m.sqrt(9)*pi*pi\n",
    "print(res)"
   ]
  },
  {
   "cell_type": "code",
   "execution_count": 11,
   "id": "3a0204ab-0aa6-41fe-b659-5fe13b7915a7",
   "metadata": {},
   "outputs": [
    {
     "name": "stdout",
     "output_type": "stream",
     "text": [
      "['__doc__', '__loader__', '__name__', '__package__', '__spec__', 'acos', 'acosh', 'asin', 'asinh', 'atan', 'atan2', 'atanh', 'cbrt', 'ceil', 'comb', 'copysign', 'cos', 'cosh', 'degrees', 'dist', 'e', 'erf', 'erfc', 'exp', 'exp2', 'expm1', 'fabs', 'factorial', 'floor', 'fmod', 'frexp', 'fsum', 'gamma', 'gcd', 'hypot', 'inf', 'isclose', 'isfinite', 'isinf', 'isnan', 'isqrt', 'lcm', 'ldexp', 'lgamma', 'log', 'log10', 'log1p', 'log2', 'modf', 'nan', 'nextafter', 'perm', 'pi', 'pow', 'prod', 'radians', 'remainder', 'sin', 'sinh', 'sqrt', 'sumprod', 'tan', 'tanh', 'tau', 'trunc', 'ulp']\n"
     ]
    }
   ],
   "source": [
    "print(dir(math))"
   ]
  },
  {
   "cell_type": "code",
   "execution_count": 17,
   "id": "81f56798-233c-4424-9e32-556a5815287d",
   "metadata": {},
   "outputs": [
    {
     "name": "stdout",
     "output_type": "stream",
     "text": [
      "<built-in function asin> <class 'builtin_function_or_method'>\n",
      "<built-in function atan> <class 'builtin_function_or_method'>\n",
      "nan <class 'float'>\n",
      "3.141592653589793 <class 'float'>\n"
     ]
    }
   ],
   "source": [
    "print(math.asin, type(math.asin))\n",
    "print(math.atan, type(math.atan))\n",
    "print(math.nan, type(math.nan))\n",
    "print(math.pi, type(math.pi))"
   ]
  },
  {
   "cell_type": "code",
   "execution_count": 38,
   "id": "0cfd6bb9-7d37-4b0a-b2a0-101d0e968dcd",
   "metadata": {},
   "outputs": [],
   "source": [
    "from Module import greet, pi,add"
   ]
  },
  {
   "cell_type": "code",
   "execution_count": 43,
   "id": "fbba5cf3-4feb-46c8-b55c-1e3ab50253d2",
   "metadata": {},
   "outputs": [],
   "source": [
    "import Module as a"
   ]
  },
  {
   "cell_type": "code",
   "execution_count": 36,
   "id": "5aa7f805-b692-4849-8e32-d133e8d00681",
   "metadata": {},
   "outputs": [
    {
     "name": "stdout",
     "output_type": "stream",
     "text": [
      "Hello, {name}!\n",
      "3.14159\n"
     ]
    }
   ],
   "source": [
    "greet(10)\n",
    "print(a.pi)"
   ]
  },
  {
   "cell_type": "code",
   "execution_count": 40,
   "id": "f1950cad-6d59-4b88-9adf-0faeb09dad3e",
   "metadata": {
    "scrolled": true
   },
   "outputs": [
    {
     "data": {
      "text/plain": [
       "4"
      ]
     },
     "execution_count": 40,
     "metadata": {},
     "output_type": "execute_result"
    }
   ],
   "source": [
    "a.add(1,3)"
   ]
  },
  {
   "cell_type": "code",
   "execution_count": 44,
   "id": "45d311c0-4b4c-40ea-811f-fecf0a02590e",
   "metadata": {},
   "outputs": [
    {
     "ename": "AttributeError",
     "evalue": "module 'Module' has no attribute 'vab'",
     "output_type": "error",
     "traceback": [
      "\u001b[1;31m---------------------------------------------------------------------------\u001b[0m",
      "\u001b[1;31mAttributeError\u001b[0m                            Traceback (most recent call last)",
      "Cell \u001b[1;32mIn[44], line 1\u001b[0m\n\u001b[1;32m----> 1\u001b[0m \u001b[38;5;28mprint\u001b[39m(\u001b[43ma\u001b[49m\u001b[38;5;241;43m.\u001b[39;49m\u001b[43mvab\u001b[49m)\n",
      "\u001b[1;31mAttributeError\u001b[0m: module 'Module' has no attribute 'vab'"
     ]
    }
   ],
   "source": [
    "print(a.vab)"
   ]
  },
  {
   "cell_type": "code",
   "execution_count": 1,
   "id": "7e43ea09-fcd3-4db9-9d5a-ab02dcea453f",
   "metadata": {},
   "outputs": [],
   "source": [
    "from math import *"
   ]
  },
  {
   "cell_type": "code",
   "execution_count": null,
   "id": "71604abf-0a43-41ca-8018-950a8aeae256",
   "metadata": {},
   "outputs": [],
   "source": []
  }
 ],
 "metadata": {
  "kernelspec": {
   "display_name": "Python 3 (ipykernel)",
   "language": "python",
   "name": "python3"
  },
  "language_info": {
   "codemirror_mode": {
    "name": "ipython",
    "version": 3
   },
   "file_extension": ".py",
   "mimetype": "text/x-python",
   "name": "python",
   "nbconvert_exporter": "python",
   "pygments_lexer": "ipython3",
   "version": "3.12.0"
  },
  "widgets": {
   "application/vnd.jupyter.widget-state+json": {
    "state": {},
    "version_major": 2,
    "version_minor": 0
   }
  }
 },
 "nbformat": 4,
 "nbformat_minor": 5
}
