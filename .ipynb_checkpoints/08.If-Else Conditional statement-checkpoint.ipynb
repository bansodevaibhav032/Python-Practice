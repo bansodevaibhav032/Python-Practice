{
 "cells": [
  {
   "cell_type": "markdown",
   "id": "518301df-1e4a-4b53-9bad-9b8178dce2fd",
   "metadata": {},
   "source": [
    "If-Else "
   ]
  },
  {
   "cell_type": "code",
   "execution_count": 1,
   "id": "422ad05e-b1a7-42d7-b9b0-e313f388de42",
   "metadata": {},
   "outputs": [
    {
     "name": "stdout",
     "output_type": "stream",
     "text": [
      "X is greater then 5\n"
     ]
    }
   ],
   "source": [
    "#if \n",
    "x=10\n",
    "if x>5:\n",
    "    print(\"X is greater then 5\")\n"
   ]
  },
  {
   "cell_type": "code",
   "execution_count": 2,
   "id": "fce79897-f79a-4821-87c6-8facdc61593d",
   "metadata": {},
   "outputs": [
    {
     "name": "stdout",
     "output_type": "stream",
     "text": [
      "X is greater then 5\n"
     ]
    }
   ],
   "source": [
    "#if-else \n",
    "x=10\n",
    "if x>5:\n",
    "    print(\"X is greater then 5\")\n",
    "else:\n",
    "    print(\"X is less than 5\")"
   ]
  },
  {
   "cell_type": "code",
   "execution_count": 11,
   "id": "0e370b1c-42dd-4ff2-8867-f1cd9f40684c",
   "metadata": {},
   "outputs": [
    {
     "name": "stdin",
     "output_type": "stream",
     "text": [
      "Enter a Number: 55.4\n"
     ]
    },
    {
     "name": "stdout",
     "output_type": "stream",
     "text": [
      "Number Is Positive!\n"
     ]
    }
   ],
   "source": [
    "#if-elif-else\n",
    "a=float(input(\"Enter a Number:\"))\n",
    "if a<0:\n",
    "    print(\"Number Is Negetive!\")\n",
    "elif a>0:\n",
    "    print(\"Number Is Positive!\")\n",
    "else:\n",
    "    print(\"Zero!\")"
   ]
  },
  {
   "cell_type": "code",
   "execution_count": 17,
   "id": "c36d511f-d4b8-48ae-8de1-3845071273de",
   "metadata": {},
   "outputs": [
    {
     "name": "stdin",
     "output_type": "stream",
     "text": [
      "Enter a Number: 101\n"
     ]
    },
    {
     "name": "stdout",
     "output_type": "stream",
     "text": [
      "Number Is Positive!\n",
      "The Number is greater than 100\n"
     ]
    }
   ],
   "source": [
    "#nested if statements\n",
    "\n",
    "num=int(input(\"Enter a Number:\"))\n",
    "if num<0:\n",
    "    print(\"Number Is Negetive!\")\n",
    "elif num>0:\n",
    "    print(\"Number Is Positive!\")\n",
    "    if(num>=1 and num<=50):\n",
    "        print(\"The Number is between 1-50\")\n",
    "    elif(num>=51 and num<=100):\n",
    "        print(\"The Number is between 51-100\")\n",
    "    else:\n",
    "        print(\"The Number is greater than 100\")\n",
    "else:\n",
    "    print(\"Zero!\")\n",
    "    "
   ]
  },
  {
   "cell_type": "markdown",
   "id": "5f9f29af-5d3d-4845-b19f-36118042b967",
   "metadata": {},
   "source": [
    "Exercise"
   ]
  },
  {
   "cell_type": "code",
   "execution_count": 25,
   "id": "66605c73-1100-4e44-9c59-f9e68ee5e0f6",
   "metadata": {},
   "outputs": [
    {
     "name": "stdout",
     "output_type": "stream",
     "text": [
      "Current time 24hr: 20:26:24 PM\n",
      "Current time 12hr: 08:26:24 PM\n"
     ]
    }
   ],
   "source": [
    "import time \n",
    "ts=time.strftime(\"%H:%M:%S %p\")\n",
    "print(\"Current time 24hr:\",ts)\n",
    "\n",
    "ts=time.strftime(\"%I:%M:%S %p\")\n",
    "print(\"Current time 12hr:\",ts)\n"
   ]
  },
  {
   "cell_type": "code",
   "execution_count": 29,
   "id": "cf37e9b7-f27d-4547-a831-4fa7d08b0d3d",
   "metadata": {},
   "outputs": [
    {
     "name": "stdin",
     "output_type": "stream",
     "text": [
      "Enter Your name: vaibhav\n"
     ]
    },
    {
     "name": "stdout",
     "output_type": "stream",
     "text": [
      "Current Time: 08:30:42 PM\n",
      "Good Evening vaibhav\n"
     ]
    }
   ],
   "source": [
    "name=input(\"Enter Your name:\")\n",
    "ts=time.strftime(\"%I:%M:%S %p\")\n",
    "hr=int(time.strftime(\"%H\"))\n",
    "\n",
    "if(hr>=5 and hr<12):\n",
    "    greet=\"Good Morning \"+name\n",
    "elif(hr>=12 and hr<17):\n",
    "    greet=\"Good Afternoon \"+name\n",
    "elif(hr>=17 and hr<20):\n",
    "    greet=\"Good Evening \"+name\n",
    "else:\n",
    "    greet=\"Good Evening \"+name\n",
    "\n",
    "print(\"Current Time:\",ts)\n",
    "print(greet)"
   ]
  },
  {
   "cell_type": "code",
   "execution_count": null,
   "id": "813207c8-97f1-44b2-b699-af3dabb29daa",
   "metadata": {},
   "outputs": [],
   "source": []
  }
 ],
 "metadata": {
  "kernelspec": {
   "display_name": "Python 3 (ipykernel)",
   "language": "python",
   "name": "python3"
  },
  "language_info": {
   "codemirror_mode": {
    "name": "ipython",
    "version": 3
   },
   "file_extension": ".py",
   "mimetype": "text/x-python",
   "name": "python",
   "nbconvert_exporter": "python",
   "pygments_lexer": "ipython3",
   "version": "3.12.0"
  },
  "widgets": {
   "application/vnd.jupyter.widget-state+json": {
    "state": {},
    "version_major": 2,
    "version_minor": 0
   }
  }
 },
 "nbformat": 4,
 "nbformat_minor": 5
}
