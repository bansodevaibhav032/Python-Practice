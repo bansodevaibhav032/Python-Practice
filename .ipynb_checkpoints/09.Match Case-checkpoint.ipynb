{
 "cells": [
  {
   "cell_type": "markdown",
   "id": "b494348c-e5b3-4169-9c53-80bb75228eb5",
   "metadata": {},
   "source": [
    "Match\n"
   ]
  },
  {
   "cell_type": "code",
   "execution_count": 1,
   "id": "9eac7210-d7f7-4ef2-ae00-826fc657b29e",
   "metadata": {},
   "outputs": [
    {
     "name": "stdin",
     "output_type": "stream",
     "text": [
      "Enter the value of x:  4\n"
     ]
    },
    {
     "name": "stdout",
     "output_type": "stream",
     "text": [
      "case is 4\n"
     ]
    }
   ],
   "source": [
    "#simple switch case\n",
    "\n",
    "x = int(input(\"Enter the value of x: \"))\n",
    "match x:\n",
    "    case 0:\n",
    "        print(\"x is zero\")\n",
    "        \n",
    "    case 4:\n",
    "        print(\"case is 4\")\n",
    "\n",
    "    case 10:\n",
    "        print(\"Case is 10 \")\n",
    "    case _:\n",
    "        print(x)"
   ]
  },
  {
   "cell_type": "code",
   "execution_count": 2,
   "id": "ab2327b6-7e12-4541-8193-f85b09a9ea87",
   "metadata": {},
   "outputs": [
    {
     "name": "stdin",
     "output_type": "stream",
     "text": [
      "Please enter your fev. Color:  green\n"
     ]
    },
    {
     "name": "stdout",
     "output_type": "stream",
     "text": [
      "You got Green Brololi!\n"
     ]
    }
   ],
   "source": [
    "#If-Elif-Else Ladder switch case \n",
    "\n",
    "def switch(case):\n",
    "    \n",
    "  if case == \"red\":\n",
    "      print (\"Nice choice.....You Got red Apple!\")\n",
    " \n",
    "  elif case ==\"yellow\":\n",
    "      print (\"Nice choice.....You Got Yellow Banana!\")\n",
    " \n",
    "  elif case == \"black\":\n",
    "      print (\"Yeah, Black!.\")\n",
    " \n",
    "  elif case == \"green\":\n",
    "      print (\"You got Green Brololi!\")\n",
    " \n",
    "  else:\n",
    "      print (\"Is that even a thing?\")\n",
    "    \n",
    "fevcol = str.lower(input(\"Please enter your fev. Color: \"))\n",
    " \n",
    "switch(fevcol)"
   ]
  },
  {
   "cell_type": "code",
   "execution_count": 13,
   "id": "20dd46dc-a223-4db6-a2fd-2f55cbb1d94f",
   "metadata": {},
   "outputs": [
    {
     "name": "stdin",
     "output_type": "stream",
     "text": [
      "Enter a Name in Swamiraj Villa House:  XYZ\n"
     ]
    },
    {
     "name": "stdout",
     "output_type": "stream",
     "text": [
      "Ye Banda Room Mai Nahi Rehta!!\n"
     ]
    }
   ],
   "source": [
    "a = str.lower(input(\"Enter a Name in Swamiraj Villa House: \"))\n",
    "match a:\n",
    "    case 'atharva':\n",
    "        print(\"Hii Fondya!!\")\n",
    "    case 'girish':\n",
    "        print(\"Hii GG\")\n",
    "    case 'yogesh':\n",
    "        print(\"Hii Bind\")\n",
    "    case 'sahil':\n",
    "        print(\"Hii ST\")\n",
    "    case 'niraj':\n",
    "        print(\"Hii Panthar\")\n",
    "    case 'vaibhav':\n",
    "        print(\"Hii Vaibhav\")\n",
    "    case 'vijay':\n",
    "        print(\"Hii VYBF\")\n",
    "    case 'aanat':\n",
    "        print(\"Hii kashet\")\n",
    "    case _:\n",
    "        print(\"Ye Banda Room Mai Nahi Rehta!!\")\n"
   ]
  },
  {
   "cell_type": "code",
   "execution_count": null,
   "id": "f4a268e7-ee4f-41ba-b8a1-563bcad4c6fd",
   "metadata": {},
   "outputs": [],
   "source": []
  }
 ],
 "metadata": {
  "kernelspec": {
   "display_name": "Python 3 (ipykernel)",
   "language": "python",
   "name": "python3"
  },
  "language_info": {
   "codemirror_mode": {
    "name": "ipython",
    "version": 3
   },
   "file_extension": ".py",
   "mimetype": "text/x-python",
   "name": "python",
   "nbconvert_exporter": "python",
   "pygments_lexer": "ipython3",
   "version": "3.12.0"
  },
  "widgets": {
   "application/vnd.jupyter.widget-state+json": {
    "state": {},
    "version_major": 2,
    "version_minor": 0
   }
  }
 },
 "nbformat": 4,
 "nbformat_minor": 5
}
