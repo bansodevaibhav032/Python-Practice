{
 "cells": [
  {
   "cell_type": "markdown",
   "id": "d444bce5-8960-498e-81d7-233c808764cf",
   "metadata": {},
   "source": [
    "Local vs Global"
   ]
  },
  {
   "cell_type": "markdown",
   "id": "55c9741d-13cb-48fa-b93b-4498ea2e0c53",
   "metadata": {},
   "source": [
    "Before we dive into the differences between local and global variables, let's first recall what a variable is in Python.\n",
    "\n",
    "A variable is a named location in memory that stores a value. In Python, we can assign values to variables using the assignment operator =. For example:"
   ]
  },
  {
   "cell_type": "code",
   "execution_count": null,
   "id": "a9888aa3-0136-4cbd-9151-75e1fe402bdb",
   "metadata": {},
   "outputs": [],
   "source": [
    "x = 5\n",
    "y = \"Hello, World!\""
   ]
  },
  {
   "cell_type": "code",
   "execution_count": 2,
   "id": "52b97a48-d4a5-4dcf-9245-cf3976aa0e2f",
   "metadata": {},
   "outputs": [
    {
     "name": "stdout",
     "output_type": "stream",
     "text": [
      "5\n",
      "10\n"
     ]
    },
    {
     "ename": "NameError",
     "evalue": "name 'y' is not defined",
     "output_type": "error",
     "traceback": [
      "\u001b[1;31m---------------------------------------------------------------------------\u001b[0m",
      "\u001b[1;31mNameError\u001b[0m                                 Traceback (most recent call last)",
      "Cell \u001b[1;32mIn[2], line 9\u001b[0m\n\u001b[0;32m      7\u001b[0m my_function()\n\u001b[0;32m      8\u001b[0m \u001b[38;5;28mprint\u001b[39m(x)\n\u001b[1;32m----> 9\u001b[0m \u001b[38;5;28mprint\u001b[39m(\u001b[43my\u001b[49m) \u001b[38;5;66;03m# this will cause an error because y is a local variable and is not accessible outside of the function\u001b[39;00m\n",
      "\u001b[1;31mNameError\u001b[0m: name 'y' is not defined"
     ]
    }
   ],
   "source": [
    "x = 10 # global variable\n",
    "\n",
    "def my_function():\n",
    "  y = 5 # local variable\n",
    "  print(y)\n",
    "\n",
    "my_function()\n",
    "print(x)\n",
    "print(y) # this will cause an error because y is a local variable and is not accessible outside of the function"
   ]
  },
  {
   "cell_type": "markdown",
   "id": "7f1054c9-c5c5-459e-93cf-b806a8b355bb",
   "metadata": {},
   "source": [
    "The Global keyword"
   ]
  },
  {
   "cell_type": "markdown",
   "id": "f9c00d08-fe03-4aae-ac1e-a987931ce8d4",
   "metadata": {},
   "source": [
    "Now, what if we want to modify a global variable from within a function? This is where the global keyword comes in.\n",
    "\n",
    "The global keyword is used to declare that a variable is a global variable and should be accessed from the global scope. Here's an example:"
   ]
  },
  {
   "cell_type": "code",
   "execution_count": 6,
   "id": "286c87a0-0502-41ee-ba15-422f77fbff95",
   "metadata": {},
   "outputs": [
    {
     "name": "stdout",
     "output_type": "stream",
     "text": [
      "5\n",
      "5\n"
     ]
    }
   ],
   "source": [
    "x = 10 # global variable\n",
    "\n",
    "def my_function():\n",
    "  global x,y\n",
    "  x = 5 # this will change the value of the global variable x\n",
    "  y = 5 # this will change the value of the global variable y\n",
    "\n",
    "my_function()\n",
    "print(x) # prints 5\n",
    "print(y) # prints 5"
   ]
  },
  {
   "cell_type": "code",
   "execution_count": null,
   "id": "b00416cc-d51d-466f-a7ae-7eee9ccdbfdb",
   "metadata": {},
   "outputs": [],
   "source": []
  }
 ],
 "metadata": {
  "kernelspec": {
   "display_name": "Python 3 (ipykernel)",
   "language": "python",
   "name": "python3"
  },
  "language_info": {
   "codemirror_mode": {
    "name": "ipython",
    "version": 3
   },
   "file_extension": ".py",
   "mimetype": "text/x-python",
   "name": "python",
   "nbconvert_exporter": "python",
   "pygments_lexer": "ipython3",
   "version": "3.12.0"
  },
  "widgets": {
   "application/vnd.jupyter.widget-state+json": {
    "state": {},
    "version_major": 2,
    "version_minor": 0
   }
  }
 },
 "nbformat": 4,
 "nbformat_minor": 5
}
