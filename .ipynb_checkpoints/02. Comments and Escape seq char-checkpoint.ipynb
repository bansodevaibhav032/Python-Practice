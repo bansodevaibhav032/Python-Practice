{
 "cells": [
  {
   "cell_type": "markdown",
   "id": "424380a8-1386-44da-b8c9-2a2f957ea015",
   "metadata": {},
   "source": [
    "Comments"
   ]
  },
  {
   "cell_type": "code",
   "execution_count": 4,
   "id": "4cd2419d-01dd-471c-a735-9962dd359558",
   "metadata": {},
   "outputs": [
    {
     "name": "stdout",
     "output_type": "stream",
     "text": [
      "Hello World !!!\n"
     ]
    }
   ],
   "source": [
    "print(\"Hello World !!!\") #Printing Hello World"
   ]
  },
  {
   "cell_type": "code",
   "execution_count": 5,
   "id": "3f3cb612-ff24-44c3-9c5a-dbf10daf7db2",
   "metadata": {},
   "outputs": [
    {
     "name": "stdout",
     "output_type": "stream",
     "text": [
      "p is greater than 5.\n"
     ]
    }
   ],
   "source": [
    "\"\"\"This is an if-else statement.\n",
    "It will execute a block of code if a specified condition is true.\n",
    "If the condition is false then it will execute another block of code.\"\"\"\n",
    "p = 7\n",
    "if (p > 5):\n",
    "    print(\"p is greater than 5.\")\n",
    "else:\n",
    "    print(\"p is not greater than 5.\")"
   ]
  },
  {
   "cell_type": "markdown",
   "id": "59a2da4e-880f-4ac9-8782-d7faf071473a",
   "metadata": {},
   "source": [
    "Escape Sequence Characters"
   ]
  },
  {
   "cell_type": "code",
   "execution_count": 10,
   "id": "1b209002-5a3c-46fa-bb81-78d148429480",
   "metadata": {},
   "outputs": [
    {
     "name": "stdout",
     "output_type": "stream",
     "text": [
      "This will \" execute\" how are you\n"
     ]
    }
   ],
   "source": [
    "#print(\"This doesnt \"execute\")\n",
    "print(\"This will \\\"execute\\\" how are\\' you\")"
   ]
  },
  {
   "cell_type": "code",
   "execution_count": null,
   "id": "be8feb1c-b246-4fde-8a36-993a8dd5b176",
   "metadata": {},
   "outputs": [],
   "source": []
  },
  {
   "cell_type": "code",
   "execution_count": null,
   "id": "53c363e7-a368-4ff4-8348-3eb70218104b",
   "metadata": {},
   "outputs": [],
   "source": []
  }
 ],
 "metadata": {
  "kernelspec": {
   "display_name": "Python 3 (ipykernel)",
   "language": "python",
   "name": "python3"
  },
  "language_info": {
   "codemirror_mode": {
    "name": "ipython",
    "version": 3
   },
   "file_extension": ".py",
   "mimetype": "text/x-python",
   "name": "python",
   "nbconvert_exporter": "python",
   "pygments_lexer": "ipython3",
   "version": "3.11.5"
  }
 },
 "nbformat": 4,
 "nbformat_minor": 5
}
