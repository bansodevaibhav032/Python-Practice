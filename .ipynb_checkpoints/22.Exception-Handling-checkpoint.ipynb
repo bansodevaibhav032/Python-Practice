{
 "cells": [
  {
   "cell_type": "markdown",
   "id": "2eb15f26-401c-4c15-bc3d-ee90ddde669a",
   "metadata": {},
   "source": [
    "Exception Handlings\n",
    "- An exception is an error that occurs during the execution of code.\n",
    "- This error causes the code to raise an exception and if not prepared to handle it will halt the execution of the code.\n",
    "- The try, except, else, and finally blocks are used for exception handling\n"
   ]
  },
  {
   "cell_type": "code",
   "execution_count": 6,
   "id": "7a8700ca-9272-4d5a-a83e-01c65b5d8c9c",
   "metadata": {},
   "outputs": [
    {
     "ename": "ZeroDivisionError",
     "evalue": "division by zero",
     "output_type": "error",
     "traceback": [
      "\u001b[1;31m---------------------------------------------------------------------------\u001b[0m",
      "\u001b[1;31mZeroDivisionError\u001b[0m                         Traceback (most recent call last)",
      "Cell \u001b[1;32mIn[6], line 1\u001b[0m\n\u001b[1;32m----> 1\u001b[0m \u001b[38;5;241;43m10\u001b[39;49m\u001b[38;5;241;43m/\u001b[39;49m\u001b[38;5;241;43m0\u001b[39;49m\n",
      "\u001b[1;31mZeroDivisionError\u001b[0m: division by zero"
     ]
    }
   ],
   "source": [
    "10/0"
   ]
  },
  {
   "cell_type": "code",
   "execution_count": 7,
   "id": "6b6971b6-d40e-4a8f-88a5-2321666727b6",
   "metadata": {},
   "outputs": [
    {
     "ename": "NameError",
     "evalue": "name 'a' is not defined",
     "output_type": "error",
     "traceback": [
      "\u001b[1;31m---------------------------------------------------------------------------\u001b[0m",
      "\u001b[1;31mNameError\u001b[0m                                 Traceback (most recent call last)",
      "Cell \u001b[1;32mIn[7], line 1\u001b[0m\n\u001b[1;32m----> 1\u001b[0m y\u001b[38;5;241m=\u001b[39m\u001b[43ma\u001b[49m\u001b[38;5;241m+\u001b[39m\u001b[38;5;241m5\u001b[39m\n",
      "\u001b[1;31mNameError\u001b[0m: name 'a' is not defined"
     ]
    }
   ],
   "source": [
    "y=a+5"
   ]
  },
  {
   "cell_type": "code",
   "execution_count": 8,
   "id": "0fbdb3a1-8293-4b6b-9f40-e44d88de4548",
   "metadata": {},
   "outputs": [
    {
     "ename": "IndexError",
     "evalue": "list index out of range",
     "output_type": "error",
     "traceback": [
      "\u001b[1;31m---------------------------------------------------------------------------\u001b[0m",
      "\u001b[1;31mIndexError\u001b[0m                                Traceback (most recent call last)",
      "Cell \u001b[1;32mIn[8], line 2\u001b[0m\n\u001b[0;32m      1\u001b[0m b\u001b[38;5;241m=\u001b[39m[\u001b[38;5;241m1\u001b[39m,\u001b[38;5;241m2\u001b[39m,\u001b[38;5;241m3\u001b[39m]\n\u001b[1;32m----> 2\u001b[0m \u001b[43mb\u001b[49m\u001b[43m[\u001b[49m\u001b[38;5;241;43m4\u001b[39;49m\u001b[43m]\u001b[49m\n",
      "\u001b[1;31mIndexError\u001b[0m: list index out of range"
     ]
    }
   ],
   "source": [
    "b=[1,2,3]\n",
    "b[4]"
   ]
  },
  {
   "cell_type": "code",
   "execution_count": null,
   "id": "a0b8f5f2-d17c-46fa-a838-856d3a60e25d",
   "metadata": {},
   "outputs": [],
   "source": [
    "# potential code before try catch\n",
    "\n",
    "try:\n",
    "    # code to try to execute\n",
    "except:\n",
    "    # code to execute if there is an exception\n",
    "    \n",
    "# code that will still execute if there is an exception"
   ]
  },
  {
   "cell_type": "code",
   "execution_count": 11,
   "id": "82a7711b-f278-4fb3-8968-138ba79cd778",
   "metadata": {},
   "outputs": [
    {
     "name": "stdin",
     "output_type": "stream",
     "text": [
      "Please enter a number to divide a 1\n"
     ]
    },
    {
     "name": "stdout",
     "output_type": "stream",
     "text": [
      "Success a= 1.0\n"
     ]
    }
   ],
   "source": [
    "a = 1\n",
    "\n",
    "try:\n",
    "    b = int(input(\"Please enter a number to divide a\"))\n",
    "    a = a/b\n",
    "    print(\"Success a=\",a)\n",
    "except:\n",
    "    print(\"There was an error\")"
   ]
  },
  {
   "cell_type": "code",
   "execution_count": 12,
   "id": "eafbd071-21a8-442a-82a1-d5bcc85c112a",
   "metadata": {},
   "outputs": [
    {
     "name": "stdout",
     "output_type": "stream",
     "text": [
      "Can not Divide by zero\n"
     ]
    }
   ],
   "source": [
    "try:\n",
    "    ab=10/0\n",
    "except ZeroDivisionError:\n",
    "    print('Can not Divide by zero')"
   ]
  },
  {
   "cell_type": "code",
   "execution_count": 14,
   "id": "49c2751d-27f5-4170-ad39-bd598443ed11",
   "metadata": {},
   "outputs": [
    {
     "name": "stdin",
     "output_type": "stream",
     "text": [
      "Please enter a number to divide a 0\n"
     ]
    },
    {
     "name": "stdout",
     "output_type": "stream",
     "text": [
      "The number you provided cant divide 1 because it is 0\n"
     ]
    }
   ],
   "source": [
    "a = 1\n",
    "\n",
    "try:\n",
    "    b = int(input(\"Please enter a number to divide a\"))\n",
    "    a = a/b\n",
    "    print(\"Success a=\",a)\n",
    "except ZeroDivisionError:\n",
    "    print(\"The number you provided cant divide 1 because it is 0\")\n",
    "except ValueError:\n",
    "    print(\"You did not provide a number\")\n",
    "except:\n",
    "    print(\"Something went wrong\")"
   ]
  },
  {
   "cell_type": "code",
   "execution_count": 16,
   "id": "25cdbae4-c37c-4718-b83d-1ff921515ceb",
   "metadata": {},
   "outputs": [
    {
     "name": "stdin",
     "output_type": "stream",
     "text": [
      "Please enter a number to divide a 5\n"
     ]
    },
    {
     "name": "stdout",
     "output_type": "stream",
     "text": [
      "success a= 0.2\n",
      "Processing Complete\n"
     ]
    }
   ],
   "source": [
    "a = 1\n",
    "\n",
    "try:\n",
    "    b = int(input(\"Please enter a number to divide a\"))\n",
    "    a = a/b\n",
    "except ZeroDivisionError:\n",
    "    print(\"The number you provided cant divide 1 because it is 0\")\n",
    "except ValueError:\n",
    "    print(\"You did not provide a number\")\n",
    "except:\n",
    "    print(\"Something went wrong\")\n",
    "else:\n",
    "    print(\"success a=\",a)\n",
    "finally:\n",
    "    print(\"Processing Complete\")"
   ]
  },
  {
   "cell_type": "code",
   "execution_count": 20,
   "id": "90717543-f4fc-4ebf-a427-4baee2076413",
   "metadata": {},
   "outputs": [
    {
     "name": "stdin",
     "output_type": "stream",
     "text": [
      "Enter the numerator value:- 10\n",
      "Enter the denominator value:- 0\n"
     ]
    },
    {
     "name": "stdout",
     "output_type": "stream",
     "text": [
      "Error: Cannot divide by zero.\n",
      "None\n"
     ]
    }
   ],
   "source": [
    "#  Handling ZeroDivisionError with function \n",
    "\n",
    "def xy(a,b):\n",
    "    try:\n",
    "        result = a / b\n",
    "        print(result)\n",
    "    except ZeroDivisionError:\n",
    "        print(\"Error: Cannot divide by zero.\")\n",
    "        \n",
    "a=int(input(\"Enter the numerator value:-\"))\n",
    "b=int(input(\"Enter the denominator value:-\"))\n",
    "print(xy(a,b))"
   ]
  },
  {
   "cell_type": "code",
   "execution_count": 30,
   "id": "e4584c18-a296-4dfb-8322-da62d1c61448",
   "metadata": {},
   "outputs": [
    {
     "name": "stdin",
     "output_type": "stream",
     "text": [
      "Enter the first number:- 11\n",
      "Enter the second number:- 80\n"
     ]
    },
    {
     "name": "stdout",
     "output_type": "stream",
     "text": [
      "Result: 880.0\n"
     ]
    }
   ],
   "source": [
    "#Handling ValueError with function \n",
    "\n",
    "def ab(n1, n2):\n",
    "    try:\n",
    "        result = n1 * n2\n",
    "        print(f\"Result: {result}\")\n",
    "    except ValueError:\n",
    "        print(\"Error: Invalid input! Please enter an integer.\")\n",
    "        \n",
    "n1=float(input(\"Enter the first number:-\"))\n",
    "n2=float(input(\"Enter the second number:-\"))\n",
    "ab(n1,n2)"
   ]
  },
  {
   "cell_type": "code",
   "execution_count": 35,
   "id": "388b01a7-d1a3-4007-853d-0e1dee0e5387",
   "metadata": {},
   "outputs": [
    {
     "name": "stdin",
     "output_type": "stream",
     "text": [
      "Enter a number:  5\n"
     ]
    },
    {
     "name": "stdout",
     "output_type": "stream",
     "text": [
      "An error occurred during calculation.\n"
     ]
    }
   ],
   "source": [
    "# Handling Generic Exceptions\n",
    "def abc(num):\n",
    "    try:\n",
    "        result = num / (num - 5)\n",
    "        print (f\"Result: {result}\")\n",
    "    except Exception as e:\n",
    "        print(\"An error occurred during calculation.\")\n",
    "        \n",
    "en = float(input(\"Enter a number: \"))\n",
    "abc(en)"
   ]
  },
  {
   "cell_type": "markdown",
   "id": "fd1f6d82-d6ce-4e9a-a676-795f9cdff5de",
   "metadata": {},
   "source": [
    "Finally Clause\n",
    "- always runs..if try retrun or not\n",
    "- in simple print if try return somethin in a function then print does not print "
   ]
  },
  {
   "cell_type": "code",
   "execution_count": 42,
   "id": "ef413f99-a32d-4cd1-9a57-5538efe81418",
   "metadata": {},
   "outputs": [
    {
     "name": "stdin",
     "output_type": "stream",
     "text": [
      "Enter index: 5\n"
     ]
    },
    {
     "name": "stdout",
     "output_type": "stream",
     "text": [
      "Some Error Occurred!\n",
      "I am also always runs!\n"
     ]
    }
   ],
   "source": [
    "try:\n",
    "    a=[1,2,4,7,3]\n",
    "    i=int(input(\"Enter index:\"))\n",
    "    print(a[i])\n",
    "except:\n",
    "    print(\"Some Error Occurred!\")\n",
    "# finally:\n",
    "#     print(\"Always runs\")\n",
    "print(\"I am also always runs!\")\n"
   ]
  },
  {
   "cell_type": "code",
   "execution_count": 43,
   "id": "365042a0-2f35-4b46-a79c-9aa94dcac381",
   "metadata": {
    "scrolled": true
   },
   "outputs": [
    {
     "name": "stdin",
     "output_type": "stream",
     "text": [
      "Enter index: 5\n"
     ]
    },
    {
     "name": "stdout",
     "output_type": "stream",
     "text": [
      "Some Error Occurred!\n",
      "Always runs\n",
      "0\n"
     ]
    }
   ],
   "source": [
    "def fun():\n",
    "    try:\n",
    "        a=[1,2,4,7,3]\n",
    "        i=int(input(\"Enter index:\"))\n",
    "        print(a[i])\n",
    "        return 1\n",
    "    except:\n",
    "        print(\"Some Error Occurred!\")\n",
    "        return 0\n",
    "    finally:\n",
    "        print(\"Always runs\")\n",
    "    #print(\"I am also always runs!\")\n",
    "x=fun()\n",
    "print(x)"
   ]
  },
  {
   "cell_type": "code",
   "execution_count": 47,
   "id": "b5ed0bdf-75bb-474d-acfd-058d830f6a1c",
   "metadata": {},
   "outputs": [
    {
     "name": "stdin",
     "output_type": "stream",
     "text": [
      "Enter a number between 5-10 :- 77\n"
     ]
    },
    {
     "ename": "ValueError",
     "evalue": "Value Should be between 5-10",
     "output_type": "error",
     "traceback": [
      "\u001b[1;31m---------------------------------------------------------------------------\u001b[0m",
      "\u001b[1;31mValueError\u001b[0m                                Traceback (most recent call last)",
      "Cell \u001b[1;32mIn[47], line 6\u001b[0m\n\u001b[0;32m      3\u001b[0m z\u001b[38;5;241m=\u001b[39m\u001b[38;5;28mint\u001b[39m(\u001b[38;5;28minput\u001b[39m(\u001b[38;5;124m\"\u001b[39m\u001b[38;5;124mEnter a number between 5-10 :-\u001b[39m\u001b[38;5;124m\"\u001b[39m))\n\u001b[0;32m      5\u001b[0m \u001b[38;5;28;01mif\u001b[39;00m(z\u001b[38;5;241m<\u001b[39m\u001b[38;5;241m5\u001b[39m \u001b[38;5;129;01mor\u001b[39;00m z\u001b[38;5;241m>\u001b[39m\u001b[38;5;241m10\u001b[39m):\n\u001b[1;32m----> 6\u001b[0m     \u001b[38;5;28;01mraise\u001b[39;00m \u001b[38;5;167;01mValueError\u001b[39;00m(\u001b[38;5;124m\"\u001b[39m\u001b[38;5;124mValue Should be between 5-10\u001b[39m\u001b[38;5;124m\"\u001b[39m)\n",
      "\u001b[1;31mValueError\u001b[0m: Value Should be between 5-10"
     ]
    }
   ],
   "source": [
    "#Custom Error \n",
    "\n",
    "z=int(input(\"Enter a number between 5-10 :-\"))\n",
    "\n",
    "if(z<5 or z>10):\n",
    "    raise ValueError(\"Value Should be between 5-10\")"
   ]
  },
  {
   "cell_type": "code",
   "execution_count": 60,
   "id": "acae2782-7789-4bd9-a4f3-1ef611d73656",
   "metadata": {},
   "outputs": [
    {
     "name": "stdin",
     "output_type": "stream",
     "text": [
      "Enter a number between 5-10 (or type 'quit' to exit):  QUIT\n"
     ]
    },
    {
     "name": "stdout",
     "output_type": "stream",
     "text": [
      "Program Quit\n"
     ]
    }
   ],
   "source": [
    "def ran():\n",
    "    try:\n",
    "        z = input(\"Enter a number between 5-10 (or type 'quit' to exit): \")        \n",
    "        if z.lower() == 'quit':\n",
    "            print(\"Program Quit\")\n",
    "        else:\n",
    "            z = int(z)  \n",
    "            if z < 5 or z > 10:\n",
    "                raise ValueError(\"Value should be between 5 and 10\")\n",
    "            else:\n",
    "                print(f\"Entered number: {z}\")\n",
    "\n",
    "    except ValueError as e:\n",
    "        print(f\"Error: {e}\")\n",
    "\n",
    "ran()\n"
   ]
  }
 ],
 "metadata": {
  "kernelspec": {
   "display_name": "Python 3 (ipykernel)",
   "language": "python",
   "name": "python3"
  },
  "language_info": {
   "codemirror_mode": {
    "name": "ipython",
    "version": 3
   },
   "file_extension": ".py",
   "mimetype": "text/x-python",
   "name": "python",
   "nbconvert_exporter": "python",
   "pygments_lexer": "ipython3",
   "version": "3.12.0"
  },
  "widgets": {
   "application/vnd.jupyter.widget-state+json": {
    "state": {},
    "version_major": 2,
    "version_minor": 0
   }
  }
 },
 "nbformat": 4,
 "nbformat_minor": 5
}
