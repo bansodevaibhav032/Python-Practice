{
 "cells": [
  {
   "cell_type": "markdown",
   "id": "49f9d64d-b8e7-4d60-bf98-17833ec7ebff",
   "metadata": {},
   "source": [
    "F-String\n",
    "- it will use to use the variable inside the string.\n",
    "- it will used in python 3.6 above versions\n",
    "- when we prefix the string with the letter f the string become f-string itself\n",
    "\n"
   ]
  },
  {
   "cell_type": "code",
   "execution_count": 1,
   "id": "428cc906-90f8-43f2-965a-58b7bed6bc3e",
   "metadata": {},
   "outputs": [
    {
     "name": "stdout",
     "output_type": "stream",
     "text": [
      "My name is Vaibhav and age is 25\n"
     ]
    }
   ],
   "source": [
    "name='Vaibhav'\n",
    "age=25\n",
    "print(f\"My name is {name} and age is {age}\")"
   ]
  },
  {
   "cell_type": "code",
   "execution_count": 3,
   "id": "e7dad260-15a9-4ed9-bfa3-1fea42679166",
   "metadata": {},
   "outputs": [
    {
     "name": "stdout",
     "output_type": "stream",
     "text": [
      "The Sum of 10 and 20 is 30\n"
     ]
    }
   ],
   "source": [
    "x=10\n",
    "y=20\n",
    "print(f'The Sum of {x} and {y} is {x+y}')"
   ]
  },
  {
   "cell_type": "code",
   "execution_count": 4,
   "id": "72f95deb-380e-4547-8328-42106c39bcfb",
   "metadata": {},
   "outputs": [
    {
     "name": "stdout",
     "output_type": "stream",
     "text": [
      "Today is 2024-01-14.\n"
     ]
    }
   ],
   "source": [
    "from datetime import datetime\n",
    "today=datetime.today()\n",
    "print(f'Today is {today:%Y-%m-%d}.')"
   ]
  },
  {
   "cell_type": "code",
   "execution_count": 6,
   "id": "b96c74f2-dd61-4b3e-9e41-01a823737cf2",
   "metadata": {},
   "outputs": [
    {
     "name": "stdout",
     "output_type": "stream",
     "text": [
      "My name is Vaibhav.\n"
     ]
    }
   ],
   "source": [
    "def ab(name):\n",
    "    print(f'My name is {name}.')\n",
    "ab('Vaibhav')"
   ]
  },
  {
   "cell_type": "code",
   "execution_count": 8,
   "id": "104d4ec1-ee61-4b85-bbd6-73a8f0dad680",
   "metadata": {},
   "outputs": [
    {
     "name": "stdout",
     "output_type": "stream",
     "text": [
      "for only 23.10 rs!\n"
     ]
    }
   ],
   "source": [
    "ab=23.09999\n",
    "print(f'for only {ab:.2f} rs!')"
   ]
  },
  {
   "cell_type": "code",
   "execution_count": null,
   "id": "820be26f-b028-4be3-a721-eda780d8f5cf",
   "metadata": {},
   "outputs": [],
   "source": []
  }
 ],
 "metadata": {
  "kernelspec": {
   "display_name": "Python 3 (ipykernel)",
   "language": "python",
   "name": "python3"
  },
  "language_info": {
   "codemirror_mode": {
    "name": "ipython",
    "version": 3
   },
   "file_extension": ".py",
   "mimetype": "text/x-python",
   "name": "python",
   "nbconvert_exporter": "python",
   "pygments_lexer": "ipython3",
   "version": "3.12.0"
  }
 },
 "nbformat": 4,
 "nbformat_minor": 5
}
