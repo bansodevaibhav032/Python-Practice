{
 "cells": [
  {
   "cell_type": "markdown",
   "id": "a4147385-c3b2-46e4-a618-7a538f3f005c",
   "metadata": {},
   "source": [
    "if __name__ == \"__main__\""
   ]
  },
  {
   "cell_type": "markdown",
   "id": "ec88af88-c7b8-4d3b-b0fe-b260e30277b5",
   "metadata": {},
   "source": [
    "if \"__name__ == \"__main__\" in Python\n",
    "The if __name__ == \"__main__\" idiom is a common pattern used in Python scripts to determine whether the script is being run directly or being imported as a module into another script.\n",
    "\n",
    "In Python, the __name__ variable is a built-in variable that is automatically set to the name of the current module. When a Python script is run directly, the __name__ variable is set to the string __main__ When the script is imported as a module into another script, the __name__ variable is set to the name of the module.\n",
    "\n",
    "Here's an example of how the if __name__ == __main__ idiom can be used:"
   ]
  },
  {
   "cell_type": "code",
   "execution_count": null,
   "id": "50945084-bf45-4b1f-a46e-a13db9cbcae3",
   "metadata": {},
   "outputs": [],
   "source": [
    "def main():\n",
    "    # Code to be run when the script is run directly\n",
    "    print(\"Running script directly\")\n",
    "if __name__ == \"__main__\":\n",
    "    main()"
   ]
  },
  {
   "cell_type": "markdown",
   "id": "102d049f-1ad4-4384-8a20-8da73fbe40f3",
   "metadata": {},
   "source": [
    "In this example, the main function contains the code that should be run when the script is run directly. The if statement at the bottom checks whether the __name__ variable is equal to __main__. If it is, the main function is called."
   ]
  },
  {
   "cell_type": "code",
   "execution_count": null,
   "id": "9bd38893-9887-492a-b464-8c8b6c20b0b6",
   "metadata": {},
   "outputs": [],
   "source": []
  },
  {
   "cell_type": "markdown",
   "id": "cf3d77c8-3d28-4f8e-b910-6f80dfaaa164",
   "metadata": {},
   "source": [
    "Why is it useful?\n",
    "\n",
    "- This idiom is useful because it allows you to reuse code from a script by importing it as a module into another script, without running the code in the original script. For example, consider the following script:"
   ]
  },
  {
   "cell_type": "code",
   "execution_count": null,
   "id": "85e65a11-2b65-480d-9ae8-053742f9328b",
   "metadata": {},
   "outputs": [],
   "source": [
    "def main():\n",
    "    print(\"Running script directly\")\n",
    "\n",
    "if __name__ == \"__main__\":\n",
    "    main()"
   ]
  },
  {
   "cell_type": "markdown",
   "id": "207f5301-a296-4337-b2e0-c5afb7c906f7",
   "metadata": {},
   "source": [
    "If you run this script directly, it will output \"Running script directly\". However, if you import it as a module into another script and call the main function from the imported module, it will not output anything:"
   ]
  },
  {
   "cell_type": "code",
   "execution_count": null,
   "id": "d5d8bdbc-aceb-4b4a-aebd-875ec7641e7b",
   "metadata": {},
   "outputs": [],
   "source": [
    "import script\n",
    "\n",
    "script.main()  # Output: \"Running script directly\"\n"
   ]
  },
  {
   "cell_type": "markdown",
   "id": "707f62c9-1b63-403f-9b82-4cd868b5d478",
   "metadata": {},
   "source": [
    "This can be useful if you have code that you want to reuse in multiple scripts, but you only want it to run when the script is run directly and not when it's imported as a module."
   ]
  },
  {
   "cell_type": "code",
   "execution_count": null,
   "id": "f81508bf-fb0f-42bb-9259-7e2c2b5784a1",
   "metadata": {},
   "outputs": [],
   "source": []
  },
  {
   "cell_type": "markdown",
   "id": "d4b0d4ab-a09a-4253-bc41-ff5f936e8bc8",
   "metadata": {},
   "source": [
    "Is it a necessity?\n",
    "- It's important to note that the if __name__ == \"__main__\" idiom is not required to run a Python script. You can still run a script without it by simply calling the functions or running the code you want to execute directly. However, the if __name__ == \"__main__\" idiom can be a useful tool for organizing and separating code that should be run directly from code that should be imported and used as a module.\n",
    "\n",
    "- In summary, the if __name__ == \"__main__\" idiom is a common pattern used in Python scripts to determine whether the script is being run directly or being imported as a module into another script. It allows you to reuse code from a script by importing it as a module into another script, without running the code in the original script."
   ]
  },
  {
   "cell_type": "code",
   "execution_count": null,
   "id": "200dcfd8-8481-4af5-afa8-f3c3a5101d67",
   "metadata": {},
   "outputs": [],
   "source": []
  }
 ],
 "metadata": {
  "kernelspec": {
   "display_name": "Python 3 (ipykernel)",
   "language": "python",
   "name": "python3"
  },
  "language_info": {
   "codemirror_mode": {
    "name": "ipython",
    "version": 3
   },
   "file_extension": ".py",
   "mimetype": "text/x-python",
   "name": "python",
   "nbconvert_exporter": "python",
   "pygments_lexer": "ipython3",
   "version": "3.12.0"
  },
  "widgets": {
   "application/vnd.jupyter.widget-state+json": {
    "state": {},
    "version_major": 2,
    "version_minor": 0
   }
  }
 },
 "nbformat": 4,
 "nbformat_minor": 5
}
