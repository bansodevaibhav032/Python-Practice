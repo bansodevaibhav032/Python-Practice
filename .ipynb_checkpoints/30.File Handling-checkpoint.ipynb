{
 "cells": [
  {
   "cell_type": "markdown",
   "id": "79a60a5d-ec02-4d65-8173-b7e04ad6993c",
   "metadata": {},
   "source": [
    "File Handling\n",
    "- File handling in Python is a crucial aspect that allows you to work with files on your computer. Python provides several built-in functions and modules for file handling operations."
   ]
  },
  {
   "cell_type": "markdown",
   "id": "3648c4e9-ce11-457d-9633-b7b00bac98aa",
   "metadata": {},
   "source": [
    "Opening a File \n"
   ]
  },
  {
   "cell_type": "markdown",
   "id": "b769ac6d-62d0-4bee-9c72-674fc82078d0",
   "metadata": {},
   "source": [
    "Python provides the open() function to open a file. It takes two arguments: the name of the file and the mode in which the file should be opened. The mode can be 'r' for reading, 'w' for writing, or 'a' for appending."
   ]
  },
  {
   "cell_type": "code",
   "execution_count": 11,
   "id": "aaf3a3fc-2af7-41f2-a7d9-8ccece26478b",
   "metadata": {},
   "outputs": [],
   "source": [
    "f = open('abc.txt', 'r')\n",
    "f.close()"
   ]
  },
  {
   "cell_type": "markdown",
   "id": "cea4baf6-253d-4b3b-bd05-7cc8794191d0",
   "metadata": {},
   "source": [
    "Modes in file"
   ]
  },
  {
   "cell_type": "markdown",
   "id": "3105844a-9035-4c57-9447-4b7da5299d38",
   "metadata": {},
   "source": [
    "There are various modes in which we can open files.\n",
    "\n",
    "read (r): This mode opens the file for reading only and gives an error if the file does not exist. This is the default mode if no mode is passed as a parameter.\n",
    "\n",
    "write (w): This mode opens the file for writing only and creates a new file if the file does not exist.\n",
    "\n",
    "append (a): This mode opens the file for appending only and creates a new file if the file does not exist.\n",
    "\n",
    "create (x): This mode creates a file and gives an error if the file already exists.\n",
    "\n",
    "text (t): Apart from these modes we also need to specify how the file must be handled. t mode is used to handle text files. t refers to the text mode. There is no difference between r and rt or w and wt since text mode is the default. The default mode is 'r' (open for reading text, synonym of 'rt' ).\n",
    "\n",
    "binary (b): used to handle binary files (images, pdfs, etc)."
   ]
  },
  {
   "cell_type": "markdown",
   "id": "c95b3683-8238-40a4-ba72-4a0df6cd67d3",
   "metadata": {},
   "source": []
  },
  {
   "cell_type": "markdown",
   "id": "03e1d040-c7e1-466e-856c-4996b70568ce",
   "metadata": {},
   "source": [
    "Reading from a File"
   ]
  },
  {
   "cell_type": "code",
   "execution_count": 16,
   "id": "9a362a9b-cfb8-4f0c-adf4-d3a6db64c329",
   "metadata": {},
   "outputs": [
    {
     "name": "stdout",
     "output_type": "stream",
     "text": [
      "maharaja\n",
      "\n"
     ]
    }
   ],
   "source": [
    "f = open('abc.txt', 'r')\n",
    "text = f.read()\n",
    "print(text)\n",
    "f.close()"
   ]
  },
  {
   "cell_type": "code",
   "execution_count": 17,
   "id": "ddb2e878-b754-408d-b7a2-e8603e369bcf",
   "metadata": {},
   "outputs": [
    {
     "name": "stdout",
     "output_type": "stream",
     "text": [
      "An 'About Me' page should convey who you are, what your values and principles are, how you got to where you are, and why your product or service is important to you. \n"
     ]
    }
   ],
   "source": [
    "#Write mode \n",
    "\n",
    "f2 = open(\"abc.txt\" , \"w\")\n",
    "f2.write(\"An 'About Me' page should convey who you are, what your values and principles are, how you got to where you are, and why your product or service is important to you. \")\n",
    "f2.close()\n",
    "\n",
    "f3 = open(\"abc.txt\" , \"r\")\n",
    "data1 = f3.read()\n",
    "print(data1)\n",
    "\n",
    "f3.close()"
   ]
  },
  {
   "cell_type": "code",
   "execution_count": 18,
   "id": "56ddbead-2906-4caa-b70a-e95326514c29",
   "metadata": {},
   "outputs": [
    {
     "name": "stdout",
     "output_type": "stream",
     "text": [
      "An 'About Me' page should convey who you are, what your values and principles are, how you got to where you are, and why your product or service is important to you.  \n",
      " \n",
      " I like to read, I like to write; I like to think, I like to dream; I like to talk, I like to listen. I like to see the sunrise in the morning, I like to see the\n"
     ]
    }
   ],
   "source": [
    "#append mode \n",
    "\n",
    "f4 = open(\"abc.txt\" , \"a\")\n",
    "f4.write(\" \\n \\n I like to read, I like to write; I like to think, I like to dream; I like to talk, I like to listen. I like to see the sunrise in the morning, I like to see the\")\n",
    "f4.close()\n",
    "\n",
    "f5 = open(\"abc.txt\" , \"r\")\n",
    "d1 = f5.read()\n",
    "print(d1)\n",
    "f5.close()"
   ]
  },
  {
   "cell_type": "code",
   "execution_count": 25,
   "id": "5783e80b-b65f-4fed-8084-24e8f0f24958",
   "metadata": {},
   "outputs": [
    {
     "name": "stdout",
     "output_type": "stream",
     "text": [
      "\n"
     ]
    }
   ],
   "source": [
    "#mode a+ : append or read\n",
    "\n",
    "f6 = open(\"abc.txt\" , \"at+\")\n",
    "f6.write(\"\\n I am learning Python \")\n",
    "\n",
    "print(f6.read())\n",
    "\n",
    "f6.close()"
   ]
  },
  {
   "cell_type": "markdown",
   "id": "847e05b9-0366-4e6c-be42-c4cc5a4699bf",
   "metadata": {},
   "source": [
    "Readlines Method()\n",
    "- it is reads a single line from the file\n",
    "- if we want to read multiple line, we can use a loop."
   ]
  },
  {
   "cell_type": "code",
   "execution_count": 26,
   "id": "beb69286-bf82-4b76-92a1-1c287e3da2e1",
   "metadata": {},
   "outputs": [
    {
     "name": "stdout",
     "output_type": "stream",
     "text": [
      "An 'About Me' page should convey who you are, what your values and principles are, how you got to where you are, and why your product or service is important to you.  \n",
      "\n"
     ]
    }
   ],
   "source": [
    "#readline()\n",
    "f7 = open(\"abc.txt\" , \"r\")\n",
    "\n",
    "print(f7.readline())"
   ]
  },
  {
   "cell_type": "code",
   "execution_count": 29,
   "id": "e9b07052-9bf8-4286-b1cd-fcd9e116f0c7",
   "metadata": {},
   "outputs": [
    {
     "name": "stdout",
     "output_type": "stream",
     "text": [
      " I am learning Python \n"
     ]
    }
   ],
   "source": [
    "print(f7.readline())"
   ]
  },
  {
   "cell_type": "code",
   "execution_count": 41,
   "id": "118910e1-dbc8-4b85-9c07-a3c43133016e",
   "metadata": {},
   "outputs": [],
   "source": [
    "f7.close()"
   ]
  },
  {
   "cell_type": "code",
   "execution_count": 47,
   "id": "6c637360-11c3-45af-a2f5-c5bfd174521c",
   "metadata": {},
   "outputs": [
    {
     "name": "stdout",
     "output_type": "stream",
     "text": [
      "An 'About Me' page should convey who you are, what your values and principles are, how you got to where you are, and why your product or service is important to you.  \n",
      "\n",
      " \n",
      "\n",
      " I like to read, I like to write; I like to think, I like to dream; I like to talk, I like to listen. I like to see the sunrise in the morning, I like to see the\n",
      "\n",
      " I am learning Python Hey i am inside withHey i am inside withHey i am inside with\n",
      "\n",
      " <class 'str'>\n"
     ]
    }
   ],
   "source": [
    "a=open('abc.txt','r')\n",
    "while True:\n",
    "    line=a.readline()\n",
    "    print(line)\n",
    "    if not line:\n",
    "        print(line,type(line))\n",
    "        break\n",
    "a.close()"
   ]
  },
  {
   "cell_type": "code",
   "execution_count": 53,
   "id": "b0f684d8-945f-4f4e-9dbf-da7760c3c8e7",
   "metadata": {},
   "outputs": [
    {
     "name": "stdout",
     "output_type": "stream",
     "text": [
      "Marks of student 1 in Maths is: 112\n",
      "Marks of student 1 in English is: 90\n",
      "Marks of student 1 in SST is: 134\n",
      "56,45,67\n",
      "\n",
      "Marks of student 2 in Maths is: 24\n",
      "Marks of student 2 in English is: 70\n",
      "Marks of student 2 in SST is: 190\n",
      "12,35,95\n",
      "\n",
      "Marks of student 3 in Maths is: 170\n",
      "Marks of student 3 in English is: 198\n",
      "Marks of student 3 in SST is: 150\n",
      "85,99,75\n"
     ]
    }
   ],
   "source": [
    "f = open('marks.txt', 'r')\n",
    "i = 0\n",
    "while True:\n",
    "  i = i + 1\n",
    "  line = f.readline()\n",
    "  if not line:\n",
    "    break\n",
    "  m1 = int(line.split(\",\")[0])\n",
    "  m2 = int(line.split(\",\")[1])\n",
    "  m3 = int(line.split(\",\")[2])\n",
    "  print(f\"Marks of student {i} in Maths is: {m1*2}\")\n",
    "  print(f\"Marks of student {i} in English is: {m2*2}\")\n",
    "  print(f\"Marks of student {i} in SST is: {m3*2}\")\n",
    "\n",
    "  print(line)\n",
    "f.close()"
   ]
  },
  {
   "cell_type": "code",
   "execution_count": 42,
   "id": "68f52d9d-cbcd-4657-8d7c-f35b649aa170",
   "metadata": {},
   "outputs": [],
   "source": [
    "#With- Automatically close the file after you are done with it\n",
    "\n",
    "with open('abc.txt','a') as f8:\n",
    "    f8.write(\"Hey i am inside with\")"
   ]
  },
  {
   "cell_type": "code",
   "execution_count": 38,
   "id": "cccaca02-72ef-4e87-90d1-9c5909398109",
   "metadata": {},
   "outputs": [
    {
     "name": "stdout",
     "output_type": "stream",
     "text": [
      "An 'About Me' page should convey who you are, what your values and principles are, how you got to where you are, and why your product or service is important to you.  \n",
      " \n",
      " I like to read, I like to write; I like to think, I like to dream; I like to talk, I like to listen. I like to see the sunrise in the morning, I like to see the\n",
      " I am learning Python Hey i am inside withHey i am inside with\n"
     ]
    }
   ],
   "source": [
    "with open('abc.txt','r') as f9:\n",
    "    print(f9.read())"
   ]
  },
  {
   "cell_type": "markdown",
   "id": "a485cb27-86f2-47b3-b28b-3ba0e03c9981",
   "metadata": {},
   "source": [
    "Writeline Method()\n",
    "\n",
    "- write the sequence of strings to a file. \n",
    "- the seq can be any iterable obj, such as list of tuple"
   ]
  },
  {
   "cell_type": "code",
   "execution_count": 54,
   "id": "833cf657-ccc6-420b-a066-d93ac625290d",
   "metadata": {},
   "outputs": [],
   "source": [
    "f=open(\"marks2.txt\",'w')\n",
    "li=['line 1\\n','line 2\\n','line 3\\n',]\n",
    "f.writelines(li)\n",
    "f.close()"
   ]
  },
  {
   "cell_type": "markdown",
   "id": "98c7d92e-1bb3-450e-82a9-dc2b02ccc977",
   "metadata": {},
   "source": [
    "Seek and Tell Function\n",
    "- used to work with file obj and their position within the file.\n",
    "- Built in IO module which provide consistant interface of reading and writing to various file like obj. "
   ]
  },
  {
   "cell_type": "markdown",
   "id": "f1e9d2fc-80a4-45f2-be8f-9b157add4ded",
   "metadata": {},
   "source": [
    "Seek Function "
   ]
  },
  {
   "cell_type": "markdown",
   "id": "1407a3f7-3141-4b27-aa1b-8e0b1077497a",
   "metadata": {},
   "source": [
    "It will allows you to move the current position within a file to specific point."
   ]
  },
  {
   "cell_type": "code",
   "execution_count": 75,
   "id": "8fdcdaed-9ba7-4f80-ae6b-ffcb1f37208b",
   "metadata": {},
   "outputs": [
    {
     "name": "stdout",
     "output_type": "stream",
     "text": [
      " hell\n",
      "15\n",
      "o How\n"
     ]
    }
   ],
   "source": [
    "with open(\"marks2.txt\", 'r') as f:\n",
    "    f.seek(10)   #Move 10 byte ahead \n",
    "    data=f.read(5) #after 10 byte reads untill 50 byte\n",
    "    print(data)"
   ]
  },
  {
   "cell_type": "markdown",
   "id": "aece8c9c-6e47-4b32-93d4-46addc573902",
   "metadata": {},
   "source": [
    "Tell Function "
   ]
  },
  {
   "cell_type": "markdown",
   "id": "869ab1e0-21c6-40d9-9950-1aeb2ad5e44b",
   "metadata": {},
   "source": [
    "The tell() function returns the current position within the file, in bytes. "
   ]
  },
  {
   "cell_type": "code",
   "execution_count": 77,
   "id": "d1dc498b-731f-488b-8c7e-ac680ea44b57",
   "metadata": {},
   "outputs": [
    {
     "name": "stdout",
     "output_type": "stream",
     "text": [
      " hello\n",
      "16\n",
      " How \n"
     ]
    }
   ],
   "source": [
    "with open(\"marks2.txt\", 'r') as f:\n",
    "    f.seek(10)   #Move 10 byte ahead \n",
    "    data=f.read(6) #after 10 byte reads untill 50 byte\n",
    "    print(data)\n",
    "\n",
    "    print(f.tell())\n",
    "    data=f.read(5)\n",
    "    print(data)\n",
    "    "
   ]
  },
  {
   "cell_type": "code",
   "execution_count": null,
   "id": "4c393334-c186-43c1-af52-8cf71aa35fd5",
   "metadata": {},
   "outputs": [],
   "source": []
  },
  {
   "cell_type": "markdown",
   "id": "da2f4766-bcc3-4d58-bf77-5417fb552df6",
   "metadata": {},
   "source": [
    "Truncate Function "
   ]
  },
  {
   "cell_type": "markdown",
   "id": "46b8807b-98f6-4c1d-b740-47cb26977f1d",
   "metadata": {},
   "source": [
    "When you open a file in Python using the open function, you can specify the mode in which you want to open the file. If you specify the mode as 'w' or 'a', the file is opened in write mode and you can write to the file. However, if you want to truncate the file to a specific size, you can use the truncate function."
   ]
  },
  {
   "cell_type": "code",
   "execution_count": 82,
   "id": "881ffda6-6614-4e40-b5c0-ea9c07ce4b92",
   "metadata": {},
   "outputs": [
    {
     "name": "stdout",
     "output_type": "stream",
     "text": [
      "Hello\n"
     ]
    }
   ],
   "source": [
    "with open('marks2.txt', 'w') as f:\n",
    "  f.write('Hello World!')\n",
    "  f.truncate(5)\n",
    "\n",
    "with open('marks2.txt', 'r') as f:\n",
    "  print(f.read())"
   ]
  },
  {
   "cell_type": "code",
   "execution_count": null,
   "id": "70598103-d23f-41b4-9e8a-f13c9349c4fb",
   "metadata": {},
   "outputs": [],
   "source": []
  }
 ],
 "metadata": {
  "kernelspec": {
   "display_name": "Python 3 (ipykernel)",
   "language": "python",
   "name": "python3"
  },
  "language_info": {
   "codemirror_mode": {
    "name": "ipython",
    "version": 3
   },
   "file_extension": ".py",
   "mimetype": "text/x-python",
   "name": "python",
   "nbconvert_exporter": "python",
   "pygments_lexer": "ipython3",
   "version": "3.12.0"
  },
  "widgets": {
   "application/vnd.jupyter.widget-state+json": {
    "state": {},
    "version_major": 2,
    "version_minor": 0
   }
  }
 },
 "nbformat": 4,
 "nbformat_minor": 5
}
