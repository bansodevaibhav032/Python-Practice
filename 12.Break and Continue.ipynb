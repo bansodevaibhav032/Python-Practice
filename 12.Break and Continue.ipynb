{
 "cells": [
  {
   "cell_type": "markdown",
   "id": "24f4e2e7-ced4-4a4c-bf16-34b2a0deb822",
   "metadata": {},
   "source": [
    "*Break Statement:*\n",
    "The break statement enables a program to skip over a part of the code. A break statement terminates the very loop it lies within."
   ]
  },
  {
   "cell_type": "code",
   "execution_count": 23,
   "id": "3e7b1016-b899-4441-a37f-846a565633f7",
   "metadata": {},
   "outputs": [
    {
     "name": "stdout",
     "output_type": "stream",
     "text": [
      "0\tIs Number!\n",
      "1\tIs Number!\n",
      "2\tIs Number!\n",
      "3\tIs Number!\n",
      "4\tIs Number!\n",
      "5\tIs Number!\n",
      "6\tIs Number!\n",
      "7\tIs Number!\n",
      "8\tIs Number!\n",
      "9\tIs Number!\n",
      "10\tIs Number!\n",
      "11\tIs Number!\n",
      "12\tIs Number!\n",
      "13\tIs Number!\n",
      "14\tIs Number!\n",
      "15\tIs Number!\n",
      "16\tIs Number!\n",
      "17\tIs Number!\n",
      "18\tIs Number!\n",
      "19\tIs Number!\n",
      "20\tIs Number!\n",
      "21\tIs Number!\n",
      "22\tIs Number!\n",
      "23\tIs Number!\n",
      "24\tIs Number!\n",
      "25\tIs Number!\n",
      "26\tIs Number!\n",
      "27\tIs Number!\n",
      "28\tIs Number!\n",
      "29\tIs Number!\n",
      "30\tIs Number!\n",
      "31\tIs Number!\n",
      "32\tIs Number!\n",
      "33\tIs Number!\n",
      "34\tIs Number!\n",
      "35\tIs Number!\n",
      "36\tIs Number!\n",
      "37\tIs Number!\n",
      "38\tIs Number!\n",
      "39\tIs Number!\n",
      "40\tIs Number!\n",
      "41\tIs Number!\n",
      "42\tIs Number!\n",
      "43\tIs Number!\n",
      "44\tIs Number!\n",
      "45\tIs Number!\n",
      "46\tIs Number!\n",
      "47\tIs Number!\n",
      "48\tIs Number!\n",
      "49\tIs Number!\n",
      "50\tReached 50!\n"
     ]
    }
   ],
   "source": [
    "for i in range(0, 100):\n",
    "    print(i, end=\"\\t\")\n",
    "    if i == 50:\n",
    "        print(\"Reached 50!\")\n",
    "        break\n",
    "    else:\n",
    "        print(\"Is Number!\")\n"
   ]
  },
  {
   "cell_type": "code",
   "execution_count": 29,
   "id": "d7876d16-5387-4734-af02-e42031541c23",
   "metadata": {},
   "outputs": [
    {
     "name": "stdin",
     "output_type": "stream",
     "text": [
      "Enter a positive number:  -44\n"
     ]
    },
    {
     "name": "stdout",
     "output_type": "stream",
     "text": [
      "Your Entered Negetive Number! \n",
      "Enter Positive Number.\n"
     ]
    },
    {
     "name": "stdin",
     "output_type": "stream",
     "text": [
      "Enter a positive number:  -85\n"
     ]
    },
    {
     "name": "stdout",
     "output_type": "stream",
     "text": [
      "Your Entered Negetive Number! \n",
      "Enter Positive Number.\n"
     ]
    },
    {
     "name": "stdin",
     "output_type": "stream",
     "text": [
      "Enter a positive number:  77\n"
     ]
    },
    {
     "name": "stdout",
     "output_type": "stream",
     "text": [
      "Positive Number Is: 77\n",
      "Done for the loop...\n"
     ]
    }
   ],
   "source": [
    "while True:\n",
    "    try:\n",
    "        number = int(input(\"Enter a positive number: \"))\n",
    "        if number <= 0:\n",
    "            print(\"Your Entered Negetive Number! \\nEnter Positive Number.\")\n",
    "        else:\n",
    "            print(\"Positive Number Is:\",number)\n",
    "            break       \n",
    "        \n",
    "    except ValueError:\n",
    "        print(\"Enter a Number Only!!\")\n",
    "  \n",
    "print(\"Done for the loop...\")"
   ]
  },
  {
   "cell_type": "markdown",
   "id": "1212cb1e-3e1f-460a-8c6a-2e338eacf30f",
   "metadata": {},
   "source": [
    "*Continue Statement:*\n",
    "The continue statement skips the rest of the loop statements and causes the next iteration to occur."
   ]
  },
  {
   "cell_type": "code",
   "execution_count": 28,
   "id": "ba5db801-b699-4147-a578-8d98ceee8b1f",
   "metadata": {},
   "outputs": [
    {
     "name": "stdout",
     "output_type": "stream",
     "text": [
      "2\n",
      "4\n",
      "6\n",
      "8\n",
      "0\n",
      "12\n"
     ]
    }
   ],
   "source": [
    "for i in [1,2,3,4,6,8,0,11,12]:\n",
    "    if (i%2!=0):\n",
    "        continue\n",
    "    print(i)"
   ]
  },
  {
   "cell_type": "code",
   "execution_count": null,
   "id": "3814c20a-475b-4a4c-b621-cce18242dd5c",
   "metadata": {},
   "outputs": [],
   "source": []
  },
  {
   "cell_type": "code",
   "execution_count": null,
   "id": "475f46c7-86c3-4b21-82c0-642f15b62135",
   "metadata": {},
   "outputs": [],
   "source": []
  }
 ],
 "metadata": {
  "kernelspec": {
   "display_name": "Python 3 (ipykernel)",
   "language": "python",
   "name": "python3"
  },
  "language_info": {
   "codemirror_mode": {
    "name": "ipython",
    "version": 3
   },
   "file_extension": ".py",
   "mimetype": "text/x-python",
   "name": "python",
   "nbconvert_exporter": "python",
   "pygments_lexer": "ipython3",
   "version": "3.12.0"
  },
  "widgets": {
   "application/vnd.jupyter.widget-state+json": {
    "state": {},
    "version_major": 2,
    "version_minor": 0
   }
  }
 },
 "nbformat": 4,
 "nbformat_minor": 5
}
