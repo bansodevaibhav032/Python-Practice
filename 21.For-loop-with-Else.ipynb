{
 "cells": [
  {
   "cell_type": "markdown",
   "id": "056be387-16ef-4df9-8c30-7d8aace5c2e6",
   "metadata": {},
   "source": [
    "For Loop With Else.\n",
    "- python allows the else keyword to be used with the for and while loop too.\n",
    "- else block appear after body of the loop."
   ]
  },
  {
   "cell_type": "code",
   "execution_count": 1,
   "id": "61f79913-0eab-4d3c-82bb-a62e88875665",
   "metadata": {},
   "outputs": [
    {
     "name": "stdout",
     "output_type": "stream",
     "text": [
      "Sorry no i\n"
     ]
    }
   ],
   "source": [
    "for i in []:\n",
    "    print(i)\n",
    "else:\n",
    "    print(\"Sorry no i\")"
   ]
  },
  {
   "cell_type": "code",
   "execution_count": 6,
   "id": "b73b827b-5708-462a-9b5e-90df5a7ed072",
   "metadata": {},
   "outputs": [
    {
     "name": "stdout",
     "output_type": "stream",
     "text": [
      "0\n",
      "1\n",
      "2\n",
      "3\n",
      "4\n",
      "5\n",
      "6\n",
      "7\n",
      "8\n",
      "9\n"
     ]
    }
   ],
   "source": [
    "for i in range(10):\n",
    "    print(i)\n",
    "    if i==9:\n",
    "        break\n",
    "else:\n",
    "    print(\"Sorry no i\")"
   ]
  },
  {
   "cell_type": "code",
   "execution_count": 10,
   "id": "6a8d12c2-777d-4741-a467-b4400c06f0ce",
   "metadata": {},
   "outputs": [
    {
     "name": "stdout",
     "output_type": "stream",
     "text": [
      "0\n",
      "1\n",
      "2\n",
      "3\n",
      "4\n",
      "5\n"
     ]
    }
   ],
   "source": [
    "i=0\n",
    "while i<7:\n",
    "    print(i)\n",
    "    i=i+1\n",
    "    if i==6:\n",
    "        break\n",
    "else:\n",
    "    print(\"Sorry no i\")"
   ]
  },
  {
   "cell_type": "code",
   "execution_count": 16,
   "id": "a3cfa272-9ded-4f37-a453-66cbc492b413",
   "metadata": {},
   "outputs": [
    {
     "name": "stdout",
     "output_type": "stream",
     "text": [
      "Iteration no 1 in for loop.\n",
      "Iteration no 2 in for loop.\n",
      "Iteration no 3 in for loop.\n",
      "Iteration no 4 in for loop.\n",
      "Iteration no 5 in for loop.\n"
     ]
    }
   ],
   "source": [
    "for i in range(5):\n",
    "    print(\"Iteration no {} in for loop.\".format(i+1))\n",
    "    if i==4:\n",
    "        break\n",
    "else:\n",
    "    print(\"Sorry no i\")"
   ]
  },
  {
   "cell_type": "code",
   "execution_count": null,
   "id": "6e216bb4-a4aa-4d28-8fa7-47c65d87cfb2",
   "metadata": {},
   "outputs": [],
   "source": []
  }
 ],
 "metadata": {
  "kernelspec": {
   "display_name": "Python 3 (ipykernel)",
   "language": "python",
   "name": "python3"
  },
  "language_info": {
   "codemirror_mode": {
    "name": "ipython",
    "version": 3
   },
   "file_extension": ".py",
   "mimetype": "text/x-python",
   "name": "python",
   "nbconvert_exporter": "python",
   "pygments_lexer": "ipython3",
   "version": "3.12.0"
  },
  "widgets": {
   "application/vnd.jupyter.widget-state+json": {
    "state": {},
    "version_major": 2,
    "version_minor": 0
   }
  }
 },
 "nbformat": 4,
 "nbformat_minor": 5
}
