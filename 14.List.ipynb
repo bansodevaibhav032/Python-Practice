{
 "cells": [
  {
   "cell_type": "markdown",
   "id": "eadba46c-61a4-4f92-bffb-dd32aa32859c",
   "metadata": {},
   "source": [
    "List \n",
    "- it stores collection of items\n",
    "- A list is written with [, , ,].\n",
    "- List is collection of homogeneous and heterogeneous objects/items.\n",
    "    - Homogeneous List : A = [10,20,30,40]   B = [\"ABC\", \"PQR\", \"XYZ\"]\n",
    "    - Heterogeneous List : C = [10, 10.22, \"XYZ\"]\n",
    "- Ordered collection on items\n",
    "- Changeble/Mutable\n",
    "- Allow Duplicate\n",
    "- Individual items of list can be accessed by \"Index\".\n",
    "- There are two types of indexing \n",
    "    -1. Positive Index.\n",
    "    -2. Negative Index."
   ]
  },
  {
   "cell_type": "code",
   "execution_count": 36,
   "id": "92ab6700-d0de-43ac-8e58-f35fec9cbe97",
   "metadata": {},
   "outputs": [],
   "source": [
    "# Homogeneous Lists\n",
    "A = [10,20,30,40]    \n",
    "B = [\"ABCDE\", \"PQRS\", \"XYZ\"]\n",
    "# Heterogeneous List\n",
    "C = [10, 10.22, \"XYZ\"]"
   ]
  },
  {
   "cell_type": "code",
   "execution_count": 5,
   "id": "059dcbd4-de20-4b57-8c83-2948164e11ba",
   "metadata": {},
   "outputs": [
    {
     "name": "stdout",
     "output_type": "stream",
     "text": [
      "50\n"
     ]
    }
   ],
   "source": [
    "# add 20 into 30\n",
    "x= A[2] + 20\n",
    "print(x)"
   ]
  },
  {
   "cell_type": "code",
   "execution_count": 6,
   "id": "9da29dc8-2d01-434a-8eb6-f2a3454fc5d5",
   "metadata": {},
   "outputs": [
    {
     "name": "stdout",
     "output_type": "stream",
     "text": [
      "100\n",
      "22\n",
      "11\n",
      "100\n",
      "11\n"
     ]
    }
   ],
   "source": [
    "#Indexing \n",
    "\n",
    "x=[11,22,33,44,55,66,77,88,99,100]\n",
    "print(x[-1])\n",
    "print(x[1])\n",
    "print(x[-10])\n",
    "print(x[9])\n",
    "print(x[-10])\n"
   ]
  },
  {
   "cell_type": "code",
   "execution_count": 7,
   "id": "f7be28db-45a5-4cb5-86fc-2638a8264014",
   "metadata": {},
   "outputs": [
    {
     "name": "stdout",
     "output_type": "stream",
     "text": [
      "122\n"
     ]
    }
   ],
   "source": [
    "# WAP to add first and last number of list\n",
    "print(x[1] + x[-1])"
   ]
  },
  {
   "cell_type": "code",
   "execution_count": 8,
   "id": "8721ec96-13e5-4575-a5e7-eb6eddd5b456",
   "metadata": {},
   "outputs": [
    {
     "name": "stdout",
     "output_type": "stream",
     "text": [
      "[11, 22, 33, 44, 55, 66, 77, 88, 99, 100]\n",
      "[100, 22, 33, 44, 55, 66, 77, 88, 99, 11]\n"
     ]
    }
   ],
   "source": [
    "# WAP to add first and last number of list\n",
    "\n",
    "print(x)\n",
    "i=x[0]\n",
    "x[0]=x[9]\n",
    "x[9]=i\n",
    "print(x)"
   ]
  },
  {
   "cell_type": "code",
   "execution_count": 9,
   "id": "4fab478f-f27b-497a-8bca-c9fcf8fa3330",
   "metadata": {},
   "outputs": [
    {
     "name": "stdout",
     "output_type": "stream",
     "text": [
      "11\n",
      "22\n",
      "33\n",
      "44\n",
      "55\n",
      "66\n",
      "77\n",
      "88\n",
      "99\n",
      "100\n"
     ]
    }
   ],
   "source": [
    "x=[11,22,33,44,55,66,77,88,99,100]\n",
    "for i in x:\n",
    "    print(i)"
   ]
  },
  {
   "cell_type": "code",
   "execution_count": 24,
   "id": "fb5bde56-5b72-4a24-8039-09882db9e533",
   "metadata": {},
   "outputs": [
    {
     "name": "stdout",
     "output_type": "stream",
     "text": [
      "100\n",
      "99\n",
      "88\n",
      "77\n",
      "66\n",
      "55\n",
      "44\n",
      "33\n",
      "22\n",
      "11\n",
      "[11, 22, 33, 44, 55, 66, 77, 88, 99, 100]\n"
     ]
    }
   ],
   "source": [
    "#Loops in a loop \n",
    "\n",
    "x=[11,22,33,44,55,66,77,88,99,100]\n",
    "for i in reversed(x):\n",
    "    print(i)\n",
    "print(x)"
   ]
  },
  {
   "cell_type": "code",
   "execution_count": 25,
   "id": "c4fd6738-dd78-4205-82ac-a07605388863",
   "metadata": {},
   "outputs": [
    {
     "name": "stdout",
     "output_type": "stream",
     "text": [
      "100\n",
      "99\n",
      "88\n",
      "77\n",
      "66\n",
      "55\n",
      "44\n",
      "33\n",
      "22\n",
      "11\n",
      "[11, 22, 33, 44, 55, 66, 77, 88, 99, 100]\n"
     ]
    }
   ],
   "source": [
    "#Reversed List \n",
    "for i in range(len(x) -1,-1,-1):\n",
    "    print(x[i])\n",
    "print(x)"
   ]
  },
  {
   "cell_type": "code",
   "execution_count": 26,
   "id": "a66103ec-70ec-4228-8530-207cbb39c2be",
   "metadata": {},
   "outputs": [
    {
     "name": "stdout",
     "output_type": "stream",
     "text": [
      "<class 'list'>\n",
      "[10, 20, 30, 40]\n"
     ]
    }
   ],
   "source": [
    "#Print All List Items \n",
    "print(x)\n",
    "print(A[:])"
   ]
  },
  {
   "cell_type": "code",
   "execution_count": null,
   "id": "ed867e37-9d8b-401e-9b06-fce0e8635e0a",
   "metadata": {},
   "outputs": [],
   "source": [
    "#skid first 2 items in a atring"
   ]
  },
  {
   "cell_type": "code",
   "execution_count": 27,
   "id": "2e5f23b8-bd70-43b0-bd0c-9b0ef63fdc77",
   "metadata": {},
   "outputs": [
    {
     "name": "stdout",
     "output_type": "stream",
     "text": [
      "[30, 40]\n",
      "[22, 55, 88]\n"
     ]
    }
   ],
   "source": [
    "print(A[2:])\n",
    "print(x[1:-1:3])"
   ]
  },
  {
   "cell_type": "code",
   "execution_count": 20,
   "id": "f36a0bd3-226a-45bf-a05c-0ab52b70e43d",
   "metadata": {},
   "outputs": [
    {
     "name": "stdout",
     "output_type": "stream",
     "text": [
      "[10, 30]\n"
     ]
    }
   ],
   "source": [
    "# Jump Index\n",
    "print(A[::2])"
   ]
  },
  {
   "cell_type": "code",
   "execution_count": 13,
   "id": "043971ae-a7a7-45b8-b43a-a7b5c6378585",
   "metadata": {},
   "outputs": [
    {
     "name": "stdout",
     "output_type": "stream",
     "text": [
      "([10, 20, 30, 40], ['ABC', 'PQR', 'XYZ'], [10, 10.22, 'XYZ'])\n",
      "In a For Loop Value: [10, 20, 30, 40]\n",
      "In a For Loop Value: ['ABC', 'PQR', 'XYZ']\n",
      "In a For Loop Value: [10, 10.22, 'XYZ']\n",
      "(<class 'list'>, <class 'list'>, <class 'list'>)\n"
     ]
    }
   ],
   "source": [
    "x=(A,B,C)\n",
    "print(x)\n",
    "for i in x:\n",
    "    print(\"In a For Loop Value:\",i)\n",
    "\n",
    "y=(type(A), type(B), type(C))\n",
    "print(y)\n"
   ]
  },
  {
   "cell_type": "markdown",
   "id": "3bf7975c-5128-4976-8f60-b0bc28466e85",
   "metadata": {},
   "source": [
    "List Comprehension \n",
    "- It is Used for creating lists from other iterbles like Lists, tuple, dict, sets and even in array and strings\n",
    "- syntax : lst=[Exp(i) for i in ierable if condition]\n",
    "  "
   ]
  },
  {
   "cell_type": "code",
   "execution_count": 32,
   "id": "5b0543af-a36a-41a7-a390-1425ff13ea8d",
   "metadata": {},
   "outputs": [
    {
     "name": "stdout",
     "output_type": "stream",
     "text": [
      "[10, 20, 30, 40]\n",
      "[11, 21, 31, 41]\n"
     ]
    }
   ],
   "source": [
    "print(A)\n",
    "z=[i+1 for i in A ]\n",
    "print(z)"
   ]
  },
  {
   "cell_type": "code",
   "execution_count": 31,
   "id": "549e3448-bcad-4a0f-b581-00fe91b5d0dd",
   "metadata": {},
   "outputs": [
    {
     "name": "stdout",
     "output_type": "stream",
     "text": [
      "[11, 22, 33, 44, 55, 66, 77, 88, 99, 100]\n",
      "[484, 1936, 4356, 7744, 10000]\n"
     ]
    }
   ],
   "source": [
    "print(x)\n",
    "y=[i*i for i in x if i%2==0]\n",
    "print(y)"
   ]
  },
  {
   "cell_type": "code",
   "execution_count": 38,
   "id": "9db792ec-ec39-4d08-8a65-060b09c54cbc",
   "metadata": {},
   "outputs": [
    {
     "name": "stdout",
     "output_type": "stream",
     "text": [
      "['ABCDE', 'PQRS', 'XYZ']\n",
      "['ABCDE', 'PQRS']\n"
     ]
    }
   ],
   "source": [
    "print(B)\n",
    "b=[i for i in B if (len(i)>=4)]\n",
    "print(b)"
   ]
  },
  {
   "cell_type": "code",
   "execution_count": 14,
   "id": "078bc93f-dd9f-4fad-85aa-cd45857a2906",
   "metadata": {},
   "outputs": [
    {
     "data": {
      "text/plain": [
       "[1, 2, 3]"
      ]
     },
     "execution_count": 14,
     "metadata": {},
     "output_type": "execute_result"
    }
   ],
   "source": [
    "a=[1,2,3]\n",
    "a"
   ]
  },
  {
   "cell_type": "markdown",
   "id": "563ea393-5e06-455d-8b51-a84af7d0bbea",
   "metadata": {},
   "source": [
    "List Method "
   ]
  },
  {
   "cell_type": "code",
   "execution_count": 74,
   "id": "8f797b39-dad6-40cc-8e76-f32a893a83a4",
   "metadata": {},
   "outputs": [
    {
     "name": "stdout",
     "output_type": "stream",
     "text": [
      "[0, 1, 9, 11, 35, 45, 77, 99]\n"
     ]
    }
   ],
   "source": [
    "# list.sort()\n",
    "\n",
    "a=[11,1,45,35,77,99,9,0]\n",
    "a.sort()\n",
    "print(a)"
   ]
  },
  {
   "cell_type": "code",
   "execution_count": 47,
   "id": "4041ddf0-eb25-40a9-935a-cf9a02b7e44d",
   "metadata": {},
   "outputs": [
    {
     "name": "stdout",
     "output_type": "stream",
     "text": [
      "[99, 77, 45, 35, 11, 9, 1, 0]\n"
     ]
    }
   ],
   "source": [
    "# print the list in descending order \n",
    "\n",
    "a.sort(reverse=True)\n",
    "print(a)"
   ]
  },
  {
   "cell_type": "code",
   "execution_count": 49,
   "id": "8d9c6503-69e8-4fb6-a178-c11c0f0fc26f",
   "metadata": {},
   "outputs": [
    {
     "name": "stdout",
     "output_type": "stream",
     "text": [
      "[99, 77, 45, 35, 11, 9, 1, 0]\n"
     ]
    }
   ],
   "source": [
    "# Reverse()\n",
    "\n",
    "a.reverse()\n",
    "print(a)"
   ]
  },
  {
   "cell_type": "code",
   "execution_count": 55,
   "id": "fa722d7d-289b-4428-98c1-29345d187e1a",
   "metadata": {},
   "outputs": [
    {
     "name": "stdout",
     "output_type": "stream",
     "text": [
      "[99, 77, 45, 35, 11, 9, 1, 0, 1]\n",
      "[99, 77, 45, 35, 11, 9, 1, 0, 1, 1]\n",
      "6\n"
     ]
    }
   ],
   "source": [
    "# Index()- Fist occurence count\n",
    "\n",
    "print(a)\n",
    "a.append(1)\n",
    "print(a)\n",
    "print(a.index(1))"
   ]
  },
  {
   "cell_type": "code",
   "execution_count": 76,
   "id": "468afd0e-740e-45b0-a7f9-2374d537e097",
   "metadata": {},
   "outputs": [
    {
     "name": "stdout",
     "output_type": "stream",
     "text": [
      "8\n",
      "[33, 1, 9, 11, 35, 45, 77, 99]\n",
      "[33, 1, 9, 11, 35, 45, 77, 99]\n"
     ]
    }
   ],
   "source": [
    "#both list value should be changed becouse list c is a reference of the list a.\n",
    "print(len(a))\n",
    "c=a\n",
    "a[0]=33\n",
    "print(a)\n",
    "print(c)"
   ]
  },
  {
   "cell_type": "code",
   "execution_count": 77,
   "id": "9c486f04-2942-49dd-a2d4-b9a5183a8457",
   "metadata": {},
   "outputs": [
    {
     "name": "stdout",
     "output_type": "stream",
     "text": [
      "[33, 1, 9, 11, 35, 45, 77, 99]\n"
     ]
    }
   ],
   "source": [
    "# copy\n",
    "\n",
    "b=a.copy()\n",
    "print(b)"
   ]
  },
  {
   "cell_type": "code",
   "execution_count": 79,
   "id": "f6cbf72f-4194-402d-813f-603680b73fc0",
   "metadata": {},
   "outputs": [
    {
     "name": "stdout",
     "output_type": "stream",
     "text": [
      "[33, 666, 1, 9, 11, 35, 45, 77, 99]\n"
     ]
    }
   ],
   "source": [
    "#Insert()\n",
    "\n",
    "b.insert(1,666)\n",
    "print(b)"
   ]
  },
  {
   "cell_type": "code",
   "execution_count": 81,
   "id": "c2bc6894-0930-4bf7-a46c-d15916c46fed",
   "metadata": {},
   "outputs": [
    {
     "name": "stdout",
     "output_type": "stream",
     "text": [
      "[33, 1, 9, 11, 35, 45, 77, 99]\n",
      "[33, 1, 9, 11, 35, 45, 77, 99, 111, 222, 333]\n"
     ]
    }
   ],
   "source": [
    "#Extend() -Append in the last index.\n",
    "\n",
    "\n",
    "print(a)\n",
    "g=[111,222,333]\n",
    "a.extend(g)\n",
    "print(a)"
   ]
  },
  {
   "cell_type": "code",
   "execution_count": null,
   "id": "106cf0b6-0f6b-43f2-a26f-1c0111225b94",
   "metadata": {},
   "outputs": [],
   "source": []
  }
 ],
 "metadata": {
  "kernelspec": {
   "display_name": "Python 3 (ipykernel)",
   "language": "python",
   "name": "python3"
  },
  "language_info": {
   "codemirror_mode": {
    "name": "ipython",
    "version": 3
   },
   "file_extension": ".py",
   "mimetype": "text/x-python",
   "name": "python",
   "nbconvert_exporter": "python",
   "pygments_lexer": "ipython3",
   "version": "3.12.0"
  },
  "widgets": {
   "application/vnd.jupyter.widget-state+json": {
    "state": {},
    "version_major": 2,
    "version_minor": 0
   }
  }
 },
 "nbformat": 4,
 "nbformat_minor": 5
}
