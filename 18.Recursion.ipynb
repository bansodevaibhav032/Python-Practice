{
 "cells": [
  {
   "cell_type": "markdown",
   "id": "355bbde5-606d-4aa0-a9d7-f2b8c915eadf",
   "metadata": {},
   "source": [
    "Recursion\n",
    "- Process of defining something in terms of itself\n",
    "- function can call other function these type termed as recursion function "
   ]
  },
  {
   "cell_type": "markdown",
   "id": "4e8ba082-fc18-4f71-a004-f79beb7de46d",
   "metadata": {},
   "source": [
    "#factorial(7) 7*6*5*4*3*2*1\n",
    "#factorial(6)  6*5*4*3*2*1\n",
    "#factorial(5)   5*4*3*2*1\n",
    "#factorial(4)    4*3*2*1\n",
    "\n",
    "#factorial(0)      1  \n"
   ]
  },
  {
   "cell_type": "code",
   "execution_count": 2,
   "id": "e8922de8-a7a4-4363-8f6f-409980bcf052",
   "metadata": {},
   "outputs": [
    {
     "name": "stdout",
     "output_type": "stream",
     "text": [
      "Number: 2\n",
      "fact: 2\n"
     ]
    }
   ],
   "source": [
    "def fact(num):\n",
    "    if(num==1 or num==0):\n",
    "        return 1\n",
    "    else:\n",
    "        return(num* fact(num-1))\n",
    "\n",
    "num=2\n",
    "print('Number:',num)\n",
    "print('fact:',fact(num))"
   ]
  },
  {
   "cell_type": "code",
   "execution_count": null,
   "id": "382402e7-5f8f-4f76-80ac-1a0238d03322",
   "metadata": {},
   "outputs": [],
   "source": []
  }
 ],
 "metadata": {
  "kernelspec": {
   "display_name": "Python 3 (ipykernel)",
   "language": "python",
   "name": "python3"
  },
  "language_info": {
   "codemirror_mode": {
    "name": "ipython",
    "version": 3
   },
   "file_extension": ".py",
   "mimetype": "text/x-python",
   "name": "python",
   "nbconvert_exporter": "python",
   "pygments_lexer": "ipython3",
   "version": "3.12.0"
  },
  "widgets": {
   "application/vnd.jupyter.widget-state+json": {
    "state": {},
    "version_major": 2,
    "version_minor": 0
   }
  }
 },
 "nbformat": 4,
 "nbformat_minor": 5
}
